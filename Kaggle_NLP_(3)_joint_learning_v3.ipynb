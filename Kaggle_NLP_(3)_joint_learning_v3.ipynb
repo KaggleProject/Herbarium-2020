{
  "nbformat": 4,
  "nbformat_minor": 0,
  "metadata": {
    "colab": {
      "name": "Kaggle_NLP_(3) joint-learning_v3",
      "provenance": [],
      "collapsed_sections": [],
      "machine_shape": "hm"
    },
    "kernelspec": {
      "name": "python3",
      "display_name": "Python 3"
    },
    "accelerator": "GPU"
  },
  "cells": [
    {
      "cell_type": "markdown",
      "metadata": {
        "id": "5QBGuPfG_xic",
        "colab_type": "text"
      },
      "source": [
        "# Setting"
      ]
    },
    {
      "cell_type": "code",
      "metadata": {
        "id": "YFIu6l2P9EaG",
        "colab_type": "code",
        "outputId": "12e45451-db8c-4fd4-db26-2d2feb6aac4a",
        "colab": {
          "resources": {
            "http://localhost:8080/nbextensions/google.colab/files.js": {
              "data": "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",
              "ok": true,
              "headers": [
                [
                  "content-type",
                  "application/javascript"
                ]
              ],
              "status": 200,
              "status_text": ""
            }
          },
          "base_uri": "https://localhost:8080/",
          "height": 287
        }
      },
      "source": [
        "!pip install kaggle\n",
        "from google.colab import files\n",
        "files.upload()"
      ],
      "execution_count": 0,
      "outputs": [
        {
          "output_type": "stream",
          "text": [
            "Requirement already satisfied: kaggle in /usr/local/lib/python3.6/dist-packages (1.5.6)\n",
            "Requirement already satisfied: six>=1.10 in /usr/local/lib/python3.6/dist-packages (from kaggle) (1.12.0)\n",
            "Requirement already satisfied: tqdm in /usr/local/lib/python3.6/dist-packages (from kaggle) (4.41.1)\n",
            "Requirement already satisfied: certifi in /usr/local/lib/python3.6/dist-packages (from kaggle) (2020.4.5.1)\n",
            "Requirement already satisfied: python-slugify in /usr/local/lib/python3.6/dist-packages (from kaggle) (4.0.0)\n",
            "Requirement already satisfied: requests in /usr/local/lib/python3.6/dist-packages (from kaggle) (2.23.0)\n",
            "Requirement already satisfied: urllib3<1.25,>=1.21.1 in /usr/local/lib/python3.6/dist-packages (from kaggle) (1.24.3)\n",
            "Requirement already satisfied: python-dateutil in /usr/local/lib/python3.6/dist-packages (from kaggle) (2.8.1)\n",
            "Requirement already satisfied: text-unidecode>=1.3 in /usr/local/lib/python3.6/dist-packages (from python-slugify->kaggle) (1.3)\n",
            "Requirement already satisfied: chardet<4,>=3.0.2 in /usr/local/lib/python3.6/dist-packages (from requests->kaggle) (3.0.4)\n",
            "Requirement already satisfied: idna<3,>=2.5 in /usr/local/lib/python3.6/dist-packages (from requests->kaggle) (2.9)\n"
          ],
          "name": "stdout"
        },
        {
          "output_type": "display_data",
          "data": {
            "text/html": [
              "\n",
              "     <input type=\"file\" id=\"files-e0ab87fe-a412-4606-8e1a-0c0dbe5d207e\" name=\"files[]\" multiple disabled />\n",
              "     <output id=\"result-e0ab87fe-a412-4606-8e1a-0c0dbe5d207e\">\n",
              "      Upload widget is only available when the cell has been executed in the\n",
              "      current browser session. Please rerun this cell to enable.\n",
              "      </output>\n",
              "      <script src=\"/nbextensions/google.colab/files.js\"></script> "
            ],
            "text/plain": [
              "<IPython.core.display.HTML object>"
            ]
          },
          "metadata": {
            "tags": []
          }
        },
        {
          "output_type": "stream",
          "text": [
            "Saving kaggle.json to kaggle.json\n"
          ],
          "name": "stdout"
        },
        {
          "output_type": "execute_result",
          "data": {
            "text/plain": [
              "{'kaggle.json': b'{\"username\":\"young917\",\"key\":\"38554d8ee11a16273014fb43b7fdc0a1\"}'}"
            ]
          },
          "metadata": {
            "tags": []
          },
          "execution_count": 1
        }
      ]
    },
    {
      "cell_type": "code",
      "metadata": {
        "id": "nrwHcSzt-JoR",
        "colab_type": "code",
        "outputId": "f98dfd50-6d47-48b5-ad08-e0d74ff23ce6",
        "colab": {
          "base_uri": "https://localhost:8080/",
          "height": 34
        }
      },
      "source": [
        "%ls -1ha kaggle.json"
      ],
      "execution_count": 0,
      "outputs": [
        {
          "output_type": "stream",
          "text": [
            "kaggle.json\n"
          ],
          "name": "stdout"
        }
      ]
    },
    {
      "cell_type": "code",
      "metadata": {
        "id": "c7YFa6U8-QCz",
        "colab_type": "code",
        "outputId": "709e15e6-44a9-4c13-b7fd-5d0f89da12c8",
        "colab": {
          "base_uri": "https://localhost:8080/",
          "height": 419
        }
      },
      "source": [
        "!mkdir -p ~/.kaggle\n",
        "!cp kaggle.json ~/.kaggle/\n",
        "# Permission Warning 이 일어나지 않도록 \n",
        "!chmod 600 ~/.kaggle/kaggle.json\n",
        "# 본인이 참가한 모든 대회 보기 \n",
        "!kaggle competitions list"
      ],
      "execution_count": 0,
      "outputs": [
        {
          "output_type": "stream",
          "text": [
            "Warning: Looks like you're using an outdated API Version, please consider updating (server 1.5.6 / client 1.5.4)\n",
            "ref                                               deadline             category            reward  teamCount  userHasEntered  \n",
            "------------------------------------------------  -------------------  ---------------  ---------  ---------  --------------  \n",
            "digit-recognizer                                  2030-01-01 00:00:00  Getting Started  Knowledge       3172           False  \n",
            "titanic                                           2030-01-01 00:00:00  Getting Started  Knowledge      23787           False  \n",
            "house-prices-advanced-regression-techniques       2030-01-01 00:00:00  Getting Started  Knowledge       5387            True  \n",
            "connectx                                          2030-01-01 00:00:00  Getting Started  Knowledge        384           False  \n",
            "nlp-getting-started                               2030-01-01 00:00:00  Getting Started      Kudos       1687            True  \n",
            "competitive-data-science-predict-future-sales     2020-12-31 23:59:00  Playground           Kudos       7304           False  \n",
            "siim-isic-melanoma-classification                 2020-08-17 23:59:00  Featured           $30,000        897           False  \n",
            "global-wheat-detection                            2020-08-04 23:59:00  Research           $15,000        840           False  \n",
            "open-images-object-detection-rvc-2020             2020-07-31 16:00:00  Playground       Knowledge         29           False  \n",
            "open-images-instance-segmentation-rvc-2020        2020-07-31 16:00:00  Playground       Knowledge          6           False  \n",
            "hashcode-photo-slideshow                          2020-07-27 23:59:00  Playground       Knowledge         36           False  \n",
            "prostate-cancer-grade-assessment                  2020-07-22 23:59:00  Featured           $25,000        568           False  \n",
            "alaska2-image-steganalysis                        2020-07-20 23:59:00  Research           $25,000        538           False  \n",
            "halite                                            2020-06-30 23:59:00  Featured             Kudos          0           False  \n",
            "m5-forecasting-accuracy                           2020-06-30 23:59:00  Featured           $50,000       4955            True  \n",
            "m5-forecasting-uncertainty                        2020-06-30 23:59:00  Featured           $50,000        633           False  \n",
            "trends-assessment-prediction                      2020-06-29 23:59:00  Research           $25,000        705           False  \n",
            "jigsaw-multilingual-toxic-comment-classification  2020-06-22 23:59:00  Featured           $50,000       1436           False  \n",
            "tweet-sentiment-extraction                        2020-06-16 23:59:00  Featured           $15,000       2135           False  \n",
            "trec-covid-information-retrieval                  2020-06-03 11:00:00  Research             Kudos         19           False  \n"
          ],
          "name": "stdout"
        }
      ]
    },
    {
      "cell_type": "code",
      "metadata": {
        "id": "br7qO0LD9IPV",
        "colab_type": "code",
        "outputId": "1286196b-1c89-4009-98f5-e8c4887f8f87",
        "colab": {
          "base_uri": "https://localhost:8080/",
          "height": 192
        }
      },
      "source": [
        "!kaggle competitions download -c nlp-getting-started"
      ],
      "execution_count": 0,
      "outputs": [
        {
          "output_type": "stream",
          "text": [
            "Warning: Looks like you're using an outdated API Version, please consider updating (server 1.5.6 / client 1.5.4)\n",
            "Downloading test.csv to /content\n",
            "  0% 0.00/411k [00:00<?, ?B/s]\n",
            "100% 411k/411k [00:00<00:00, 56.5MB/s]\n",
            "Downloading sample_submission.csv to /content\n",
            "  0% 0.00/22.2k [00:00<?, ?B/s]\n",
            "100% 22.2k/22.2k [00:00<00:00, 20.1MB/s]\n",
            "Downloading train.csv to /content\n",
            "  0% 0.00/965k [00:00<?, ?B/s]\n",
            "100% 965k/965k [00:00<00:00, 64.3MB/s]\n"
          ],
          "name": "stdout"
        }
      ]
    },
    {
      "cell_type": "markdown",
      "metadata": {
        "id": "yXNDtGV1_w3D",
        "colab_type": "text"
      },
      "source": [
        "# **Data Load**"
      ]
    },
    {
      "cell_type": "code",
      "metadata": {
        "id": "0n6xS_rk_A51",
        "colab_type": "code",
        "outputId": "a6f2445f-e980-429f-95ae-82054536fc46",
        "colab": {
          "base_uri": "https://localhost:8080/",
          "height": 107
        }
      },
      "source": [
        "import pandas as pd\n",
        "import numpy as np\n",
        "import matplotlib.pyplot as plt\n",
        "import seaborn as sns\n",
        "%matplotlib inline\n",
        "pd.set_option('display.max_colwidth', -1)\n",
        "pd.set_option('display.max_rows', 200)\n",
        "import spacy\n",
        "\n",
        "plt.rcParams[\"figure.figsize\"] = (15,5)"
      ],
      "execution_count": 0,
      "outputs": [
        {
          "output_type": "stream",
          "text": [
            "/usr/local/lib/python3.6/dist-packages/statsmodels/tools/_testing.py:19: FutureWarning: pandas.util.testing is deprecated. Use the functions in the public API at pandas.testing instead.\n",
            "  import pandas.util.testing as tm\n",
            "/usr/local/lib/python3.6/dist-packages/ipykernel_launcher.py:6: FutureWarning: Passing a negative integer is deprecated in version 1.0 and will not be supported in future version. Instead, use None to not limit the column width.\n",
            "  \n"
          ],
          "name": "stderr"
        }
      ]
    },
    {
      "cell_type": "code",
      "metadata": {
        "id": "6ztVF01h_SWH",
        "colab_type": "code",
        "outputId": "460be4ca-a99f-473c-e061-d9483070c2fa",
        "colab": {
          "base_uri": "https://localhost:8080/",
          "height": 34
        }
      },
      "source": [
        "train = pd.read_csv('./train.csv')\n",
        "test = pd.read_csv('./test.csv')\n",
        "print(len(test))"
      ],
      "execution_count": 0,
      "outputs": [
        {
          "output_type": "stream",
          "text": [
            "3263\n"
          ],
          "name": "stdout"
        }
      ]
    },
    {
      "cell_type": "code",
      "metadata": {
        "id": "XeVPDZ8u_Q4C",
        "colab_type": "code",
        "outputId": "ba0273cf-2a2b-4c10-a455-2b52d2c30c77",
        "colab": {
          "base_uri": "https://localhost:8080/",
          "height": 1000
        }
      },
      "source": [
        "train.head(40)"
      ],
      "execution_count": 0,
      "outputs": [
        {
          "output_type": "execute_result",
          "data": {
            "text/html": [
              "<div>\n",
              "<style scoped>\n",
              "    .dataframe tbody tr th:only-of-type {\n",
              "        vertical-align: middle;\n",
              "    }\n",
              "\n",
              "    .dataframe tbody tr th {\n",
              "        vertical-align: top;\n",
              "    }\n",
              "\n",
              "    .dataframe thead th {\n",
              "        text-align: right;\n",
              "    }\n",
              "</style>\n",
              "<table border=\"1\" class=\"dataframe\">\n",
              "  <thead>\n",
              "    <tr style=\"text-align: right;\">\n",
              "      <th></th>\n",
              "      <th>id</th>\n",
              "      <th>keyword</th>\n",
              "      <th>location</th>\n",
              "      <th>text</th>\n",
              "      <th>target</th>\n",
              "    </tr>\n",
              "  </thead>\n",
              "  <tbody>\n",
              "    <tr>\n",
              "      <th>0</th>\n",
              "      <td>1</td>\n",
              "      <td>NaN</td>\n",
              "      <td>NaN</td>\n",
              "      <td>Our Deeds are the Reason of this #earthquake May ALLAH Forgive us all</td>\n",
              "      <td>1</td>\n",
              "    </tr>\n",
              "    <tr>\n",
              "      <th>1</th>\n",
              "      <td>4</td>\n",
              "      <td>NaN</td>\n",
              "      <td>NaN</td>\n",
              "      <td>Forest fire near La Ronge Sask. Canada</td>\n",
              "      <td>1</td>\n",
              "    </tr>\n",
              "    <tr>\n",
              "      <th>2</th>\n",
              "      <td>5</td>\n",
              "      <td>NaN</td>\n",
              "      <td>NaN</td>\n",
              "      <td>All residents asked to 'shelter in place' are being notified by officers. No other evacuation or shelter in place orders are expected</td>\n",
              "      <td>1</td>\n",
              "    </tr>\n",
              "    <tr>\n",
              "      <th>3</th>\n",
              "      <td>6</td>\n",
              "      <td>NaN</td>\n",
              "      <td>NaN</td>\n",
              "      <td>13,000 people receive #wildfires evacuation orders in California</td>\n",
              "      <td>1</td>\n",
              "    </tr>\n",
              "    <tr>\n",
              "      <th>4</th>\n",
              "      <td>7</td>\n",
              "      <td>NaN</td>\n",
              "      <td>NaN</td>\n",
              "      <td>Just got sent this photo from Ruby #Alaska as smoke from #wildfires pours into a school</td>\n",
              "      <td>1</td>\n",
              "    </tr>\n",
              "    <tr>\n",
              "      <th>5</th>\n",
              "      <td>8</td>\n",
              "      <td>NaN</td>\n",
              "      <td>NaN</td>\n",
              "      <td>#RockyFire Update =&gt; California Hwy. 20 closed in both directions due to Lake County fire - #CAfire #wildfires</td>\n",
              "      <td>1</td>\n",
              "    </tr>\n",
              "    <tr>\n",
              "      <th>6</th>\n",
              "      <td>10</td>\n",
              "      <td>NaN</td>\n",
              "      <td>NaN</td>\n",
              "      <td>#flood #disaster Heavy rain causes flash flooding of streets in Manitou, Colorado Springs areas</td>\n",
              "      <td>1</td>\n",
              "    </tr>\n",
              "    <tr>\n",
              "      <th>7</th>\n",
              "      <td>13</td>\n",
              "      <td>NaN</td>\n",
              "      <td>NaN</td>\n",
              "      <td>I'm on top of the hill and I can see a fire in the woods...</td>\n",
              "      <td>1</td>\n",
              "    </tr>\n",
              "    <tr>\n",
              "      <th>8</th>\n",
              "      <td>14</td>\n",
              "      <td>NaN</td>\n",
              "      <td>NaN</td>\n",
              "      <td>There's an emergency evacuation happening now in the building across the street</td>\n",
              "      <td>1</td>\n",
              "    </tr>\n",
              "    <tr>\n",
              "      <th>9</th>\n",
              "      <td>15</td>\n",
              "      <td>NaN</td>\n",
              "      <td>NaN</td>\n",
              "      <td>I'm afraid that the tornado is coming to our area...</td>\n",
              "      <td>1</td>\n",
              "    </tr>\n",
              "    <tr>\n",
              "      <th>10</th>\n",
              "      <td>16</td>\n",
              "      <td>NaN</td>\n",
              "      <td>NaN</td>\n",
              "      <td>Three people died from the heat wave so far</td>\n",
              "      <td>1</td>\n",
              "    </tr>\n",
              "    <tr>\n",
              "      <th>11</th>\n",
              "      <td>17</td>\n",
              "      <td>NaN</td>\n",
              "      <td>NaN</td>\n",
              "      <td>Haha South Tampa is getting flooded hah- WAIT A SECOND I LIVE IN SOUTH TAMPA WHAT AM I GONNA DO WHAT AM I GONNA DO FVCK #flooding</td>\n",
              "      <td>1</td>\n",
              "    </tr>\n",
              "    <tr>\n",
              "      <th>12</th>\n",
              "      <td>18</td>\n",
              "      <td>NaN</td>\n",
              "      <td>NaN</td>\n",
              "      <td>#raining #flooding #Florida #TampaBay #Tampa 18 or 19 days. I've lost count</td>\n",
              "      <td>1</td>\n",
              "    </tr>\n",
              "    <tr>\n",
              "      <th>13</th>\n",
              "      <td>19</td>\n",
              "      <td>NaN</td>\n",
              "      <td>NaN</td>\n",
              "      <td>#Flood in Bago Myanmar #We arrived Bago</td>\n",
              "      <td>1</td>\n",
              "    </tr>\n",
              "    <tr>\n",
              "      <th>14</th>\n",
              "      <td>20</td>\n",
              "      <td>NaN</td>\n",
              "      <td>NaN</td>\n",
              "      <td>Damage to school bus on 80 in multi car crash #BREAKING</td>\n",
              "      <td>1</td>\n",
              "    </tr>\n",
              "    <tr>\n",
              "      <th>15</th>\n",
              "      <td>23</td>\n",
              "      <td>NaN</td>\n",
              "      <td>NaN</td>\n",
              "      <td>What's up man?</td>\n",
              "      <td>0</td>\n",
              "    </tr>\n",
              "    <tr>\n",
              "      <th>16</th>\n",
              "      <td>24</td>\n",
              "      <td>NaN</td>\n",
              "      <td>NaN</td>\n",
              "      <td>I love fruits</td>\n",
              "      <td>0</td>\n",
              "    </tr>\n",
              "    <tr>\n",
              "      <th>17</th>\n",
              "      <td>25</td>\n",
              "      <td>NaN</td>\n",
              "      <td>NaN</td>\n",
              "      <td>Summer is lovely</td>\n",
              "      <td>0</td>\n",
              "    </tr>\n",
              "    <tr>\n",
              "      <th>18</th>\n",
              "      <td>26</td>\n",
              "      <td>NaN</td>\n",
              "      <td>NaN</td>\n",
              "      <td>My car is so fast</td>\n",
              "      <td>0</td>\n",
              "    </tr>\n",
              "    <tr>\n",
              "      <th>19</th>\n",
              "      <td>28</td>\n",
              "      <td>NaN</td>\n",
              "      <td>NaN</td>\n",
              "      <td>What a goooooooaaaaaal!!!!!!</td>\n",
              "      <td>0</td>\n",
              "    </tr>\n",
              "    <tr>\n",
              "      <th>20</th>\n",
              "      <td>31</td>\n",
              "      <td>NaN</td>\n",
              "      <td>NaN</td>\n",
              "      <td>this is ridiculous....</td>\n",
              "      <td>0</td>\n",
              "    </tr>\n",
              "    <tr>\n",
              "      <th>21</th>\n",
              "      <td>32</td>\n",
              "      <td>NaN</td>\n",
              "      <td>NaN</td>\n",
              "      <td>London is cool ;)</td>\n",
              "      <td>0</td>\n",
              "    </tr>\n",
              "    <tr>\n",
              "      <th>22</th>\n",
              "      <td>33</td>\n",
              "      <td>NaN</td>\n",
              "      <td>NaN</td>\n",
              "      <td>Love skiing</td>\n",
              "      <td>0</td>\n",
              "    </tr>\n",
              "    <tr>\n",
              "      <th>23</th>\n",
              "      <td>34</td>\n",
              "      <td>NaN</td>\n",
              "      <td>NaN</td>\n",
              "      <td>What a wonderful day!</td>\n",
              "      <td>0</td>\n",
              "    </tr>\n",
              "    <tr>\n",
              "      <th>24</th>\n",
              "      <td>36</td>\n",
              "      <td>NaN</td>\n",
              "      <td>NaN</td>\n",
              "      <td>LOOOOOOL</td>\n",
              "      <td>0</td>\n",
              "    </tr>\n",
              "    <tr>\n",
              "      <th>25</th>\n",
              "      <td>37</td>\n",
              "      <td>NaN</td>\n",
              "      <td>NaN</td>\n",
              "      <td>No way...I can't eat that shit</td>\n",
              "      <td>0</td>\n",
              "    </tr>\n",
              "    <tr>\n",
              "      <th>26</th>\n",
              "      <td>38</td>\n",
              "      <td>NaN</td>\n",
              "      <td>NaN</td>\n",
              "      <td>Was in NYC last week!</td>\n",
              "      <td>0</td>\n",
              "    </tr>\n",
              "    <tr>\n",
              "      <th>27</th>\n",
              "      <td>39</td>\n",
              "      <td>NaN</td>\n",
              "      <td>NaN</td>\n",
              "      <td>Love my girlfriend</td>\n",
              "      <td>0</td>\n",
              "    </tr>\n",
              "    <tr>\n",
              "      <th>28</th>\n",
              "      <td>40</td>\n",
              "      <td>NaN</td>\n",
              "      <td>NaN</td>\n",
              "      <td>Cooool :)</td>\n",
              "      <td>0</td>\n",
              "    </tr>\n",
              "    <tr>\n",
              "      <th>29</th>\n",
              "      <td>41</td>\n",
              "      <td>NaN</td>\n",
              "      <td>NaN</td>\n",
              "      <td>Do you like pasta?</td>\n",
              "      <td>0</td>\n",
              "    </tr>\n",
              "    <tr>\n",
              "      <th>30</th>\n",
              "      <td>44</td>\n",
              "      <td>NaN</td>\n",
              "      <td>NaN</td>\n",
              "      <td>The end!</td>\n",
              "      <td>0</td>\n",
              "    </tr>\n",
              "    <tr>\n",
              "      <th>31</th>\n",
              "      <td>48</td>\n",
              "      <td>ablaze</td>\n",
              "      <td>Birmingham</td>\n",
              "      <td>@bbcmtd Wholesale Markets ablaze http://t.co/lHYXEOHY6C</td>\n",
              "      <td>1</td>\n",
              "    </tr>\n",
              "    <tr>\n",
              "      <th>32</th>\n",
              "      <td>49</td>\n",
              "      <td>ablaze</td>\n",
              "      <td>Est. September 2012 - Bristol</td>\n",
              "      <td>We always try to bring the heavy. #metal #RT http://t.co/YAo1e0xngw</td>\n",
              "      <td>0</td>\n",
              "    </tr>\n",
              "    <tr>\n",
              "      <th>33</th>\n",
              "      <td>50</td>\n",
              "      <td>ablaze</td>\n",
              "      <td>AFRICA</td>\n",
              "      <td>#AFRICANBAZE: Breaking news:Nigeria flag set ablaze in Aba. http://t.co/2nndBGwyEi</td>\n",
              "      <td>1</td>\n",
              "    </tr>\n",
              "    <tr>\n",
              "      <th>34</th>\n",
              "      <td>52</td>\n",
              "      <td>ablaze</td>\n",
              "      <td>Philadelphia, PA</td>\n",
              "      <td>Crying out for more! Set me ablaze</td>\n",
              "      <td>0</td>\n",
              "    </tr>\n",
              "    <tr>\n",
              "      <th>35</th>\n",
              "      <td>53</td>\n",
              "      <td>ablaze</td>\n",
              "      <td>London, UK</td>\n",
              "      <td>On plus side LOOK AT THE SKY LAST NIGHT IT WAS ABLAZE http://t.co/qqsmshaJ3N</td>\n",
              "      <td>0</td>\n",
              "    </tr>\n",
              "    <tr>\n",
              "      <th>36</th>\n",
              "      <td>54</td>\n",
              "      <td>ablaze</td>\n",
              "      <td>Pretoria</td>\n",
              "      <td>@PhDSquares #mufc they've built so much hype around new acquisitions but I doubt they will set the EPL ablaze this season.</td>\n",
              "      <td>0</td>\n",
              "    </tr>\n",
              "    <tr>\n",
              "      <th>37</th>\n",
              "      <td>55</td>\n",
              "      <td>ablaze</td>\n",
              "      <td>World Wide!!</td>\n",
              "      <td>INEC Office in Abia Set Ablaze - http://t.co/3ImaomknnA</td>\n",
              "      <td>1</td>\n",
              "    </tr>\n",
              "    <tr>\n",
              "      <th>38</th>\n",
              "      <td>56</td>\n",
              "      <td>ablaze</td>\n",
              "      <td>NaN</td>\n",
              "      <td>Barbados #Bridgetown JAMAICA ÛÒ Two cars set ablaze: SANTA CRUZ ÛÓ Head of the St Elizabeth Police Superintende...  http://t.co/wDUEaj8Q4J</td>\n",
              "      <td>1</td>\n",
              "    </tr>\n",
              "    <tr>\n",
              "      <th>39</th>\n",
              "      <td>57</td>\n",
              "      <td>ablaze</td>\n",
              "      <td>Paranaque City</td>\n",
              "      <td>Ablaze for you Lord :D</td>\n",
              "      <td>0</td>\n",
              "    </tr>\n",
              "  </tbody>\n",
              "</table>\n",
              "</div>"
            ],
            "text/plain": [
              "    id  ... target\n",
              "0   1   ...  1    \n",
              "1   4   ...  1    \n",
              "2   5   ...  1    \n",
              "3   6   ...  1    \n",
              "4   7   ...  1    \n",
              "5   8   ...  1    \n",
              "6   10  ...  1    \n",
              "7   13  ...  1    \n",
              "8   14  ...  1    \n",
              "9   15  ...  1    \n",
              "10  16  ...  1    \n",
              "11  17  ...  1    \n",
              "12  18  ...  1    \n",
              "13  19  ...  1    \n",
              "14  20  ...  1    \n",
              "15  23  ...  0    \n",
              "16  24  ...  0    \n",
              "17  25  ...  0    \n",
              "18  26  ...  0    \n",
              "19  28  ...  0    \n",
              "20  31  ...  0    \n",
              "21  32  ...  0    \n",
              "22  33  ...  0    \n",
              "23  34  ...  0    \n",
              "24  36  ...  0    \n",
              "25  37  ...  0    \n",
              "26  38  ...  0    \n",
              "27  39  ...  0    \n",
              "28  40  ...  0    \n",
              "29  41  ...  0    \n",
              "30  44  ...  0    \n",
              "31  48  ...  1    \n",
              "32  49  ...  0    \n",
              "33  50  ...  1    \n",
              "34  52  ...  0    \n",
              "35  53  ...  0    \n",
              "36  54  ...  0    \n",
              "37  55  ...  1    \n",
              "38  56  ...  1    \n",
              "39  57  ...  0    \n",
              "\n",
              "[40 rows x 5 columns]"
            ]
          },
          "metadata": {
            "tags": []
          },
          "execution_count": 8
        }
      ]
    },
    {
      "cell_type": "markdown",
      "metadata": {
        "id": "XvSzKafjONiT",
        "colab_type": "text"
      },
      "source": [
        "### final_text : concat keyword one hot encoding and target"
      ]
    },
    {
      "cell_type": "code",
      "metadata": {
        "id": "6FWqfcqGHeWS",
        "colab_type": "code",
        "outputId": "7751824c-a801-434a-91f2-222453ce97c9",
        "colab": {
          "base_uri": "https://localhost:8080/",
          "height": 34
        }
      },
      "source": [
        "df=pd.concat([train,test])\n",
        "df.shape"
      ],
      "execution_count": 0,
      "outputs": [
        {
          "output_type": "execute_result",
          "data": {
            "text/plain": [
              "(10876, 5)"
            ]
          },
          "metadata": {
            "tags": []
          },
          "execution_count": 9
        }
      ]
    },
    {
      "cell_type": "code",
      "metadata": {
        "id": "nlOCxHRWNWGJ",
        "colab_type": "code",
        "colab": {}
      },
      "source": [
        "df.fillna('', inplace=True)"
      ],
      "execution_count": 0,
      "outputs": []
    },
    {
      "cell_type": "markdown",
      "metadata": {
        "id": "0iWCkf2_HL0z",
        "colab_type": "text"
      },
      "source": [
        "#### Data Cleaning"
      ]
    },
    {
      "cell_type": "code",
      "metadata": {
        "id": "pVwXIn1vL3tu",
        "colab_type": "code",
        "colab": {}
      },
      "source": [
        "from nltk.corpus import stopwords\n",
        "from nltk.util import ngrams\n",
        "import re\n",
        "from nltk.tokenize import word_tokenize\n",
        "import gensim\n",
        "import string\n",
        "from tqdm import tqdm\n",
        "\n",
        "import tensorflow as tf\n",
        "from tensorflow.keras.layers import Dense, Input, ReLU\n",
        "from tensorflow.keras.optimizers import Adam\n",
        "from tensorflow.keras.models import Model\n",
        "from tensorflow.keras.callbacks import ModelCheckpoint\n",
        "from tensorflow.keras.callbacks import EarlyStopping\n",
        "import tensorflow_hub as hub"
      ],
      "execution_count": 0,
      "outputs": []
    },
    {
      "cell_type": "code",
      "metadata": {
        "id": "wtq05GJhAjOk",
        "colab_type": "code",
        "outputId": "1b2c6bf8-80bd-4277-ecb9-2619412d774f",
        "colab": {
          "base_uri": "https://localhost:8080/",
          "height": 52
        }
      },
      "source": [
        "import nltk\n",
        "\n",
        "nltk.download('stopwords')\n",
        "stop=set(stopwords.words('english'))\n",
        "\n",
        "punctuation = string.punctuation"
      ],
      "execution_count": 0,
      "outputs": [
        {
          "output_type": "stream",
          "text": [
            "[nltk_data] Downloading package stopwords to /root/nltk_data...\n",
            "[nltk_data]   Unzipping corpora/stopwords.zip.\n"
          ],
          "name": "stdout"
        }
      ]
    },
    {
      "cell_type": "code",
      "metadata": {
        "id": "i8lMptL0loc8",
        "colab_type": "code",
        "colab": {}
      },
      "source": [
        "from nltk.stem.porter import *\n",
        "stemmer = PorterStemmer()"
      ],
      "execution_count": 0,
      "outputs": []
    },
    {
      "cell_type": "code",
      "metadata": {
        "id": "WHPaNg9clKdg",
        "colab_type": "code",
        "colab": {}
      },
      "source": [
        "df['original_text'] = df['text']"
      ],
      "execution_count": 0,
      "outputs": []
    },
    {
      "cell_type": "markdown",
      "metadata": {
        "id": "eNtJhn_m0W3k",
        "colab_type": "text"
      },
      "source": [
        "##### train과 test set에서 URL, html, 구두점을 삭제한다."
      ]
    },
    {
      "cell_type": "code",
      "metadata": {
        "id": "7Myq-zM-SoAD",
        "colab_type": "code",
        "colab": {}
      },
      "source": [
        "import re\n",
        "\n",
        "# remove http\n",
        "def remove_URL(text):\n",
        "    url = re.compile(r'https?://\\S+|www\\.\\S+')\n",
        "    return url.sub(r'',text)\n",
        "\n",
        "df['text']=df['text'].apply(lambda x : remove_URL(x))\n",
        "\n",
        "# remove HTML tags\n",
        "def remove_html(text):\n",
        "    html=re.compile(r'<.*?>')\n",
        "    return html.sub(r'',text)\n",
        "df['text']=df['text'].apply(lambda x : remove_html(x))\n",
        "\n",
        "def remove_emoji(text):\n",
        "    emoji_pattern = re.compile(\"[\"\n",
        "                           u\"\\U0001F600-\\U0001F64F\"  # emoticons\n",
        "                           u\"\\U0001F300-\\U0001F5FF\"  # symbols & pictographs\n",
        "                           u\"\\U0001F680-\\U0001F6FF\"  # transport & map symbols\n",
        "                           u\"\\U0001F1E0-\\U0001F1FF\"  # flags (iOS)\n",
        "                           u\"\\U00002702-\\U000027B0\"\n",
        "                           u\"\\U000024C2-\\U0001F251\"\n",
        "                           \"]+\", flags=re.UNICODE)\n",
        "    return emoji_pattern.sub(r'', text)\n",
        "df['text']=df['text'].apply(lambda x : remove_emoji(x))\n",
        "\n",
        "# https://github.com/rishabhverma17/sms_slang_translator/blob/master/slang.txt\n",
        "slang_abbrev_dict = {\n",
        "    'AFAIK': 'As Far As I Know',\n",
        "    'AFK': 'Away From Keyboard',\n",
        "    'ASAP': 'As Soon As Possible',\n",
        "    'ATK': 'At The Keyboard',\n",
        "    'ATM': 'At The Moment',\n",
        "    'A3': 'Anytime, Anywhere, Anyplace',\n",
        "    'BAK': 'Back At Keyboard',\n",
        "    'BBL': 'Be Back Later',\n",
        "    'BBS': 'Be Back Soon',\n",
        "    'BFN': 'Bye For Now',\n",
        "    'B4N': 'Bye For Now',\n",
        "    'BRB': 'Be Right Back',\n",
        "    'BRT': 'Be Right There',\n",
        "    'BTW': 'By The Way',\n",
        "    'B4': 'Before',\n",
        "    'B4N': 'Bye For Now',\n",
        "    'CU': 'See You',\n",
        "    'CUL8R': 'See You Later',\n",
        "    'CYA': 'See You',\n",
        "    'FAQ': 'Frequently Asked Questions',\n",
        "    'FC': 'Fingers Crossed',\n",
        "    'FWIW': 'For What It\\'s Worth',\n",
        "    'FYI': 'For Your Information',\n",
        "    'GAL': 'Get A Life',\n",
        "    'GG': 'Good Game',\n",
        "    'GN': 'Good Night',\n",
        "    'GMTA': 'Great Minds Think Alike',\n",
        "    'GR8': 'Great!',\n",
        "    'G9': 'Genius',\n",
        "    'IC': 'I See',\n",
        "    'ICQ': 'I Seek you',\n",
        "    'ILU': 'I Love You',\n",
        "    'IMHO': 'In My Humble Opinion',\n",
        "    'IMO': 'In My Opinion',\n",
        "    'IOW': 'In Other Words',\n",
        "    'IRL': 'In Real Life',\n",
        "    'KISS': 'Keep It Simple, Stupid',\n",
        "    'LDR': 'Long Distance Relationship',\n",
        "    'LMAO': 'Laugh My Ass Off',\n",
        "    'LOL': 'Laughing Out Loud',\n",
        "    'LTNS': 'Long Time No See',\n",
        "    'L8R': 'Later',\n",
        "    'MTE': 'My Thoughts Exactly',\n",
        "    'M8': 'Mate',\n",
        "    'NRN': 'No Reply Necessary',\n",
        "    'OIC': 'Oh I See',\n",
        "    'OMG': 'Oh My God',\n",
        "    'PITA': 'Pain In The Ass',\n",
        "    'PRT': 'Party',\n",
        "    'PRW': 'Parents Are Watching',\n",
        "    'QPSA?': 'Que Pasa?',\n",
        "    'ROFL': 'Rolling On The Floor Laughing',\n",
        "    'ROFLOL': 'Rolling On The Floor Laughing Out Loud',\n",
        "    'ROTFLMAO': 'Rolling On The Floor Laughing My Ass Off',\n",
        "    'SK8': 'Skate',\n",
        "    'STATS': 'Your sex and age',\n",
        "    'ASL': 'Age, Sex, Location',\n",
        "    'THX': 'Thank You',\n",
        "    'TTFN': 'Ta-Ta For Now!',\n",
        "    'TTYL': 'Talk To You Later',\n",
        "    'U': 'You',\n",
        "    'U2': 'You Too',\n",
        "    'U4E': 'Yours For Ever',\n",
        "    'WB': 'Welcome Back',\n",
        "    'WTF': 'What The Fuck',\n",
        "    'WTG': 'Way To Go!',\n",
        "    'WUF': 'Where Are You From?',\n",
        "    'W8': 'Wait',\n",
        "    '7K': 'Sick:-D Laugher'\n",
        "}\n",
        "def unslang(text):\n",
        "    if text.upper() in slang_abbrev_dict.keys():\n",
        "        return slang_abbrev_dict[text.upper()]\n",
        "    else:\n",
        "        return text\n",
        "df['text']=df['text'].apply(lambda x : unslang(x))\n",
        "\n",
        "# remove punctuations\n",
        "def remove_punct(text):\n",
        "    table=str.maketrans('','',string.punctuation)\n",
        "    return text.translate(table)\n",
        "df['text']=df['text'].apply(lambda x : remove_punct(x))\n",
        "\n",
        "def tokenization(text):\n",
        "    text = re.split('\\W+', text)\n",
        "    return text\n",
        "df['text']=df['text'].apply(lambda x : tokenization(x.lower()))"
      ],
      "execution_count": 0,
      "outputs": []
    },
    {
      "cell_type": "code",
      "metadata": {
        "id": "er1t2paOjNiS",
        "colab_type": "code",
        "colab": {}
      },
      "source": [
        "stopword = nltk.corpus.stopwords.words('english')\n",
        "def remove_stopwords(text):\n",
        "    text = [word for word in text if word not in stopword]\n",
        "    return text\n",
        "df['text']=df['text'].apply(lambda x : remove_stopwords(x))\n",
        "\n",
        "'''\n",
        "def stemming(text):\n",
        "    text = [stemmer.stem(word) for word in text]\n",
        "    return text\n",
        "df['text']=df['text'].apply(lambda x : stemming(x))\n",
        "'''\n",
        "\n",
        "df['text']=df['text'].apply(lambda x : ' '.join(x))"
      ],
      "execution_count": 0,
      "outputs": []
    },
    {
      "cell_type": "code",
      "metadata": {
        "id": "LUX8gZDZAMqt",
        "colab_type": "code",
        "outputId": "590c2549-b733-4567-814b-44f2c878fa92",
        "colab": {
          "base_uri": "https://localhost:8080/",
          "height": 69
        }
      },
      "source": [
        "nltk.download('wordnet')"
      ],
      "execution_count": 0,
      "outputs": [
        {
          "output_type": "stream",
          "text": [
            "[nltk_data] Downloading package wordnet to /root/nltk_data...\n",
            "[nltk_data]   Unzipping corpora/wordnet.zip.\n"
          ],
          "name": "stdout"
        },
        {
          "output_type": "execute_result",
          "data": {
            "text/plain": [
              "True"
            ]
          },
          "metadata": {
            "tags": []
          },
          "execution_count": 17
        }
      ]
    },
    {
      "cell_type": "code",
      "metadata": {
        "id": "OyLjR0TkAEgO",
        "colab_type": "code",
        "colab": {}
      },
      "source": [
        "from nltk.stem import WordNetLemmatizer\n",
        "\n",
        "# lemmatization keyword\n",
        "def lemmentize(keyword):\n",
        "    lmtzr = WordNetLemmatizer()\n",
        "    keyword = lmtzr.lemmatize(keyword)\n",
        "    keyword = lmtzr.lemmatize(keyword, 'v')\n",
        "    return keyword\n",
        "df['keyword'] = df['keyword'].apply(lambda x : lemmentize(x))"
      ],
      "execution_count": 0,
      "outputs": []
    },
    {
      "cell_type": "code",
      "metadata": {
        "id": "VEQ-jX54AUQe",
        "colab_type": "code",
        "outputId": "1cef6af9-07da-4572-b18f-5168be94690e",
        "colab": {
          "base_uri": "https://localhost:8080/",
          "height": 142
        }
      },
      "source": [
        "train[210:213]"
      ],
      "execution_count": 0,
      "outputs": [
        {
          "output_type": "execute_result",
          "data": {
            "text/html": [
              "<div>\n",
              "<style scoped>\n",
              "    .dataframe tbody tr th:only-of-type {\n",
              "        vertical-align: middle;\n",
              "    }\n",
              "\n",
              "    .dataframe tbody tr th {\n",
              "        vertical-align: top;\n",
              "    }\n",
              "\n",
              "    .dataframe thead th {\n",
              "        text-align: right;\n",
              "    }\n",
              "</style>\n",
              "<table border=\"1\" class=\"dataframe\">\n",
              "  <thead>\n",
              "    <tr style=\"text-align: right;\">\n",
              "      <th></th>\n",
              "      <th>id</th>\n",
              "      <th>keyword</th>\n",
              "      <th>location</th>\n",
              "      <th>text</th>\n",
              "      <th>target</th>\n",
              "    </tr>\n",
              "  </thead>\n",
              "  <tbody>\n",
              "    <tr>\n",
              "      <th>210</th>\n",
              "      <td>297</td>\n",
              "      <td>annihilated</td>\n",
              "      <td>Horsemind, MI</td>\n",
              "      <td>THEY SHALL BE ANNIHILATED AND ALL OF THEIR PETEBESTS DESSICATED AND LAID BARE. THEN YOU SHALL KNEEL BEFORE ME.</td>\n",
              "      <td>0</td>\n",
              "    </tr>\n",
              "    <tr>\n",
              "      <th>211</th>\n",
              "      <td>298</td>\n",
              "      <td>annihilated</td>\n",
              "      <td>New York, NY</td>\n",
              "      <td>Uribe just annihilated that baseball. #Mets</td>\n",
              "      <td>0</td>\n",
              "    </tr>\n",
              "    <tr>\n",
              "      <th>212</th>\n",
              "      <td>299</td>\n",
              "      <td>annihilated</td>\n",
              "      <td>Boksburg</td>\n",
              "      <td>@marksmaponyane Hey!Sundowns were annihilated in their previous meeting with Celtic.Indeed its an improvement.</td>\n",
              "      <td>0</td>\n",
              "    </tr>\n",
              "  </tbody>\n",
              "</table>\n",
              "</div>"
            ],
            "text/plain": [
              "      id  ... target\n",
              "210  297  ...  0    \n",
              "211  298  ...  0    \n",
              "212  299  ...  0    \n",
              "\n",
              "[3 rows x 5 columns]"
            ]
          },
          "metadata": {
            "tags": []
          },
          "execution_count": 19
        }
      ]
    },
    {
      "cell_type": "code",
      "metadata": {
        "id": "7hrZc7wxAO5r",
        "colab_type": "code",
        "outputId": "34ae3b77-ce4e-489b-a768-2db39a3f0f67",
        "colab": {
          "base_uri": "https://localhost:8080/",
          "height": 193
        }
      },
      "source": [
        "df[210:213]"
      ],
      "execution_count": 0,
      "outputs": [
        {
          "output_type": "execute_result",
          "data": {
            "text/html": [
              "<div>\n",
              "<style scoped>\n",
              "    .dataframe tbody tr th:only-of-type {\n",
              "        vertical-align: middle;\n",
              "    }\n",
              "\n",
              "    .dataframe tbody tr th {\n",
              "        vertical-align: top;\n",
              "    }\n",
              "\n",
              "    .dataframe thead th {\n",
              "        text-align: right;\n",
              "    }\n",
              "</style>\n",
              "<table border=\"1\" class=\"dataframe\">\n",
              "  <thead>\n",
              "    <tr style=\"text-align: right;\">\n",
              "      <th></th>\n",
              "      <th>id</th>\n",
              "      <th>keyword</th>\n",
              "      <th>location</th>\n",
              "      <th>text</th>\n",
              "      <th>target</th>\n",
              "      <th>original_text</th>\n",
              "    </tr>\n",
              "  </thead>\n",
              "  <tbody>\n",
              "    <tr>\n",
              "      <th>210</th>\n",
              "      <td>297</td>\n",
              "      <td>annihilate</td>\n",
              "      <td>Horsemind, MI</td>\n",
              "      <td>shall annihilated petebests dessicated laid bare shall kneel</td>\n",
              "      <td>0</td>\n",
              "      <td>THEY SHALL BE ANNIHILATED AND ALL OF THEIR PETEBESTS DESSICATED AND LAID BARE. THEN YOU SHALL KNEEL BEFORE ME.</td>\n",
              "    </tr>\n",
              "    <tr>\n",
              "      <th>211</th>\n",
              "      <td>298</td>\n",
              "      <td>annihilate</td>\n",
              "      <td>New York, NY</td>\n",
              "      <td>uribe annihilated baseball mets</td>\n",
              "      <td>0</td>\n",
              "      <td>Uribe just annihilated that baseball. #Mets</td>\n",
              "    </tr>\n",
              "    <tr>\n",
              "      <th>212</th>\n",
              "      <td>299</td>\n",
              "      <td>annihilate</td>\n",
              "      <td>Boksburg</td>\n",
              "      <td>marksmaponyane heysundowns annihilated previous meeting celticindeed improvement</td>\n",
              "      <td>0</td>\n",
              "      <td>@marksmaponyane Hey!Sundowns were annihilated in their previous meeting with Celtic.Indeed its an improvement.</td>\n",
              "    </tr>\n",
              "  </tbody>\n",
              "</table>\n",
              "</div>"
            ],
            "text/plain": [
              "      id  ...                                                                                                   original_text\n",
              "210  297  ...  THEY SHALL BE ANNIHILATED AND ALL OF THEIR PETEBESTS DESSICATED AND LAID BARE. THEN YOU SHALL KNEEL BEFORE ME.\n",
              "211  298  ...  Uribe just annihilated that baseball. #Mets                                                                   \n",
              "212  299  ...  @marksmaponyane Hey!Sundowns were annihilated in their previous meeting with Celtic.Indeed its an improvement.\n",
              "\n",
              "[3 rows x 6 columns]"
            ]
          },
          "metadata": {
            "tags": []
          },
          "execution_count": 20
        }
      ]
    },
    {
      "cell_type": "markdown",
      "metadata": {
        "id": "xOMirCGyUut8",
        "colab_type": "text"
      },
      "source": [
        "#### 빈도수 높은 keyword만 남기기"
      ]
    },
    {
      "cell_type": "code",
      "metadata": {
        "id": "KKntrCEncH3M",
        "colab_type": "code",
        "outputId": "e1844996-9b2f-42b2-ebab-421a5f900ec9",
        "colab": {
          "base_uri": "https://localhost:8080/",
          "height": 822
        }
      },
      "source": [
        "keywords_set = set()\n",
        "count = 10\n",
        "for index, row in df.iterrows():\n",
        "    if '%20' in row['keyword']:\n",
        "        keywords_set.add(repr(row['keyword']))\n",
        "        if count:\n",
        "            print(row['text'])\n",
        "            count-=1\n",
        "for k in keywords_set:\n",
        "    print(k)  "
      ],
      "execution_count": 0,
      "outputs": [
        {
          "output_type": "stream",
          "text": [
            "experts france begin examining airplane debris found reunion island french air accident experts news\n",
            "strict liability context airplane accident pilot error common component aviation cr \n",
            "crobscarla lifetime odds dying airplane accident 1 8015\n",
            "experts france begin examining airplane debris found reunion island french air accident experts wedn \n",
            "alexalltimelow awwww theyre airplane accident theyre gonna die cuties good job\n",
            "family members osama bin laden died airplane accident ironic mhmmm gov shit suspect\n",
            "man goes airplane engine accident via youtube\n",
            "horrible accident man died wings airplane 29072015 \n",
            "cessna airplane accident ocampo coahuila mexico july 29 2015 killed four men including state coahuila government official\n",
            "horrible accident man died wings airplane 29072015 watchthevideo \n",
            "'burning%20buildings'\n",
            "'buildings%20burning'\n",
            "'fire%20truck'\n",
            "'first%20responders'\n",
            "'wild%20fires'\n",
            "'war%20zone'\n",
            "'oil%20spill'\n",
            "'buildings%20on%20fire'\n",
            "'natural%20disaster'\n",
            "'airplane%20accident'\n",
            "'forest%20fire'\n",
            "'body%20bag'\n",
            "'chemical%20emergency'\n",
            "'mass%20murderer'\n",
            "'cliff%20fall'\n",
            "'loud%20bang'\n",
            "'nuclear%20disaster'\n",
            "'radiation%20emergency'\n",
            "'nuclear%20reactor'\n",
            "'suicide%20bomber'\n",
            "'blown%20up'\n",
            "'structural%20failure'\n",
            "'bush%20fires'\n",
            "'body%20bags'\n",
            "'dust%20storm'\n",
            "'body%20bagging'\n",
            "'bridge%20collapse'\n",
            "'emergency%20plan'\n",
            "'forest%20fires'\n",
            "'heat%20wave'\n",
            "'suicide%20bomb'\n",
            "'blew%20up'\n",
            "'violent%20storm'\n",
            "'mass%20murder'\n",
            "'suicide%20bombing'\n",
            "'emergency%20services'\n"
          ],
          "name": "stdout"
        }
      ]
    },
    {
      "cell_type": "code",
      "metadata": {
        "id": "1DyVXVpkhJvI",
        "colab_type": "code",
        "colab": {}
      },
      "source": [
        "modified = {\n",
        "'blown%20up': 'blow',\n",
        "'blew%20up': 'blow',\n",
        "'mass%20murderer': 'murder',\n",
        "'natural%20disaster': 'disaster',\n",
        "'mass%20murder': 'murder',\n",
        "'oil%20spill': 'spill',\n",
        "'body%20bagging': 'body bag',\n",
        "'emergency%20services': 'emergency',\n",
        "'buildings%20on%20fire': 'fire',\n",
        "'violent%20storm': 'storm',\n",
        "'war%20zone': 'war',\n",
        "'forest%20fire': 'fire',\n",
        "'structural%20failure': 'structural failure',\n",
        "'nuclear%20disaster': 'nuclear',\n",
        "'buildings%20burning': 'burn',\n",
        "'suicide%20bomber': 'suicide bomb',\n",
        "'bridge%20collapse': 'collapse',\n",
        "'chemical%20emergency': 'emergency',\n",
        "'cliff%20fall': 'fall',\n",
        "'body%20bag': 'body bag',\n",
        "'nuclear%20reactor': 'nuclear',\n",
        "'suicide%20bomb': 'suicide bomb',\n",
        "'first%20responders': 'first responder',\n",
        "'forest%20fires': 'fire',\n",
        "'suicide%20bombing': 'suicide bomb',\n",
        "'bush%20fires': 'fire',\n",
        "'loud%20bang': 'bang',\n",
        "'emergency%20plan': 'emergency',\n",
        "'body%20bags': 'body bag',\n",
        "'airplane%20accident': 'accident',\n",
        "'heat%20wave':'heat',\n",
        "'dust%20storm': 'storm',\n",
        "'fire%20truck': 'fire',\n",
        "'burning%20buildings': 'burn',\n",
        "'radiation%20emergency': 'radiation',\n",
        "'wild%20fires': 'fire'\n",
        "}"
      ],
      "execution_count": 0,
      "outputs": []
    },
    {
      "cell_type": "code",
      "metadata": {
        "id": "Ulv8e9m1igQ9",
        "colab_type": "code",
        "colab": {}
      },
      "source": [
        "def modifying(keyword):\n",
        "    if keyword in modified.keys():\n",
        "        return modified[keyword]\n",
        "    return keyword\n",
        "df['keyword'] = df['keyword'].apply(lambda x : modifying(x))"
      ],
      "execution_count": 0,
      "outputs": []
    },
    {
      "cell_type": "code",
      "metadata": {
        "id": "LXhPhWX0lwJZ",
        "colab_type": "code",
        "outputId": "d69bf761-8c02-4e4d-bb8e-29e1289105ba",
        "colab": {
          "base_uri": "https://localhost:8080/",
          "height": 512
        }
      },
      "source": [
        "df[:400:40]"
      ],
      "execution_count": 0,
      "outputs": [
        {
          "output_type": "execute_result",
          "data": {
            "text/html": [
              "<div>\n",
              "<style scoped>\n",
              "    .dataframe tbody tr th:only-of-type {\n",
              "        vertical-align: middle;\n",
              "    }\n",
              "\n",
              "    .dataframe tbody tr th {\n",
              "        vertical-align: top;\n",
              "    }\n",
              "\n",
              "    .dataframe thead th {\n",
              "        text-align: right;\n",
              "    }\n",
              "</style>\n",
              "<table border=\"1\" class=\"dataframe\">\n",
              "  <thead>\n",
              "    <tr style=\"text-align: right;\">\n",
              "      <th></th>\n",
              "      <th>id</th>\n",
              "      <th>keyword</th>\n",
              "      <th>location</th>\n",
              "      <th>text</th>\n",
              "      <th>target</th>\n",
              "      <th>original_text</th>\n",
              "    </tr>\n",
              "  </thead>\n",
              "  <tbody>\n",
              "    <tr>\n",
              "      <th>0</th>\n",
              "      <td>1</td>\n",
              "      <td></td>\n",
              "      <td></td>\n",
              "      <td>deeds reason earthquake may allah forgive us</td>\n",
              "      <td>1</td>\n",
              "      <td>Our Deeds are the Reason of this #earthquake May ALLAH Forgive us all</td>\n",
              "    </tr>\n",
              "    <tr>\n",
              "      <th>40</th>\n",
              "      <td>59</td>\n",
              "      <td>ablaze</td>\n",
              "      <td>Live On Webcam</td>\n",
              "      <td>check nsfw</td>\n",
              "      <td>0</td>\n",
              "      <td>Check these out: http://t.co/rOI2NSmEJJ http://t.co/3Tj8ZjiN21 http://t.co/YDUiXEfIpE http://t.co/LxTjc87KLS #nsfw</td>\n",
              "    </tr>\n",
              "    <tr>\n",
              "      <th>80</th>\n",
              "      <td>117</td>\n",
              "      <td>accident</td>\n",
              "      <td></td>\n",
              "      <td>mom didnt get home fast wished mom accident truck spilt mayonnaise</td>\n",
              "      <td>0</td>\n",
              "      <td>mom: 'we didn't get home as fast as we wished' \\nme: 'why is that?'\\nmom: 'there was an accident and some truck spilt mayonnaise all over ??????</td>\n",
              "    </tr>\n",
              "    <tr>\n",
              "      <th>120</th>\n",
              "      <td>173</td>\n",
              "      <td>aftershock</td>\n",
              "      <td>Oshawa, Canada</td>\n",
              "      <td>wisdomwed bonus 5 minute daily habits could really improve life many already lifehacks</td>\n",
              "      <td>0</td>\n",
              "      <td>#WisdomWed BONUS - 5 Minute Daily Habits that could really improve your life. How many do you already do? #lifehacks http://t.co/TBm9FQb8cW</td>\n",
              "    </tr>\n",
              "    <tr>\n",
              "      <th>160</th>\n",
              "      <td>231</td>\n",
              "      <td>accident</td>\n",
              "      <td>Thrissur</td>\n",
              "      <td>horrible accident man died wings ûïairplane û 29072015 wtf ûªt believe eyes ûò</td>\n",
              "      <td>1</td>\n",
              "      <td>Horrible Accident Man Died In Wings Of ÛÏAirplaneÛ 29-07-2015. WTF You CanÛªt Believe Your EYES ÛÒ... http://t.co/6fFyLAjWpS</td>\n",
              "    </tr>\n",
              "    <tr>\n",
              "      <th>200</th>\n",
              "      <td>281</td>\n",
              "      <td>ambulance</td>\n",
              "      <td>VISIT MY YOUTUBE CHANNEL.</td>\n",
              "      <td>happening hatzolah ems ambulance responding dual sirens û</td>\n",
              "      <td>0</td>\n",
              "      <td>HAPPENING NOW - HATZOLAH EMS AMBULANCE RESPONDING WITH DUAL SIRENS ANDÛ_ https://t.co/SeK6MQ6NJF</td>\n",
              "    </tr>\n",
              "    <tr>\n",
              "      <th>240</th>\n",
              "      <td>341</td>\n",
              "      <td>annihilate</td>\n",
              "      <td></td>\n",
              "      <td>thatdes ok wasnt completely forthright may also food coma bc kebabtahinipickles also annihilated wfries</td>\n",
              "      <td>0</td>\n",
              "      <td>@thatdes ok i wasn't completely forthright i may have also been in a food coma bc of the kebab/tahini/pickles i also annihilated w/fries</td>\n",
              "    </tr>\n",
              "    <tr>\n",
              "      <th>280</th>\n",
              "      <td>409</td>\n",
              "      <td>apocalypse</td>\n",
              "      <td>The Shire</td>\n",
              "      <td>apocalypse lol gf m8</td>\n",
              "      <td>0</td>\n",
              "      <td>But if it's the apocalypse lol gf m8</td>\n",
              "    </tr>\n",
              "    <tr>\n",
              "      <th>320</th>\n",
              "      <td>466</td>\n",
              "      <td>armageddon</td>\n",
              "      <td>New York City</td>\n",
              "      <td>photo sketch based taste armageddon episode startrek tos</td>\n",
              "      <td>0</td>\n",
              "      <td>Photo: Sketch I did based on the A Taste of Armageddon episode of #startrek #tos http://t.co/a2e6dcsk88</td>\n",
              "    </tr>\n",
              "    <tr>\n",
              "      <th>360</th>\n",
              "      <td>518</td>\n",
              "      <td>army</td>\n",
              "      <td></td>\n",
              "      <td>one direction pick fan army directioners x1441</td>\n",
              "      <td>0</td>\n",
              "      <td>One Direction Is my pick for http://t.co/q2eBlOKeVE Fan Army #Directioners http://t.co/eNCmhz6y34 x1441</td>\n",
              "    </tr>\n",
              "  </tbody>\n",
              "</table>\n",
              "</div>"
            ],
            "text/plain": [
              "      id  ...                                                                                                                                     original_text\n",
              "0    1    ...  Our Deeds are the Reason of this #earthquake May ALLAH Forgive us all                                                                           \n",
              "40   59   ...  Check these out: http://t.co/rOI2NSmEJJ http://t.co/3Tj8ZjiN21 http://t.co/YDUiXEfIpE http://t.co/LxTjc87KLS #nsfw                              \n",
              "80   117  ...  mom: 'we didn't get home as fast as we wished' \\nme: 'why is that?'\\nmom: 'there was an accident and some truck spilt mayonnaise all over ??????\n",
              "120  173  ...  #WisdomWed BONUS - 5 Minute Daily Habits that could really improve your life. How many do you already do? #lifehacks http://t.co/TBm9FQb8cW     \n",
              "160  231  ...  Horrible Accident Man Died In Wings Of ÛÏAirplaneÛ 29-07-2015. WTF You CanÛªt Believe Your EYES ÛÒ... http://t.co/6fFyLAjWpS               \n",
              "200  281  ...  HAPPENING NOW - HATZOLAH EMS AMBULANCE RESPONDING WITH DUAL SIRENS ANDÛ_ https://t.co/SeK6MQ6NJF                                               \n",
              "240  341  ...  @thatdes ok i wasn't completely forthright i may have also been in a food coma bc of the kebab/tahini/pickles i also annihilated w/fries        \n",
              "280  409  ...  But if it's the apocalypse lol gf m8                                                                                                            \n",
              "320  466  ...  Photo: Sketch I did based on the A Taste of Armageddon episode of #startrek #tos http://t.co/a2e6dcsk88                                         \n",
              "360  518  ...  One Direction Is my pick for http://t.co/q2eBlOKeVE Fan Army #Directioners http://t.co/eNCmhz6y34 x1441                                         \n",
              "\n",
              "[10 rows x 6 columns]"
            ]
          },
          "metadata": {
            "tags": []
          },
          "execution_count": 26
        }
      ]
    },
    {
      "cell_type": "markdown",
      "metadata": {
        "id": "-5Zj6gkPNWh1",
        "colab_type": "text"
      },
      "source": [
        "### Remove Mislabeled\n",
        "https://www.kaggle.com/rai555/real-or-not-nlp-huggingface-bert-pytorch"
      ]
    },
    {
      "cell_type": "code",
      "metadata": {
        "id": "oNEa-q_XU8MN",
        "colab_type": "code",
        "outputId": "86f4b045-1b0f-4b2e-89c3-5e88e8cd5543",
        "colab": {
          "base_uri": "https://localhost:8080/",
          "height": 34
        }
      },
      "source": [
        "train_len = len(train)\n",
        "print(train_len)\n",
        "train = df[:train_len]\n",
        "test = df[train_len:]"
      ],
      "execution_count": 0,
      "outputs": [
        {
          "output_type": "stream",
          "text": [
            "7613\n"
          ],
          "name": "stdout"
        }
      ]
    },
    {
      "cell_type": "code",
      "metadata": {
        "id": "4Asz78_PsbPu",
        "colab_type": "code",
        "outputId": "71347355-bd87-4f01-88a3-198b6990963d",
        "colab": {
          "base_uri": "https://localhost:8080/",
          "height": 450
        }
      },
      "source": [
        "incorrect_labels_df = train.groupby(['text']).nunique().sort_values(by='target', ascending=False)\n",
        "incorrect_labels_df"
      ],
      "execution_count": 0,
      "outputs": [
        {
          "output_type": "execute_result",
          "data": {
            "text/html": [
              "<div>\n",
              "<style scoped>\n",
              "    .dataframe tbody tr th:only-of-type {\n",
              "        vertical-align: middle;\n",
              "    }\n",
              "\n",
              "    .dataframe tbody tr th {\n",
              "        vertical-align: top;\n",
              "    }\n",
              "\n",
              "    .dataframe thead th {\n",
              "        text-align: right;\n",
              "    }\n",
              "</style>\n",
              "<table border=\"1\" class=\"dataframe\">\n",
              "  <thead>\n",
              "    <tr style=\"text-align: right;\">\n",
              "      <th></th>\n",
              "      <th>id</th>\n",
              "      <th>keyword</th>\n",
              "      <th>location</th>\n",
              "      <th>text</th>\n",
              "      <th>target</th>\n",
              "      <th>original_text</th>\n",
              "    </tr>\n",
              "    <tr>\n",
              "      <th>text</th>\n",
              "      <th></th>\n",
              "      <th></th>\n",
              "      <th></th>\n",
              "      <th></th>\n",
              "      <th></th>\n",
              "      <th></th>\n",
              "    </tr>\n",
              "  </thead>\n",
              "  <tbody>\n",
              "    <tr>\n",
              "      <th>look state actions year fergusons upheaval</th>\n",
              "      <td>4</td>\n",
              "      <td>1</td>\n",
              "      <td>3</td>\n",
              "      <td>1</td>\n",
              "      <td>2</td>\n",
              "      <td>4</td>\n",
              "    </tr>\n",
              "    <tr>\n",
              "      <th>one careless match start forest fire takes whole box start campfire</th>\n",
              "      <td>2</td>\n",
              "      <td>1</td>\n",
              "      <td>2</td>\n",
              "      <td>1</td>\n",
              "      <td>2</td>\n",
              "      <td>2</td>\n",
              "    </tr>\n",
              "    <tr>\n",
              "      <th>trafford centre film fans angry odeon cinema evacuated following false fire alarm</th>\n",
              "      <td>2</td>\n",
              "      <td>1</td>\n",
              "      <td>2</td>\n",
              "      <td>1</td>\n",
              "      <td>2</td>\n",
              "      <td>2</td>\n",
              "    </tr>\n",
              "    <tr>\n",
              "      <th>caution breathing may hazardous health</th>\n",
              "      <td>2</td>\n",
              "      <td>1</td>\n",
              "      <td>1</td>\n",
              "      <td>1</td>\n",
              "      <td>2</td>\n",
              "      <td>1</td>\n",
              "    </tr>\n",
              "    <tr>\n",
              "      <th>spot flood combo 53inch 300w curved cree led work light bar 4x4 offroad fog lamp full û</th>\n",
              "      <td>7</td>\n",
              "      <td>1</td>\n",
              "      <td>1</td>\n",
              "      <td>1</td>\n",
              "      <td>2</td>\n",
              "      <td>7</td>\n",
              "    </tr>\n",
              "    <tr>\n",
              "      <th>...</th>\n",
              "      <td>...</td>\n",
              "      <td>...</td>\n",
              "      <td>...</td>\n",
              "      <td>...</td>\n",
              "      <td>...</td>\n",
              "      <td>...</td>\n",
              "    </tr>\n",
              "    <tr>\n",
              "      <th>flood two people dead 60 houses destroyed kaduna two people reportedly killed 60 houses ut</th>\n",
              "      <td>2</td>\n",
              "      <td>1</td>\n",
              "      <td>2</td>\n",
              "      <td>1</td>\n",
              "      <td>1</td>\n",
              "      <td>2</td>\n",
              "    </tr>\n",
              "    <tr>\n",
              "      <th>flood prone waterways westchester county eligible millions state aid newyork</th>\n",
              "      <td>1</td>\n",
              "      <td>1</td>\n",
              "      <td>1</td>\n",
              "      <td>1</td>\n",
              "      <td>1</td>\n",
              "      <td>1</td>\n",
              "    </tr>\n",
              "    <tr>\n",
              "      <th>flood mudslide warning east fjords iceland review icelandreview via icelandreview</th>\n",
              "      <td>1</td>\n",
              "      <td>1</td>\n",
              "      <td>1</td>\n",
              "      <td>1</td>\n",
              "      <td>1</td>\n",
              "      <td>1</td>\n",
              "    </tr>\n",
              "    <tr>\n",
              "      <th>flood disaster heavy rain causes flash flooding streets manitou colorado springs areas</th>\n",
              "      <td>1</td>\n",
              "      <td>1</td>\n",
              "      <td>1</td>\n",
              "      <td>1</td>\n",
              "      <td>1</td>\n",
              "      <td>1</td>\n",
              "    </tr>\n",
              "    <tr>\n",
              "      <th>ûïlittle boy û affected people hiroshima ûò eyewitness testimonials</th>\n",
              "      <td>1</td>\n",
              "      <td>1</td>\n",
              "      <td>1</td>\n",
              "      <td>1</td>\n",
              "      <td>1</td>\n",
              "      <td>1</td>\n",
              "    </tr>\n",
              "  </tbody>\n",
              "</table>\n",
              "<p>6922 rows × 6 columns</p>\n",
              "</div>"
            ],
            "text/plain": [
              "                                                                                             id  ...  original_text\n",
              "text                                                                                             ...               \n",
              "look state actions year fergusons upheaval                                                   4   ...  4            \n",
              "one careless match start forest fire takes whole box start campfire                          2   ...  2            \n",
              "trafford centre film fans angry odeon cinema evacuated following false fire alarm            2   ...  2            \n",
              "caution breathing may hazardous health                                                       2   ...  1            \n",
              "spot flood combo 53inch 300w curved cree led work light bar 4x4 offroad fog lamp full û      7   ...  7            \n",
              "...                                                                                         ..   ... ..            \n",
              "flood two people dead 60 houses destroyed kaduna two people reportedly killed 60 houses ut   2   ...  2            \n",
              "flood prone waterways westchester county eligible millions state aid newyork                 1   ...  1            \n",
              "flood mudslide warning east fjords iceland review icelandreview via icelandreview            1   ...  1            \n",
              "flood disaster heavy rain causes flash flooding streets manitou colorado springs areas       1   ...  1            \n",
              "ûïlittle boy û affected people hiroshima ûò eyewitness testimonials                          1   ...  1            \n",
              "\n",
              "[6922 rows x 6 columns]"
            ]
          },
          "metadata": {
            "tags": []
          },
          "execution_count": 28
        }
      ]
    },
    {
      "cell_type": "code",
      "metadata": {
        "id": "AbmYmOAMVquH",
        "colab_type": "code",
        "colab": {}
      },
      "source": [
        "# Remove the mislabelled tweets\n",
        "incorrect_labels_df = train.groupby(['text']).nunique().sort_values(by='target', ascending=False)\n",
        "incorrect_labels_df = incorrect_labels_df[incorrect_labels_df['target'] > 1]\n",
        "incorrect_texts = incorrect_labels_df.index.tolist()\n",
        "train = train[~train.text.isin(incorrect_texts)]"
      ],
      "execution_count": 0,
      "outputs": []
    },
    {
      "cell_type": "code",
      "metadata": {
        "id": "LdZOxvVKm_kW",
        "colab_type": "code",
        "outputId": "f533e458-3202-4f69-ea14-d65162747f92",
        "colab": {
          "base_uri": "https://localhost:8080/",
          "height": 34
        }
      },
      "source": [
        "print(len(train))"
      ],
      "execution_count": 0,
      "outputs": [
        {
          "output_type": "stream",
          "text": [
            "7357\n"
          ],
          "name": "stdout"
        }
      ]
    },
    {
      "cell_type": "markdown",
      "metadata": {
        "id": "gkJVSdJrLIRY",
        "colab_type": "text"
      },
      "source": [
        "## **Model**"
      ]
    },
    {
      "cell_type": "code",
      "metadata": {
        "id": "okPrebtqSkO7",
        "colab_type": "code",
        "colab": {}
      },
      "source": [
        "!wget --quiet https://raw.githubusercontent.com/tensorflow/models/master/official/nlp/bert/tokenization.py"
      ],
      "execution_count": 0,
      "outputs": []
    },
    {
      "cell_type": "code",
      "metadata": {
        "id": "MnXJdO5nUbFZ",
        "colab_type": "code",
        "outputId": "25916606-45db-498c-ae5b-d6436887b794",
        "colab": {
          "base_uri": "https://localhost:8080/",
          "height": 124
        }
      },
      "source": [
        "!pip install sentencepiece"
      ],
      "execution_count": 0,
      "outputs": [
        {
          "output_type": "stream",
          "text": [
            "Collecting sentencepiece\n",
            "\u001b[?25l  Downloading https://files.pythonhosted.org/packages/d4/a4/d0a884c4300004a78cca907a6ff9a5e9fe4f090f5d95ab341c53d28cbc58/sentencepiece-0.1.91-cp36-cp36m-manylinux1_x86_64.whl (1.1MB)\n",
            "\r\u001b[K     |▎                               | 10kB 17.9MB/s eta 0:00:01\r\u001b[K     |▋                               | 20kB 1.7MB/s eta 0:00:01\r\u001b[K     |█                               | 30kB 2.3MB/s eta 0:00:01\r\u001b[K     |█▏                              | 40kB 2.6MB/s eta 0:00:01\r\u001b[K     |█▌                              | 51kB 2.0MB/s eta 0:00:01\r\u001b[K     |█▉                              | 61kB 2.3MB/s eta 0:00:01\r\u001b[K     |██▏                             | 71kB 2.5MB/s eta 0:00:01\r\u001b[K     |██▍                             | 81kB 2.8MB/s eta 0:00:01\r\u001b[K     |██▊                             | 92kB 3.0MB/s eta 0:00:01\r\u001b[K     |███                             | 102kB 2.8MB/s eta 0:00:01\r\u001b[K     |███▍                            | 112kB 2.8MB/s eta 0:00:01\r\u001b[K     |███▋                            | 122kB 2.8MB/s eta 0:00:01\r\u001b[K     |████                            | 133kB 2.8MB/s eta 0:00:01\r\u001b[K     |████▎                           | 143kB 2.8MB/s eta 0:00:01\r\u001b[K     |████▋                           | 153kB 2.8MB/s eta 0:00:01\r\u001b[K     |████▉                           | 163kB 2.8MB/s eta 0:00:01\r\u001b[K     |█████▏                          | 174kB 2.8MB/s eta 0:00:01\r\u001b[K     |█████▌                          | 184kB 2.8MB/s eta 0:00:01\r\u001b[K     |█████▉                          | 194kB 2.8MB/s eta 0:00:01\r\u001b[K     |██████                          | 204kB 2.8MB/s eta 0:00:01\r\u001b[K     |██████▍                         | 215kB 2.8MB/s eta 0:00:01\r\u001b[K     |██████▊                         | 225kB 2.8MB/s eta 0:00:01\r\u001b[K     |███████                         | 235kB 2.8MB/s eta 0:00:01\r\u001b[K     |███████▎                        | 245kB 2.8MB/s eta 0:00:01\r\u001b[K     |███████▋                        | 256kB 2.8MB/s eta 0:00:01\r\u001b[K     |████████                        | 266kB 2.8MB/s eta 0:00:01\r\u001b[K     |████████▎                       | 276kB 2.8MB/s eta 0:00:01\r\u001b[K     |████████▌                       | 286kB 2.8MB/s eta 0:00:01\r\u001b[K     |████████▉                       | 296kB 2.8MB/s eta 0:00:01\r\u001b[K     |█████████▏                      | 307kB 2.8MB/s eta 0:00:01\r\u001b[K     |█████████▌                      | 317kB 2.8MB/s eta 0:00:01\r\u001b[K     |█████████▊                      | 327kB 2.8MB/s eta 0:00:01\r\u001b[K     |██████████                      | 337kB 2.8MB/s eta 0:00:01\r\u001b[K     |██████████▍                     | 348kB 2.8MB/s eta 0:00:01\r\u001b[K     |██████████▊                     | 358kB 2.8MB/s eta 0:00:01\r\u001b[K     |███████████                     | 368kB 2.8MB/s eta 0:00:01\r\u001b[K     |███████████▎                    | 378kB 2.8MB/s eta 0:00:01\r\u001b[K     |███████████▋                    | 389kB 2.8MB/s eta 0:00:01\r\u001b[K     |████████████                    | 399kB 2.8MB/s eta 0:00:01\r\u001b[K     |████████████▏                   | 409kB 2.8MB/s eta 0:00:01\r\u001b[K     |████████████▌                   | 419kB 2.8MB/s eta 0:00:01\r\u001b[K     |████████████▉                   | 430kB 2.8MB/s eta 0:00:01\r\u001b[K     |█████████████▏                  | 440kB 2.8MB/s eta 0:00:01\r\u001b[K     |█████████████▍                  | 450kB 2.8MB/s eta 0:00:01\r\u001b[K     |█████████████▊                  | 460kB 2.8MB/s eta 0:00:01\r\u001b[K     |██████████████                  | 471kB 2.8MB/s eta 0:00:01\r\u001b[K     |██████████████▍                 | 481kB 2.8MB/s eta 0:00:01\r\u001b[K     |██████████████▋                 | 491kB 2.8MB/s eta 0:00:01\r\u001b[K     |███████████████                 | 501kB 2.8MB/s eta 0:00:01\r\u001b[K     |███████████████▎                | 512kB 2.8MB/s eta 0:00:01\r\u001b[K     |███████████████▋                | 522kB 2.8MB/s eta 0:00:01\r\u001b[K     |███████████████▉                | 532kB 2.8MB/s eta 0:00:01\r\u001b[K     |████████████████▏               | 542kB 2.8MB/s eta 0:00:01\r\u001b[K     |████████████████▌               | 552kB 2.8MB/s eta 0:00:01\r\u001b[K     |████████████████▉               | 563kB 2.8MB/s eta 0:00:01\r\u001b[K     |█████████████████               | 573kB 2.8MB/s eta 0:00:01\r\u001b[K     |█████████████████▍              | 583kB 2.8MB/s eta 0:00:01\r\u001b[K     |█████████████████▊              | 593kB 2.8MB/s eta 0:00:01\r\u001b[K     |██████████████████              | 604kB 2.8MB/s eta 0:00:01\r\u001b[K     |██████████████████▎             | 614kB 2.8MB/s eta 0:00:01\r\u001b[K     |██████████████████▋             | 624kB 2.8MB/s eta 0:00:01\r\u001b[K     |███████████████████             | 634kB 2.8MB/s eta 0:00:01\r\u001b[K     |███████████████████▎            | 645kB 2.8MB/s eta 0:00:01\r\u001b[K     |███████████████████▌            | 655kB 2.8MB/s eta 0:00:01\r\u001b[K     |███████████████████▉            | 665kB 2.8MB/s eta 0:00:01\r\u001b[K     |████████████████████▏           | 675kB 2.8MB/s eta 0:00:01\r\u001b[K     |████████████████████▌           | 686kB 2.8MB/s eta 0:00:01\r\u001b[K     |████████████████████▊           | 696kB 2.8MB/s eta 0:00:01\r\u001b[K     |█████████████████████           | 706kB 2.8MB/s eta 0:00:01\r\u001b[K     |█████████████████████▍          | 716kB 2.8MB/s eta 0:00:01\r\u001b[K     |█████████████████████▋          | 727kB 2.8MB/s eta 0:00:01\r\u001b[K     |██████████████████████          | 737kB 2.8MB/s eta 0:00:01\r\u001b[K     |██████████████████████▎         | 747kB 2.8MB/s eta 0:00:01\r\u001b[K     |██████████████████████▋         | 757kB 2.8MB/s eta 0:00:01\r\u001b[K     |██████████████████████▉         | 768kB 2.8MB/s eta 0:00:01\r\u001b[K     |███████████████████████▏        | 778kB 2.8MB/s eta 0:00:01\r\u001b[K     |███████████████████████▌        | 788kB 2.8MB/s eta 0:00:01\r\u001b[K     |███████████████████████▉        | 798kB 2.8MB/s eta 0:00:01\r\u001b[K     |████████████████████████        | 808kB 2.8MB/s eta 0:00:01\r\u001b[K     |████████████████████████▍       | 819kB 2.8MB/s eta 0:00:01\r\u001b[K     |████████████████████████▊       | 829kB 2.8MB/s eta 0:00:01\r\u001b[K     |█████████████████████████       | 839kB 2.8MB/s eta 0:00:01\r\u001b[K     |█████████████████████████▎      | 849kB 2.8MB/s eta 0:00:01\r\u001b[K     |█████████████████████████▋      | 860kB 2.8MB/s eta 0:00:01\r\u001b[K     |██████████████████████████      | 870kB 2.8MB/s eta 0:00:01\r\u001b[K     |██████████████████████████▎     | 880kB 2.8MB/s eta 0:00:01\r\u001b[K     |██████████████████████████▌     | 890kB 2.8MB/s eta 0:00:01\r\u001b[K     |██████████████████████████▉     | 901kB 2.8MB/s eta 0:00:01\r\u001b[K     |███████████████████████████▏    | 911kB 2.8MB/s eta 0:00:01\r\u001b[K     |███████████████████████████▌    | 921kB 2.8MB/s eta 0:00:01\r\u001b[K     |███████████████████████████▊    | 931kB 2.8MB/s eta 0:00:01\r\u001b[K     |████████████████████████████    | 942kB 2.8MB/s eta 0:00:01\r\u001b[K     |████████████████████████████▍   | 952kB 2.8MB/s eta 0:00:01\r\u001b[K     |████████████████████████████▊   | 962kB 2.8MB/s eta 0:00:01\r\u001b[K     |█████████████████████████████   | 972kB 2.8MB/s eta 0:00:01\r\u001b[K     |█████████████████████████████▎  | 983kB 2.8MB/s eta 0:00:01\r\u001b[K     |█████████████████████████████▋  | 993kB 2.8MB/s eta 0:00:01\r\u001b[K     |██████████████████████████████  | 1.0MB 2.8MB/s eta 0:00:01\r\u001b[K     |██████████████████████████████▏ | 1.0MB 2.8MB/s eta 0:00:01\r\u001b[K     |██████████████████████████████▌ | 1.0MB 2.8MB/s eta 0:00:01\r\u001b[K     |██████████████████████████████▉ | 1.0MB 2.8MB/s eta 0:00:01\r\u001b[K     |███████████████████████████████▏| 1.0MB 2.8MB/s eta 0:00:01\r\u001b[K     |███████████████████████████████▍| 1.1MB 2.8MB/s eta 0:00:01\r\u001b[K     |███████████████████████████████▊| 1.1MB 2.8MB/s eta 0:00:01\r\u001b[K     |████████████████████████████████| 1.1MB 2.8MB/s \n",
            "\u001b[?25hInstalling collected packages: sentencepiece\n",
            "Successfully installed sentencepiece-0.1.91\n"
          ],
          "name": "stdout"
        }
      ]
    },
    {
      "cell_type": "markdown",
      "metadata": {
        "id": "46smE-w-Vn_H",
        "colab_type": "text"
      },
      "source": [
        "#### Encoding"
      ]
    },
    {
      "cell_type": "code",
      "metadata": {
        "id": "Q6ddYXBGSoE6",
        "colab_type": "code",
        "colab": {}
      },
      "source": [
        "# text -> tokens with padding\n",
        "def bert_encode(texts, tokenizer, max_len=512):\n",
        "    all_tokens = []\n",
        "    all_masks = []\n",
        "    all_segments = []\n",
        "    \n",
        "    for text in texts:\n",
        "        text = tokenizer.tokenize(text)\n",
        "            \n",
        "        text = text[:max_len-2]\n",
        "        input_sequence = [\"[CLS]\"] + text + [\"[SEP]\"]\n",
        "        pad_len = max_len - len(input_sequence)\n",
        "        \n",
        "        tokens = tokenizer.convert_tokens_to_ids(input_sequence)\n",
        "        tokens += [0] * pad_len\n",
        "        pad_masks = [1] * len(input_sequence) + [0] * pad_len\n",
        "        segment_ids = [0] * max_len\n",
        "        \n",
        "        all_tokens.append(tokens)\n",
        "        all_masks.append(pad_masks)\n",
        "        all_segments.append(segment_ids)\n",
        "    \n",
        "    return np.array(all_tokens), np.array(all_masks), np.array(all_segments)"
      ],
      "execution_count": 0,
      "outputs": []
    },
    {
      "cell_type": "code",
      "metadata": {
        "id": "3dAZ20U5Ts5y",
        "colab_type": "code",
        "outputId": "1f62f42f-f5a3-4204-c847-7861edd71c8b",
        "colab": {
          "base_uri": "https://localhost:8080/",
          "height": 52
        }
      },
      "source": [
        "%%time\n",
        "module_url = \"https://tfhub.dev/tensorflow/bert_en_uncased_L-24_H-1024_A-16/1\"\n",
        "bert_layer = hub.KerasLayer(module_url, trainable=True)"
      ],
      "execution_count": 0,
      "outputs": [
        {
          "output_type": "stream",
          "text": [
            "CPU times: user 22.5 s, sys: 4.26 s, total: 26.8 s\n",
            "Wall time: 42 s\n"
          ],
          "name": "stdout"
        }
      ]
    },
    {
      "cell_type": "code",
      "metadata": {
        "id": "Zn7WA3ufTzfT",
        "colab_type": "code",
        "colab": {}
      },
      "source": [
        "import tokenization\n",
        "\n",
        "vocab_file = bert_layer.resolved_object.vocab_file.asset_path.numpy()\n",
        "do_lower_case = bert_layer.resolved_object.do_lower_case.numpy()\n",
        "tokenizer = tokenization.FullTokenizer(vocab_file, do_lower_case)"
      ],
      "execution_count": 0,
      "outputs": []
    },
    {
      "cell_type": "code",
      "metadata": {
        "id": "7cOdSVucUtMo",
        "colab_type": "code",
        "colab": {}
      },
      "source": [
        "train = train.sample(frac=1).reset_index(drop=True)"
      ],
      "execution_count": 0,
      "outputs": []
    },
    {
      "cell_type": "code",
      "metadata": {
        "id": "c-nO6hSbUWFF",
        "colab_type": "code",
        "colab": {}
      },
      "source": [
        "from sklearn.preprocessing import OneHotEncoder\n",
        "\n",
        "def get_key_word_one_hot_encoding(data):\n",
        "    encoder = OneHotEncoder()\n",
        "    keywords_encoded, keywords_categories = data['keyword'].factorize()\n",
        "    keywords_hot = encoder.fit_transform(keywords_encoded.reshape(-1,1))\n",
        "    encoded = keywords_hot.toarray() # keyword answer\n",
        "    return encoded"
      ],
      "execution_count": 0,
      "outputs": []
    },
    {
      "cell_type": "code",
      "metadata": {
        "id": "eZQeJOvXVj9q",
        "colab_type": "code",
        "outputId": "cfbc3fb0-fa92-4332-9c33-39dbd6670e32",
        "colab": {
          "base_uri": "https://localhost:8080/",
          "height": 34
        }
      },
      "source": [
        "keyword_answers = get_key_word_one_hot_encoding(train)\n",
        "keyword_answers = np.asarray(keyword_answers, np.float32)\n",
        "print(keyword_answers.shape)"
      ],
      "execution_count": 0,
      "outputs": [
        {
          "output_type": "stream",
          "text": [
            "(7357, 161)\n"
          ],
          "name": "stdout"
        }
      ]
    },
    {
      "cell_type": "code",
      "metadata": {
        "id": "UlphTfnPVHxU",
        "colab_type": "code",
        "colab": {}
      },
      "source": [
        "val_len = int(train_len*0.2)\n",
        "val = train[-val_len:]\n",
        "train = train[:-val_len]"
      ],
      "execution_count": 0,
      "outputs": []
    },
    {
      "cell_type": "code",
      "metadata": {
        "id": "56YpxDjPpvG-",
        "colab_type": "code",
        "outputId": "5dc43eb4-5edb-4854-98ab-0cf4137c0ad3",
        "colab": {
          "base_uri": "https://localhost:8080/",
          "height": 52
        }
      },
      "source": [
        "print(len(val))\n",
        "print(len(train))"
      ],
      "execution_count": 0,
      "outputs": [
        {
          "output_type": "stream",
          "text": [
            "1522\n",
            "5835\n"
          ],
          "name": "stdout"
        }
      ]
    },
    {
      "cell_type": "code",
      "metadata": {
        "id": "Mejf8Njutgs4",
        "colab_type": "code",
        "outputId": "66877bbf-86b9-4d6e-b2b6-0c6e1daf07ac",
        "colab": {
          "base_uri": "https://localhost:8080/",
          "height": 34
        }
      },
      "source": [
        "train_keyword_answers = keyword_answers[:-val_len]\n",
        "val_keyword_answers = keyword_answers[-val_len:]\n",
        "print(val_keyword_answers.shape)"
      ],
      "execution_count": 0,
      "outputs": [
        {
          "output_type": "stream",
          "text": [
            "(1522, 161)\n"
          ],
          "name": "stdout"
        }
      ]
    },
    {
      "cell_type": "code",
      "metadata": {
        "id": "EpaduEUwU2QE",
        "colab_type": "code",
        "colab": {}
      },
      "source": [
        "train_disaster_answers = train['target'].values\n",
        "train_disaster_answers = np.asarray(train_disaster_answers, np.float32)\n",
        "\n",
        "val_disaster_answers = val['target'].values\n",
        "val_disaster_answers = np.asarray(val_disaster_answers, np.float32)"
      ],
      "execution_count": 0,
      "outputs": []
    },
    {
      "cell_type": "code",
      "metadata": {
        "id": "qFfRP0WJycNR",
        "colab_type": "code",
        "outputId": "c7b8cd2e-ff34-4be2-bce3-dfa1d8a50750",
        "colab": {
          "base_uri": "https://localhost:8080/",
          "height": 122
        }
      },
      "source": [
        "#check\n",
        "print(train.shape)\n",
        "print(train_disaster_answers.shape)\n",
        "print(train_keyword_answers.shape)\n",
        "\n",
        "\n",
        "print(val.shape)\n",
        "print(val_disaster_answers.shape)\n",
        "print(val_keyword_answers.shape)"
      ],
      "execution_count": 0,
      "outputs": [
        {
          "output_type": "stream",
          "text": [
            "(5835, 6)\n",
            "(5835,)\n",
            "(5835, 161)\n",
            "(1522, 6)\n",
            "(1522,)\n",
            "(1522, 161)\n"
          ],
          "name": "stdout"
        }
      ]
    },
    {
      "cell_type": "code",
      "metadata": {
        "id": "OxdWo2cXUxY7",
        "colab_type": "code",
        "colab": {}
      },
      "source": [
        "train_input = bert_encode(train.text.values, tokenizer, max_len=160)\n",
        "val_input = bert_encode(val.text.values, tokenizer, max_len=160)\n",
        "test_input = bert_encode(test.text.values, tokenizer, max_len=160)"
      ],
      "execution_count": 0,
      "outputs": []
    },
    {
      "cell_type": "markdown",
      "metadata": {
        "id": "0NXqVbSQVp6D",
        "colab_type": "text"
      },
      "source": [
        "#### Build Model"
      ]
    },
    {
      "cell_type": "code",
      "metadata": {
        "id": "z-AI1Shkhcbr",
        "colab_type": "code",
        "colab": {}
      },
      "source": [
        "EPOCHS = 15\n",
        "INIT_LR = 1e-5"
      ],
      "execution_count": 0,
      "outputs": []
    },
    {
      "cell_type": "code",
      "metadata": {
        "id": "Dme1R0g5TIhi",
        "colab_type": "code",
        "colab": {}
      },
      "source": [
        "def build_model(bert_layer, max_len=512):\n",
        "    input_word_ids = Input(shape=(max_len,), dtype=tf.int32, name=\"input_word_ids\")\n",
        "    input_mask = Input(shape=(max_len,), dtype=tf.int32, name=\"input_mask\")\n",
        "    segment_ids = Input(shape=(max_len,), dtype=tf.int32, name=\"segment_ids\")\n",
        "\n",
        "    _, sequence_output = bert_layer([input_word_ids, input_mask, segment_ids])\n",
        "    clf_output = sequence_output[:, 0, :]\n",
        "\n",
        "    drop_out = tf.keras.layers.Dropout(0.3)(clf_output)\n",
        "\n",
        "    out = Dense(160, activation='relu', kernel_regularizer=tf.keras.regularizers.l2(0.2), name = \"hidden\")(drop_out)\n",
        "    disaster_out = Dense(1, activation='sigmoid', kernel_regularizer=tf.keras.regularizers.l2(0.2), name=\"disaster_output\")(out)\n",
        "\n",
        "    keyword_out = Dense(161, activation='softmax', kernel_regularizer=tf.keras.regularizers.l2(0.2), name=\"keyword_output\")(drop_out)\n",
        "    \n",
        "    model = Model(inputs=[input_word_ids, input_mask, segment_ids], outputs=[disaster_out, keyword_out])\n",
        "    losses = {\n",
        "        \"disaster_output\": \"binary_crossentropy\",\n",
        "        \"keyword_output\": \"categorical_crossentropy\"\n",
        "    }\n",
        "    lossWeights = {\n",
        "        \"disaster_output\": 0.6,\n",
        "        \"keyword_output\": 0.4 }\n",
        "    model.compile(optimizer=Adam(lr=INIT_LR, decay=INIT_LR / (EPOCHS*EPOCHS)), loss=losses, loss_weights=lossWeights, metrics=['accuracy'])\n",
        "    \n",
        "    return model"
      ],
      "execution_count": 0,
      "outputs": []
    },
    {
      "cell_type": "code",
      "metadata": {
        "id": "x1ZdxB6yViWb",
        "colab_type": "code",
        "outputId": "c1e2e821-886a-4ffe-a51d-6a4b982ecc21",
        "colab": {
          "base_uri": "https://localhost:8080/",
          "height": 507
        }
      },
      "source": [
        "model = build_model(bert_layer, max_len=160)\n",
        "model.summary()"
      ],
      "execution_count": 0,
      "outputs": [
        {
          "output_type": "stream",
          "text": [
            "Model: \"model\"\n",
            "__________________________________________________________________________________________________\n",
            "Layer (type)                    Output Shape         Param #     Connected to                     \n",
            "==================================================================================================\n",
            "input_word_ids (InputLayer)     [(None, 160)]        0                                            \n",
            "__________________________________________________________________________________________________\n",
            "input_mask (InputLayer)         [(None, 160)]        0                                            \n",
            "__________________________________________________________________________________________________\n",
            "segment_ids (InputLayer)        [(None, 160)]        0                                            \n",
            "__________________________________________________________________________________________________\n",
            "keras_layer (KerasLayer)        [(None, 1024), (None 335141889   input_word_ids[0][0]             \n",
            "                                                                 input_mask[0][0]                 \n",
            "                                                                 segment_ids[0][0]                \n",
            "__________________________________________________________________________________________________\n",
            "tf_op_layer_strided_slice_2 (Te [(None, 1024)]       0           keras_layer[2][1]                \n",
            "__________________________________________________________________________________________________\n",
            "dropout_2 (Dropout)             (None, 1024)         0           tf_op_layer_strided_slice_2[0][0]\n",
            "__________________________________________________________________________________________________\n",
            "hidden (Dense)                  (None, 160)          164000      dropout_2[0][0]                  \n",
            "__________________________________________________________________________________________________\n",
            "disaster_output (Dense)         (None, 1)            161         hidden[0][0]                     \n",
            "__________________________________________________________________________________________________\n",
            "keyword_output (Dense)          (None, 161)          165025      dropout_2[0][0]                  \n",
            "==================================================================================================\n",
            "Total params: 335,471,075\n",
            "Trainable params: 335,471,074\n",
            "Non-trainable params: 1\n",
            "__________________________________________________________________________________________________\n"
          ],
          "name": "stdout"
        }
      ]
    },
    {
      "cell_type": "code",
      "metadata": {
        "id": "eFqj7lQLnRWb",
        "colab_type": "code",
        "colab": {}
      },
      "source": [
        "es = EarlyStopping(monitor='val_disaster_output_accuracy', mode='max', verbose=1, patience=5)\n",
        "mc = ModelCheckpoint('best_model.h5', monitor='val_disaster_output_accuracy', mode='max', save_best_only=True)"
      ],
      "execution_count": 0,
      "outputs": []
    },
    {
      "cell_type": "code",
      "metadata": {
        "id": "zNQ2Q8C9PcUX",
        "colab_type": "code",
        "outputId": "0b271f31-25c9-4972-bb88-a30abb2a327b",
        "colab": {
          "base_uri": "https://localhost:8080/",
          "height": 474
        }
      },
      "source": [
        "%%time\n",
        "train_history = model.fit(\n",
        "    train_input, \n",
        "    {\"disaster_output\": train_disaster_answers, \"keyword_output\": train_keyword_answers },\n",
        "    validation_data=(val_input, {\"disaster_output\": val_disaster_answers, \"keyword_output\": val_keyword_answers}),\n",
        "    epochs=EPOCHS,\n",
        "    batch_size=8,\n",
        "    callbacks=[es, mc]\n",
        ")"
      ],
      "execution_count": 0,
      "outputs": [
        {
          "output_type": "stream",
          "text": [
            "Epoch 1/15\n",
            "730/730 [==============================] - 453s 620ms/step - loss: 98.2674 - disaster_output_loss: 0.4689 - keyword_output_loss: 3.9781 - disaster_output_accuracy: 0.7911 - keyword_output_accuracy: 0.2368 - val_loss: 83.6539 - val_disaster_output_loss: 0.4303 - val_keyword_output_loss: 1.6396 - val_disaster_output_accuracy: 0.8193 - val_keyword_output_accuracy: 0.7332\n",
            "Epoch 2/15\n",
            "730/730 [==============================] - 458s 627ms/step - loss: 72.0236 - disaster_output_loss: 0.3759 - keyword_output_loss: 0.9428 - disaster_output_accuracy: 0.8413 - keyword_output_accuracy: 0.8440 - val_loss: 61.4758 - val_disaster_output_loss: 0.3987 - val_keyword_output_loss: 0.7473 - val_disaster_output_accuracy: 0.8259 - val_keyword_output_accuracy: 0.8739\n",
            "Epoch 3/15\n",
            "730/730 [==============================] - 385s 527ms/step - loss: 52.3968 - disaster_output_loss: 0.2619 - keyword_output_loss: 0.4317 - disaster_output_accuracy: 0.8941 - keyword_output_accuracy: 0.9371 - val_loss: 44.4312 - val_disaster_output_loss: 0.4530 - val_keyword_output_loss: 0.7353 - val_disaster_output_accuracy: 0.8114 - val_keyword_output_accuracy: 0.8850\n",
            "Epoch 4/15\n",
            "730/730 [==============================] - 384s 527ms/step - loss: 37.2147 - disaster_output_loss: 0.1601 - keyword_output_loss: 0.3231 - disaster_output_accuracy: 0.9465 - keyword_output_accuracy: 0.9698 - val_loss: 31.2267 - val_disaster_output_loss: 0.4481 - val_keyword_output_loss: 0.7205 - val_disaster_output_accuracy: 0.8252 - val_keyword_output_accuracy: 0.8916\n",
            "Epoch 5/15\n",
            "730/730 [==============================] - 385s 527ms/step - loss: 25.6294 - disaster_output_loss: 0.1040 - keyword_output_loss: 0.2992 - disaster_output_accuracy: 0.9716 - keyword_output_accuracy: 0.9825 - val_loss: 21.2506 - val_disaster_output_loss: 0.4496 - val_keyword_output_loss: 0.7275 - val_disaster_output_accuracy: 0.8147 - val_keyword_output_accuracy: 0.8982\n",
            "Epoch 6/15\n",
            "730/730 [==============================] - 457s 626ms/step - loss: 17.0263 - disaster_output_loss: 0.0891 - keyword_output_loss: 0.3335 - disaster_output_accuracy: 0.9817 - keyword_output_accuracy: 0.9873 - val_loss: 13.9832 - val_disaster_output_loss: 0.4761 - val_keyword_output_loss: 0.7990 - val_disaster_output_accuracy: 0.8298 - val_keyword_output_accuracy: 0.8982\n",
            "Epoch 7/15\n",
            "730/730 [==============================] - 385s 527ms/step - loss: 10.8752 - disaster_output_loss: 0.0841 - keyword_output_loss: 0.4070 - disaster_output_accuracy: 0.9895 - keyword_output_accuracy: 0.9914 - val_loss: 8.9070 - val_disaster_output_loss: 0.4580 - val_keyword_output_loss: 0.9225 - val_disaster_output_accuracy: 0.8239 - val_keyword_output_accuracy: 0.8968\n",
            "Epoch 8/15\n",
            "730/730 [==============================] - 385s 527ms/step - loss: 6.7485 - disaster_output_loss: 0.0984 - keyword_output_loss: 0.5679 - disaster_output_accuracy: 0.9875 - keyword_output_accuracy: 0.9926 - val_loss: 5.6507 - val_disaster_output_loss: 0.4947 - val_keyword_output_loss: 1.0997 - val_disaster_output_accuracy: 0.8003 - val_keyword_output_accuracy: 0.8955\n",
            "Epoch 9/15\n",
            "730/730 [==============================] - 385s 527ms/step - loss: 4.2207 - disaster_output_loss: 0.1155 - keyword_output_loss: 0.8298 - disaster_output_accuracy: 0.9890 - keyword_output_accuracy: 0.9949 - val_loss: 3.7392 - val_disaster_output_loss: 0.4610 - val_keyword_output_loss: 1.3839 - val_disaster_output_accuracy: 0.8114 - val_keyword_output_accuracy: 0.8955\n",
            "Epoch 10/15\n",
            "730/730 [==============================] - 384s 527ms/step - loss: 2.8303 - disaster_output_loss: 0.1223 - keyword_output_loss: 1.1277 - disaster_output_accuracy: 0.9890 - keyword_output_accuracy: 0.9943 - val_loss: 2.7456 - val_disaster_output_loss: 0.4506 - val_keyword_output_loss: 1.6456 - val_disaster_output_accuracy: 0.8193 - val_keyword_output_accuracy: 0.8936\n",
            "Epoch 11/15\n",
            "730/730 [==============================] - 384s 526ms/step - loss: 2.1394 - disaster_output_loss: 0.1279 - keyword_output_loss: 1.3833 - disaster_output_accuracy: 0.9911 - keyword_output_accuracy: 0.9949 - val_loss: 2.2749 - val_disaster_output_loss: 0.4684 - val_keyword_output_loss: 1.8248 - val_disaster_output_accuracy: 0.7996 - val_keyword_output_accuracy: 0.8936\n",
            "Epoch 00011: early stopping\n",
            "CPU times: user 41min 10s, sys: 21min 59s, total: 1h 3min 10s\n",
            "Wall time: 1h 14min 42s\n"
          ],
          "name": "stdout"
        }
      ]
    },
    {
      "cell_type": "code",
      "metadata": {
        "id": "PTF41goWt2z3",
        "colab_type": "code",
        "outputId": "55744619-b689-4e5f-cf95-9d66ff94fa0d",
        "colab": {
          "base_uri": "https://localhost:8080/",
          "height": 350
        }
      },
      "source": [
        "import matplotlib.pyplot as plt\n",
        "\n",
        "fig = plt.figure()\n",
        "ax1 = fig.add_subplot(1, 2, 1)\n",
        "ax2 = fig.add_subplot(1, 2, 2)\n",
        "\n",
        "ax1.plot(train_history.history['disaster_output_accuracy'], 'y', label='train accuracy')\n",
        "ax1.plot(train_history.history['val_disaster_output_accuracy'], 'r', label='val accuracy')\n",
        "ax1.set_xlabel('epoch')\n",
        "ax1.set_ylabel('accuracy')\n",
        "ax1.title.set_text(\"Disaster Output Acc\")\n",
        "\n",
        "ax2.plot(train_history.history['keyword_output_accuracy'], 'b', label='detecting keywords accuracy')\n",
        "ax2.plot(train_history.history['val_keyword_output_accuracy'], 'g', label='val detecting keywords accuracy')\n",
        "ax2.set_xlabel('epoch')\n",
        "ax2.set_ylabel('detecting keywords accuracy')\n",
        "ax2.title.set_text(\"Keyword Output Acc\")\n",
        "\n",
        "plt.show()"
      ],
      "execution_count": 0,
      "outputs": [
        {
          "output_type": "display_data",
          "data": {
            "image/png": "[encoded data removed]",
            "text/plain": [
              "<Figure size 1080x360 with 2 Axes>"
            ]
          },
          "metadata": {
            "tags": [],
            "needs_background": "light"
          }
        }
      ]
    },
    {
      "cell_type": "code",
      "metadata": {
        "id": "-EC0KHUJWopN",
        "colab_type": "code",
        "colab": {}
      },
      "source": [
        "# model.save('Bertmodel.h5')"
      ],
      "execution_count": 0,
      "outputs": []
    },
    {
      "cell_type": "code",
      "metadata": {
        "id": "ZKwvcD3fojNL",
        "colab_type": "code",
        "colab": {}
      },
      "source": [
        "# cp './Bertmodel.h5' '/content/gdrive/My Drive/Data Mining Project/BertmodelwKeyword4.h5'"
      ],
      "execution_count": 0,
      "outputs": []
    },
    {
      "cell_type": "markdown",
      "metadata": {
        "id": "5EYja9RSLOnx",
        "colab_type": "text"
      },
      "source": [
        "## Submission"
      ]
    },
    {
      "cell_type": "code",
      "metadata": {
        "id": "KXRXYWbJnVCV",
        "colab_type": "code",
        "colab": {}
      },
      "source": [
        "# load a saved model\n",
        "model = tf.keras.models.load_model('best_model.h5',custom_objects={'KerasLayer':hub.KerasLayer})"
      ],
      "execution_count": 0,
      "outputs": []
    },
    {
      "cell_type": "code",
      "metadata": {
        "id": "VlEnfZxTLM_q",
        "colab_type": "code",
        "colab": {}
      },
      "source": [
        "submission=pd.read_csv('./sample_submission.csv')"
      ],
      "execution_count": 0,
      "outputs": []
    },
    {
      "cell_type": "code",
      "metadata": {
        "id": "9STbE_3qLQ-w",
        "colab_type": "code",
        "colab": {}
      },
      "source": [
        "test_pred, _ = model.predict(test_input)\n",
        "submission['target'] = test_pred.round().astype(int)\n",
        "submission.to_csv('submission.csv', index=False)"
      ],
      "execution_count": 0,
      "outputs": []
    },
    {
      "cell_type": "code",
      "metadata": {
        "id": "j_jFWyOELScb",
        "colab_type": "code",
        "outputId": "abe90d19-b0d7-4bcc-b7a9-5b73a83be08b",
        "colab": {
          "base_uri": "https://localhost:8080/",
          "height": 204
        }
      },
      "source": [
        "submission.head()"
      ],
      "execution_count": 0,
      "outputs": [
        {
          "output_type": "execute_result",
          "data": {
            "text/html": [
              "<div>\n",
              "<style scoped>\n",
              "    .dataframe tbody tr th:only-of-type {\n",
              "        vertical-align: middle;\n",
              "    }\n",
              "\n",
              "    .dataframe tbody tr th {\n",
              "        vertical-align: top;\n",
              "    }\n",
              "\n",
              "    .dataframe thead th {\n",
              "        text-align: right;\n",
              "    }\n",
              "</style>\n",
              "<table border=\"1\" class=\"dataframe\">\n",
              "  <thead>\n",
              "    <tr style=\"text-align: right;\">\n",
              "      <th></th>\n",
              "      <th>id</th>\n",
              "      <th>target</th>\n",
              "    </tr>\n",
              "  </thead>\n",
              "  <tbody>\n",
              "    <tr>\n",
              "      <th>0</th>\n",
              "      <td>0</td>\n",
              "      <td>1</td>\n",
              "    </tr>\n",
              "    <tr>\n",
              "      <th>1</th>\n",
              "      <td>2</td>\n",
              "      <td>1</td>\n",
              "    </tr>\n",
              "    <tr>\n",
              "      <th>2</th>\n",
              "      <td>3</td>\n",
              "      <td>1</td>\n",
              "    </tr>\n",
              "    <tr>\n",
              "      <th>3</th>\n",
              "      <td>9</td>\n",
              "      <td>1</td>\n",
              "    </tr>\n",
              "    <tr>\n",
              "      <th>4</th>\n",
              "      <td>11</td>\n",
              "      <td>1</td>\n",
              "    </tr>\n",
              "  </tbody>\n",
              "</table>\n",
              "</div>"
            ],
            "text/plain": [
              "   id  target\n",
              "0  0   1     \n",
              "1  2   1     \n",
              "2  3   1     \n",
              "3  9   1     \n",
              "4  11  1     "
            ]
          },
          "metadata": {
            "tags": []
          },
          "execution_count": 62
        }
      ]
    },
    {
      "cell_type": "code",
      "metadata": {
        "id": "uw_KAR1f1aQD",
        "colab_type": "code",
        "outputId": "d554c896-39cc-4c1f-b99b-a9ff337cf724",
        "colab": {
          "base_uri": "https://localhost:8080/",
          "height": 69
        }
      },
      "source": [
        "!kaggle competitions submit -c nlp-getting-started -f submission.csv -m \"joint-learning_v3\""
      ],
      "execution_count": 0,
      "outputs": [
        {
          "output_type": "stream",
          "text": [
            "Warning: Looks like you're using an outdated API Version, please consider updating (server 1.5.6 / client 1.5.4)\n",
            "100% 22.2k/22.2k [00:07<00:00, 3.04kB/s]\n",
            "Successfully submitted to Real or Not? NLP with Disaster Tweets"
          ],
          "name": "stdout"
        }
      ]
    },
    {
      "cell_type": "code",
      "metadata": {
        "id": "MAmCy97Hdamb",
        "colab_type": "code",
        "colab": {}
      },
      "source": [
        "# !cp './Bert+keyword5_submission.csv' '/content/gdrive/My Drive/Data Mining Project/Bert+keyword5_submission.csv'"
      ],
      "execution_count": 0,
      "outputs": []
    },
    {
      "cell_type": "code",
      "metadata": {
        "id": "9doisXKMoGS5",
        "colab_type": "code",
        "outputId": "e5a905e7-a0ea-4f75-bf63-75c221b7cbd7",
        "colab": {
          "base_uri": "https://localhost:8080/",
          "height": 419
        }
      },
      "source": [
        "submission"
      ],
      "execution_count": 0,
      "outputs": [
        {
          "output_type": "execute_result",
          "data": {
            "text/html": [
              "<div>\n",
              "<style scoped>\n",
              "    .dataframe tbody tr th:only-of-type {\n",
              "        vertical-align: middle;\n",
              "    }\n",
              "\n",
              "    .dataframe tbody tr th {\n",
              "        vertical-align: top;\n",
              "    }\n",
              "\n",
              "    .dataframe thead th {\n",
              "        text-align: right;\n",
              "    }\n",
              "</style>\n",
              "<table border=\"1\" class=\"dataframe\">\n",
              "  <thead>\n",
              "    <tr style=\"text-align: right;\">\n",
              "      <th></th>\n",
              "      <th>id</th>\n",
              "      <th>target</th>\n",
              "    </tr>\n",
              "  </thead>\n",
              "  <tbody>\n",
              "    <tr>\n",
              "      <th>0</th>\n",
              "      <td>0</td>\n",
              "      <td>1</td>\n",
              "    </tr>\n",
              "    <tr>\n",
              "      <th>1</th>\n",
              "      <td>2</td>\n",
              "      <td>1</td>\n",
              "    </tr>\n",
              "    <tr>\n",
              "      <th>2</th>\n",
              "      <td>3</td>\n",
              "      <td>1</td>\n",
              "    </tr>\n",
              "    <tr>\n",
              "      <th>3</th>\n",
              "      <td>9</td>\n",
              "      <td>1</td>\n",
              "    </tr>\n",
              "    <tr>\n",
              "      <th>4</th>\n",
              "      <td>11</td>\n",
              "      <td>1</td>\n",
              "    </tr>\n",
              "    <tr>\n",
              "      <th>...</th>\n",
              "      <td>...</td>\n",
              "      <td>...</td>\n",
              "    </tr>\n",
              "    <tr>\n",
              "      <th>3258</th>\n",
              "      <td>10861</td>\n",
              "      <td>1</td>\n",
              "    </tr>\n",
              "    <tr>\n",
              "      <th>3259</th>\n",
              "      <td>10865</td>\n",
              "      <td>1</td>\n",
              "    </tr>\n",
              "    <tr>\n",
              "      <th>3260</th>\n",
              "      <td>10868</td>\n",
              "      <td>1</td>\n",
              "    </tr>\n",
              "    <tr>\n",
              "      <th>3261</th>\n",
              "      <td>10874</td>\n",
              "      <td>1</td>\n",
              "    </tr>\n",
              "    <tr>\n",
              "      <th>3262</th>\n",
              "      <td>10875</td>\n",
              "      <td>1</td>\n",
              "    </tr>\n",
              "  </tbody>\n",
              "</table>\n",
              "<p>3263 rows × 2 columns</p>\n",
              "</div>"
            ],
            "text/plain": [
              "         id  target\n",
              "0     0      1     \n",
              "1     2      1     \n",
              "2     3      1     \n",
              "3     9      1     \n",
              "4     11     1     \n",
              "...   ..    ..     \n",
              "3258  10861  1     \n",
              "3259  10865  1     \n",
              "3260  10868  1     \n",
              "3261  10874  1     \n",
              "3262  10875  1     \n",
              "\n",
              "[3263 rows x 2 columns]"
            ]
          },
          "metadata": {
            "tags": []
          },
          "execution_count": 66
        }
      ]
    },
    {
      "cell_type": "code",
      "metadata": {
        "id": "Cc7kTg4ZP8uW",
        "colab_type": "code",
        "colab": {}
      },
      "source": [
        ""
      ],
      "execution_count": 0,
      "outputs": []
    }
  ]
}