{
  "nbformat": 4,
  "nbformat_minor": 0,
  "metadata": {
    "colab": {
      "name": "Kaggle_NLP_(1)data",
      "provenance": [],
      "collapsed_sections": []
    },
    "kernelspec": {
      "name": "python3",
      "display_name": "Python 3"
    }
  },
  "cells": [
    {
      "cell_type": "markdown",
      "metadata": {
        "id": "5QBGuPfG_xic",
        "colab_type": "text"
      },
      "source": [
        "# Setting"
      ]
    },
    {
      "cell_type": "code",
      "metadata": {
        "id": "YFIu6l2P9EaG",
        "colab_type": "code",
        "outputId": "771c090e-d647-4235-96f1-ae51edc2ae4b",
        "colab": {
          "resources": {
            "http://localhost:8080/nbextensions/google.colab/files.js": {
              "data": "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",
              "ok": true,
              "headers": [
                [
                  "content-type",
                  "application/javascript"
                ]
              ],
              "status": 200,
              "status_text": ""
            }
          },
          "base_uri": "https://localhost:8080/",
          "height": 307
        }
      },
      "source": [
        "!pip install kaggle\n",
        "from google.colab import files\n",
        "files.upload()"
      ],
      "execution_count": 1,
      "outputs": [
        {
          "output_type": "stream",
          "text": [
            "Requirement already satisfied: kaggle in /usr/local/lib/python3.6/dist-packages (1.5.6)\n",
            "Requirement already satisfied: python-slugify in /usr/local/lib/python3.6/dist-packages (from kaggle) (4.0.0)\n",
            "Requirement already satisfied: certifi in /usr/local/lib/python3.6/dist-packages (from kaggle) (2020.4.5.1)\n",
            "Requirement already satisfied: python-dateutil in /usr/local/lib/python3.6/dist-packages (from kaggle) (2.8.1)\n",
            "Requirement already satisfied: six>=1.10 in /usr/local/lib/python3.6/dist-packages (from kaggle) (1.12.0)\n",
            "Requirement already satisfied: urllib3<1.25,>=1.21.1 in /usr/local/lib/python3.6/dist-packages (from kaggle) (1.24.3)\n",
            "Requirement already satisfied: requests in /usr/local/lib/python3.6/dist-packages (from kaggle) (2.21.0)\n",
            "Requirement already satisfied: tqdm in /usr/local/lib/python3.6/dist-packages (from kaggle) (4.38.0)\n",
            "Requirement already satisfied: text-unidecode>=1.3 in /usr/local/lib/python3.6/dist-packages (from python-slugify->kaggle) (1.3)\n",
            "Requirement already satisfied: idna<2.9,>=2.5 in /usr/local/lib/python3.6/dist-packages (from requests->kaggle) (2.8)\n",
            "Requirement already satisfied: chardet<3.1.0,>=3.0.2 in /usr/local/lib/python3.6/dist-packages (from requests->kaggle) (3.0.4)\n"
          ],
          "name": "stdout"
        },
        {
          "output_type": "display_data",
          "data": {
            "text/html": [
              "\n",
              "     <input type=\"file\" id=\"files-5e3a6cbd-d515-4c73-bdd2-a623dbfca8d1\" name=\"files[]\" multiple disabled />\n",
              "     <output id=\"result-5e3a6cbd-d515-4c73-bdd2-a623dbfca8d1\">\n",
              "      Upload widget is only available when the cell has been executed in the\n",
              "      current browser session. Please rerun this cell to enable.\n",
              "      </output>\n",
              "      <script src=\"/nbextensions/google.colab/files.js\"></script> "
            ],
            "text/plain": [
              "<IPython.core.display.HTML object>"
            ]
          },
          "metadata": {
            "tags": []
          }
        },
        {
          "output_type": "stream",
          "text": [
            "Saving kaggle.json to kaggle (1).json\n"
          ],
          "name": "stdout"
        },
        {
          "output_type": "execute_result",
          "data": {
            "text/plain": [
              "{'kaggle.json': b'{\"username\":\"young917\",\"key\":\"38554d8ee11a16273014fb43b7fdc0a1\"}'}"
            ]
          },
          "metadata": {
            "tags": []
          },
          "execution_count": 1
        }
      ]
    },
    {
      "cell_type": "code",
      "metadata": {
        "id": "nrwHcSzt-JoR",
        "colab_type": "code",
        "outputId": "f12a97dc-27f0-4f71-c728-dbd99572859e",
        "colab": {
          "base_uri": "https://localhost:8080/",
          "height": 34
        }
      },
      "source": [
        "%ls -1ha kaggle.json"
      ],
      "execution_count": 2,
      "outputs": [
        {
          "output_type": "stream",
          "text": [
            "kaggle.json\n"
          ],
          "name": "stdout"
        }
      ]
    },
    {
      "cell_type": "code",
      "metadata": {
        "id": "c7YFa6U8-QCz",
        "colab_type": "code",
        "outputId": "265dea34-64a6-45c2-c90d-336549e4c56e",
        "colab": {
          "base_uri": "https://localhost:8080/",
          "height": 439
        }
      },
      "source": [
        "!mkdir -p ~/.kaggle\n",
        "!cp kaggle.json ~/.kaggle/\n",
        "# Permission Warning 이 일어나지 않도록 \n",
        "!chmod 600 ~/.kaggle/kaggle.json\n",
        "# 본인이 참가한 모든 대회 보기 \n",
        "!kaggle competitions list"
      ],
      "execution_count": 3,
      "outputs": [
        {
          "output_type": "stream",
          "text": [
            "Warning: Looks like you're using an outdated API Version, please consider updating (server 1.5.6 / client 1.5.4)\n",
            "ref                                               deadline             category            reward  teamCount  userHasEntered  \n",
            "------------------------------------------------  -------------------  ---------------  ---------  ---------  --------------  \n",
            "digit-recognizer                                  2030-01-01 00:00:00  Getting Started  Knowledge       2493           False  \n",
            "titanic                                           2030-01-01 00:00:00  Getting Started  Knowledge      18932           False  \n",
            "house-prices-advanced-regression-techniques       2030-01-01 00:00:00  Getting Started  Knowledge       4609            True  \n",
            "connectx                                          2030-01-01 00:00:00  Getting Started  Knowledge        337           False  \n",
            "nlp-getting-started                               2030-01-01 00:00:00  Getting Started      Kudos       2612            True  \n",
            "competitive-data-science-predict-future-sales     2020-12-31 23:59:00  Playground           Kudos       6445           False  \n",
            "prostate-cancer-grade-assessment                  2020-07-22 23:59:00  Featured           $25,000        119           False  \n",
            "halite                                            2020-06-30 23:59:00  Featured             Kudos          0           False  \n",
            "m5-forecasting-accuracy                           2020-06-30 23:59:00  Featured           $50,000       2939            True  \n",
            "m5-forecasting-uncertainty                        2020-06-30 23:59:00  Featured           $50,000        297           False  \n",
            "trends-assessment-prediction                      2020-06-29 23:59:00  Research           $25,000         92           False  \n",
            "jigsaw-multilingual-toxic-comment-classification  2020-06-22 23:59:00  Featured           $50,000        678           False  \n",
            "tweet-sentiment-extraction                        2020-06-16 23:59:00  Featured           $15,000        691           False  \n",
            "imet-2020-fgvc7                                   2020-05-28 23:59:00  Research         Knowledge         43           False  \n",
            "abstraction-and-reasoning-challenge               2020-05-27 23:59:00  Research           $20,000        688           False  \n",
            "imaterialist-fashion-2020-fgvc7                   2020-05-26 23:59:00  Research         Knowledge         26           False  \n",
            "iwildcam-2020-fgvc7                               2020-05-26 23:59:00  Research         Knowledge         85           False  \n",
            "herbarium-2020-fgvc7                              2020-05-26 23:59:00  Research         Knowledge         67            True  \n",
            "liverpool-ion-switching                           2020-05-25 23:59:00  Research           $25,000       2005           False  \n",
            "flower-classification-with-tpus                   2020-05-11 23:59:00  Playground          Prizes        695           False  \n"
          ],
          "name": "stdout"
        }
      ]
    },
    {
      "cell_type": "code",
      "metadata": {
        "id": "br7qO0LD9IPV",
        "colab_type": "code",
        "outputId": "786ddf79-cda5-4ce5-aaa2-0e3d6c192ca1",
        "colab": {
          "base_uri": "https://localhost:8080/",
          "height": 107
        }
      },
      "source": [
        "!kaggle competitions download -c nlp-getting-started"
      ],
      "execution_count": 4,
      "outputs": [
        {
          "output_type": "stream",
          "text": [
            "Warning: Looks like you're using an outdated API Version, please consider updating (server 1.5.6 / client 1.5.4)\n",
            "sample_submission.csv: Skipping, found more recently modified local copy (use --force to force download)\n",
            "test.csv: Skipping, found more recently modified local copy (use --force to force download)\n",
            "train.csv: Skipping, found more recently modified local copy (use --force to force download)\n"
          ],
          "name": "stdout"
        }
      ]
    },
    {
      "cell_type": "markdown",
      "metadata": {
        "id": "yXNDtGV1_w3D",
        "colab_type": "text"
      },
      "source": [
        "# **Data Analysis**"
      ]
    },
    {
      "cell_type": "code",
      "metadata": {
        "id": "0n6xS_rk_A51",
        "colab_type": "code",
        "outputId": "d270a913-b23b-4361-abe2-40eb091ae379",
        "colab": {
          "base_uri": "https://localhost:8080/",
          "height": 107
        }
      },
      "source": [
        "import pandas as pd\n",
        "import numpy as np\n",
        "import matplotlib.pyplot as plt\n",
        "import seaborn as sns\n",
        "%matplotlib inline\n",
        "pd.set_option('display.max_colwidth', -1)\n",
        "pd.set_option('display.max_rows', 200)\n",
        "import spacy\n",
        "\n",
        "plt.rcParams[\"figure.figsize\"] = (15,5)"
      ],
      "execution_count": 5,
      "outputs": [
        {
          "output_type": "stream",
          "text": [
            "/usr/local/lib/python3.6/dist-packages/statsmodels/tools/_testing.py:19: FutureWarning: pandas.util.testing is deprecated. Use the functions in the public API at pandas.testing instead.\n",
            "  import pandas.util.testing as tm\n",
            "/usr/local/lib/python3.6/dist-packages/ipykernel_launcher.py:6: FutureWarning: Passing a negative integer is deprecated in version 1.0 and will not be supported in future version. Instead, use None to not limit the column width.\n",
            "  \n"
          ],
          "name": "stderr"
        }
      ]
    },
    {
      "cell_type": "code",
      "metadata": {
        "id": "6ztVF01h_SWH",
        "colab_type": "code",
        "outputId": "b77e1bc7-6e00-40b6-d883-89293852ae89",
        "colab": {
          "base_uri": "https://localhost:8080/",
          "height": 69
        }
      },
      "source": [
        "train = pd.read_csv('./train.csv')\n",
        "test = pd.read_csv('./test.csv')\n",
        "\n",
        "train_without_label = train.drop('target', axis=1)\n",
        "traintest = pd.concat([train_without_label,test])\n",
        "\n",
        "print(\"[shape] train, test, train + test\\n\")\n",
        "print(train.shape, test.shape, traintest.shape)"
      ],
      "execution_count": 6,
      "outputs": [
        {
          "output_type": "stream",
          "text": [
            "[shape] train, test, train + test\n",
            "\n",
            "(7613, 5) (3263, 4) (10876, 4)\n"
          ],
          "name": "stdout"
        }
      ]
    },
    {
      "cell_type": "code",
      "metadata": {
        "id": "6UOFAY_oBjcx",
        "colab_type": "code",
        "outputId": "b37aba2a-a4b9-4cb8-b69f-32fd15a4f4ce",
        "colab": {
          "base_uri": "https://localhost:8080/",
          "height": 921
        }
      },
      "source": [
        "print(\"[sample data] train\\n\")\n",
        "train.sample(n=10)"
      ],
      "execution_count": 7,
      "outputs": [
        {
          "output_type": "stream",
          "text": [
            "[sample data] train\n",
            "\n"
          ],
          "name": "stdout"
        },
        {
          "output_type": "execute_result",
          "data": {
            "text/html": [
              "<div>\n",
              "<style scoped>\n",
              "    .dataframe tbody tr th:only-of-type {\n",
              "        vertical-align: middle;\n",
              "    }\n",
              "\n",
              "    .dataframe tbody tr th {\n",
              "        vertical-align: top;\n",
              "    }\n",
              "\n",
              "    .dataframe thead th {\n",
              "        text-align: right;\n",
              "    }\n",
              "</style>\n",
              "<table border=\"1\" class=\"dataframe\">\n",
              "  <thead>\n",
              "    <tr style=\"text-align: right;\">\n",
              "      <th></th>\n",
              "      <th>id</th>\n",
              "      <th>keyword</th>\n",
              "      <th>location</th>\n",
              "      <th>text</th>\n",
              "      <th>target</th>\n",
              "    </tr>\n",
              "  </thead>\n",
              "  <tbody>\n",
              "    <tr>\n",
              "      <th>6358</th>\n",
              "      <td>9088</td>\n",
              "      <td>structural%20failure</td>\n",
              "      <td>NaN</td>\n",
              "      <td>Investigators rule catastrophic structural failure resulted in 2014 Virg.. Related Articles: http://t.co/Cy1LFeNyV8</td>\n",
              "      <td>1</td>\n",
              "    </tr>\n",
              "    <tr>\n",
              "      <th>2768</th>\n",
              "      <td>3979</td>\n",
              "      <td>devastation</td>\n",
              "      <td>ITALY</td>\n",
              "      <td>#Thorium Radioactive Weapons. Scandals murders and environmental devastation: - VIDEO http://t.co/mly7sDN6eV</td>\n",
              "      <td>1</td>\n",
              "    </tr>\n",
              "    <tr>\n",
              "      <th>5375</th>\n",
              "      <td>7671</td>\n",
              "      <td>panic</td>\n",
              "      <td>Narnia</td>\n",
              "      <td>I added a video to a @YouTube playlist http://t.co/4914nJpIO3 Panic! At The Disco: Miss Jackson ft. LOLO [OFFICIAL VIDEO]</td>\n",
              "      <td>0</td>\n",
              "    </tr>\n",
              "    <tr>\n",
              "      <th>5471</th>\n",
              "      <td>7807</td>\n",
              "      <td>quarantine</td>\n",
              "      <td>Area 8</td>\n",
              "      <td>Update: still haven't eaten since 6:30 am still have to clean the dry lot and fill water in quarantine. May pass out</td>\n",
              "      <td>0</td>\n",
              "    </tr>\n",
              "    <tr>\n",
              "      <th>7065</th>\n",
              "      <td>10119</td>\n",
              "      <td>upheaval</td>\n",
              "      <td>Auckland, New Zealand</td>\n",
              "      <td>An indepth look at the new world of work and how young people businesses and economies are coping with huge upheaval http://t.co/aYP6zVHm2A</td>\n",
              "      <td>0</td>\n",
              "    </tr>\n",
              "    <tr>\n",
              "      <th>1418</th>\n",
              "      <td>2046</td>\n",
              "      <td>casualties</td>\n",
              "      <td>Insula Barataria</td>\n",
              "      <td>ÛÏThe road to power is paved with hypocrisy and casualties.Û #FrancisUnderwood #HoC https://t.co/zqO6NUvYTu</td>\n",
              "      <td>0</td>\n",
              "    </tr>\n",
              "    <tr>\n",
              "      <th>2856</th>\n",
              "      <td>4104</td>\n",
              "      <td>drought</td>\n",
              "      <td>NYC-LA-MIAMI</td>\n",
              "      <td>LLF TALK WORLD NEWS U.S. in record hurricane drought - The United States hasn't been hit by a major hurricane in t... http://t.co/oqeq4ueGF8</td>\n",
              "      <td>1</td>\n",
              "    </tr>\n",
              "    <tr>\n",
              "      <th>4202</th>\n",
              "      <td>5965</td>\n",
              "      <td>hazard</td>\n",
              "      <td>Chicago, IL</td>\n",
              "      <td>'Biggest lead hazard in New England history.' Yeah let's nail these guys. https://t.co/xzvmzQuS0x</td>\n",
              "      <td>0</td>\n",
              "    </tr>\n",
              "    <tr>\n",
              "      <th>2564</th>\n",
              "      <td>3679</td>\n",
              "      <td>destroy</td>\n",
              "      <td>New England</td>\n",
              "      <td>5/6 will destroy Reg C competitiveness.   The entire region will B over-saturated.   Yes Brockton gets $12M and RegC Commonwealth PPC and</td>\n",
              "      <td>1</td>\n",
              "    </tr>\n",
              "    <tr>\n",
              "      <th>4033</th>\n",
              "      <td>5727</td>\n",
              "      <td>forest%20fire</td>\n",
              "      <td>NaN</td>\n",
              "      <td>I had to grill for a school function. One of the grills we had going was pretty much either off or forest fire. No inbetween! Made it work</td>\n",
              "      <td>0</td>\n",
              "    </tr>\n",
              "  </tbody>\n",
              "</table>\n",
              "</div>"
            ],
            "text/plain": [
              "         id  ... target\n",
              "6358  9088   ...  1    \n",
              "2768  3979   ...  1    \n",
              "5375  7671   ...  0    \n",
              "5471  7807   ...  0    \n",
              "7065  10119  ...  0    \n",
              "1418  2046   ...  0    \n",
              "2856  4104   ...  1    \n",
              "4202  5965   ...  0    \n",
              "2564  3679   ...  1    \n",
              "4033  5727   ...  0    \n",
              "\n",
              "[10 rows x 5 columns]"
            ]
          },
          "metadata": {
            "tags": []
          },
          "execution_count": 7
        }
      ]
    },
    {
      "cell_type": "code",
      "metadata": {
        "id": "LqWZyNELB_Mo",
        "colab_type": "code",
        "outputId": "3bbd39bc-ccf7-4ad6-bddb-afca0bb42a6f",
        "colab": {
          "base_uri": "https://localhost:8080/",
          "height": 174
        }
      },
      "source": [
        "print(\"[Null Data] train\\n\")\n",
        "train.isnull().sum(),\n",
        "print(\"[Null Data] test\\n\")\n",
        "test.isnull().sum()"
      ],
      "execution_count": 8,
      "outputs": [
        {
          "output_type": "stream",
          "text": [
            "[Null Data] train\n",
            "\n",
            "[Null Data] test\n",
            "\n"
          ],
          "name": "stdout"
        },
        {
          "output_type": "execute_result",
          "data": {
            "text/plain": [
              "id          0   \n",
              "keyword     26  \n",
              "location    1105\n",
              "text        0   \n",
              "dtype: int64"
            ]
          },
          "metadata": {
            "tags": []
          },
          "execution_count": 8
        }
      ]
    },
    {
      "cell_type": "code",
      "metadata": {
        "id": "VZ8i5PsnUWJ6",
        "colab_type": "code",
        "outputId": "da2c223d-c09c-46e3-c993-8fe344ae7a7f",
        "colab": {
          "base_uri": "https://localhost:8080/",
          "height": 904
        }
      },
      "source": [
        "dup_tweets = train[train.duplicated(['text'], keep = False)].sort_values('text')\n",
        "print('[Total duplicates]',dup_tweets.shape[0],'\\n[Total unique]',dup_tweets['text'].nunique(dropna = False))\n",
        "dup_tweets.head(10)"
      ],
      "execution_count": 9,
      "outputs": [
        {
          "output_type": "stream",
          "text": [
            "[Total duplicates] 179 \n",
            "[Total unique] 69\n"
          ],
          "name": "stdout"
        },
        {
          "output_type": "execute_result",
          "data": {
            "text/html": [
              "<div>\n",
              "<style scoped>\n",
              "    .dataframe tbody tr th:only-of-type {\n",
              "        vertical-align: middle;\n",
              "    }\n",
              "\n",
              "    .dataframe tbody tr th {\n",
              "        vertical-align: top;\n",
              "    }\n",
              "\n",
              "    .dataframe thead th {\n",
              "        text-align: right;\n",
              "    }\n",
              "</style>\n",
              "<table border=\"1\" class=\"dataframe\">\n",
              "  <thead>\n",
              "    <tr style=\"text-align: right;\">\n",
              "      <th></th>\n",
              "      <th>id</th>\n",
              "      <th>keyword</th>\n",
              "      <th>location</th>\n",
              "      <th>text</th>\n",
              "      <th>target</th>\n",
              "    </tr>\n",
              "  </thead>\n",
              "  <tbody>\n",
              "    <tr>\n",
              "      <th>4290</th>\n",
              "      <td>6094</td>\n",
              "      <td>hellfire</td>\n",
              "      <td>Jubail IC, Saudi Arabia.</td>\n",
              "      <td>#Allah describes piling up #wealth thinking it would last #forever as the description of the people of #Hellfire in Surah Humaza. #Reflect</td>\n",
              "      <td>0</td>\n",
              "    </tr>\n",
              "    <tr>\n",
              "      <th>4299</th>\n",
              "      <td>6105</td>\n",
              "      <td>hellfire</td>\n",
              "      <td>?????? ??? ?????? ????????</td>\n",
              "      <td>#Allah describes piling up #wealth thinking it would last #forever as the description of the people of #Hellfire in Surah Humaza. #Reflect</td>\n",
              "      <td>0</td>\n",
              "    </tr>\n",
              "    <tr>\n",
              "      <th>4312</th>\n",
              "      <td>6123</td>\n",
              "      <td>hellfire</td>\n",
              "      <td>?????? ???? ??????</td>\n",
              "      <td>#Allah describes piling up #wealth thinking it would last #forever as the description of the people of #Hellfire in Surah Humaza. #Reflect</td>\n",
              "      <td>1</td>\n",
              "    </tr>\n",
              "    <tr>\n",
              "      <th>6363</th>\n",
              "      <td>9095</td>\n",
              "      <td>suicide%20bomb</td>\n",
              "      <td>Nigeria</td>\n",
              "      <td>#Bestnaijamade: 16yr old PKK suicide bomber who detonated bomb in ... http://t.co/KSAwlYuX02 bestnaijamade bestnaijamade bestnaijamade beÛ_</td>\n",
              "      <td>1</td>\n",
              "    </tr>\n",
              "    <tr>\n",
              "      <th>6373</th>\n",
              "      <td>9107</td>\n",
              "      <td>suicide%20bomb</td>\n",
              "      <td>Nigeria</td>\n",
              "      <td>#Bestnaijamade: 16yr old PKK suicide bomber who detonated bomb in ... http://t.co/KSAwlYuX02 bestnaijamade bestnaijamade bestnaijamade beÛ_</td>\n",
              "      <td>1</td>\n",
              "    </tr>\n",
              "    <tr>\n",
              "      <th>6377</th>\n",
              "      <td>9113</td>\n",
              "      <td>suicide%20bomb</td>\n",
              "      <td>Nigeria</td>\n",
              "      <td>#Bestnaijamade: 16yr old PKK suicide bomber who detonated bomb in ... http://t.co/KSAwlYuX02 bestnaijamade bestnaijamade bestnaijamade beÛ_</td>\n",
              "      <td>1</td>\n",
              "    </tr>\n",
              "    <tr>\n",
              "      <th>6378</th>\n",
              "      <td>9114</td>\n",
              "      <td>suicide%20bomb</td>\n",
              "      <td>Nigeria</td>\n",
              "      <td>#Bestnaijamade: 16yr old PKK suicide bomber who detonated bomb in ... http://t.co/KSAwlYuX02 bestnaijamade bestnaijamade bestnaijamade beÛ_</td>\n",
              "      <td>1</td>\n",
              "    </tr>\n",
              "    <tr>\n",
              "      <th>6392</th>\n",
              "      <td>9135</td>\n",
              "      <td>suicide%20bomb</td>\n",
              "      <td>Nigeria</td>\n",
              "      <td>#Bestnaijamade: 16yr old PKK suicide bomber who detonated bomb in ... http://t.co/KSAwlYuX02 bestnaijamade bestnaijamade bestnaijamade beÛ_</td>\n",
              "      <td>1</td>\n",
              "    </tr>\n",
              "    <tr>\n",
              "      <th>6366</th>\n",
              "      <td>9098</td>\n",
              "      <td>suicide%20bomb</td>\n",
              "      <td>Nigeria</td>\n",
              "      <td>#Bestnaijamade: 16yr old PKK suicide bomber who detonated bomb in ... http://t.co/KSAwlYuX02 bestnaijamade bestnaijamade bestnaijamade beÛ_</td>\n",
              "      <td>1</td>\n",
              "    </tr>\n",
              "    <tr>\n",
              "      <th>2828</th>\n",
              "      <td>4064</td>\n",
              "      <td>displaced</td>\n",
              "      <td>NaN</td>\n",
              "      <td>#KCA #VoteJKT48ID 12News: UPDATE: A family of 3 has been displaced after fired damaged housed near 90th and Osborn. Fire extinguished no iÛ_</td>\n",
              "      <td>1</td>\n",
              "    </tr>\n",
              "  </tbody>\n",
              "</table>\n",
              "</div>"
            ],
            "text/plain": [
              "        id  ... target\n",
              "4290  6094  ...  0    \n",
              "4299  6105  ...  0    \n",
              "4312  6123  ...  1    \n",
              "6363  9095  ...  1    \n",
              "6373  9107  ...  1    \n",
              "6377  9113  ...  1    \n",
              "6378  9114  ...  1    \n",
              "6392  9135  ...  1    \n",
              "6366  9098  ...  1    \n",
              "2828  4064  ...  1    \n",
              "\n",
              "[10 rows x 5 columns]"
            ]
          },
          "metadata": {
            "tags": []
          },
          "execution_count": 9
        }
      ]
    },
    {
      "cell_type": "markdown",
      "metadata": {
        "id": "DX05ZTMVEy3y",
        "colab_type": "text"
      },
      "source": [
        "### Observation\n",
        "\n",
        "#### 1. shape는 (7613, 5) (3263, 4) (10876, 4)\n",
        "> target 제외하고 twitter 하나당 id, keyword, location, text를 가지고 있다.\n",
        "\n",
        "#### 2. text:\n",
        "> http나 @ 등도 포함하고 있기에 정제하는 작업이 필요할 것 같다.\n",
        "\n",
        "#### 3. keyword:\n",
        "> random하게 살펴본 데이터로는 알맞은 데이터가 들어가 있는 것으로 보인다. 또한 비어있는 경우도 61가지 밖에 없기 때문에 이를 training에 이용하면 좋겠다는 생각이 든다.\n",
        "\n",
        "#### 4. location:\n",
        "> Taylor Swift, Does it really matter! 등 알맞지 않은 데이터도 존재하기 때문에 사용하지 않거나 정제하는 작업이 필요할 것으로 보인다.\n",
        "\n",
        "####5. target:\n",
        "> 생각했던 것과 다르게, 같은 text이지만 다른 target을 갖은 데이터도 train에 포함되어있음을 확인할 수 있었다."
      ]
    },
    {
      "cell_type": "markdown",
      "metadata": {
        "id": "mI0bA6Y4wkoz",
        "colab_type": "text"
      },
      "source": [
        "### Class Distribution\n",
        "<- 문제의 난이도 생각해볼 수 있다."
      ]
    },
    {
      "cell_type": "code",
      "metadata": {
        "id": "WNNLOm4qwGGt",
        "colab_type": "code",
        "colab": {
          "base_uri": "https://localhost:8080/",
          "height": 247
        },
        "outputId": "5e305059-6c68-4911-8148-f0873b4806d0"
      },
      "source": [
        "x = train.target.value_counts()\n",
        "sns.barplot(x.index,x)\n",
        "plt.gca().set_ylabel('samples')"
      ],
      "execution_count": 10,
      "outputs": [
        {
          "output_type": "execute_result",
          "data": {
            "text/plain": [
              "Text(0, 0.5, 'samples')"
            ]
          },
          "metadata": {
            "tags": []
          },
          "execution_count": 10
        },
        {
          "output_type": "display_data",
          "data": {
            "image/png": "[encoded data removed]",
            "text/plain": [
              "<Figure size 1080x360 with 1 Axes>"
            ]
          },
          "metadata": {
            "tags": [],
            "needs_background": "light"
          }
        }
      ]
    },
    {
      "cell_type": "markdown",
      "metadata": {
        "id": "AZ4NCjMy0nIO",
        "colab_type": "text"
      },
      "source": [
        "#### Observation:\n",
        "\n",
        "문제의 난이도를 생각해볼 수 있는데,\n",
        "\n",
        "target이 0인 경우와 1인 경우가 비슷한 수로 분포하는 것으로 보아 둘에 대한 정보를 비슷하게 얻어낼 수 있을 것 같다."
      ]
    },
    {
      "cell_type": "markdown",
      "metadata": {
        "id": "wmW4-v4QvOFH",
        "colab_type": "text"
      },
      "source": [
        "## keyword와 location 분석"
      ]
    },
    {
      "cell_type": "code",
      "metadata": {
        "id": "Jzio3SJjb3e9",
        "colab_type": "code",
        "outputId": "c807f4fd-490e-44e7-9828-3eea956fe9c6",
        "colab": {
          "base_uri": "https://localhost:8080/",
          "height": 1000
        }
      },
      "source": [
        "data = train\n",
        "a = data.groupby(['keyword', 'target']).size().unstack(fill_value=0)\n",
        "a['fraction'] = a[1] / (a[0] + a[1])\n",
        "a = a.sort_values(by=[1], axis=0, ascending=False)\n",
        "a[:30]"
      ],
      "execution_count": 12,
      "outputs": [
        {
          "output_type": "execute_result",
          "data": {
            "text/html": [
              "<div>\n",
              "<style scoped>\n",
              "    .dataframe tbody tr th:only-of-type {\n",
              "        vertical-align: middle;\n",
              "    }\n",
              "\n",
              "    .dataframe tbody tr th {\n",
              "        vertical-align: top;\n",
              "    }\n",
              "\n",
              "    .dataframe thead th {\n",
              "        text-align: right;\n",
              "    }\n",
              "</style>\n",
              "<table border=\"1\" class=\"dataframe\">\n",
              "  <thead>\n",
              "    <tr style=\"text-align: right;\">\n",
              "      <th>target</th>\n",
              "      <th>0</th>\n",
              "      <th>1</th>\n",
              "      <th>fraction</th>\n",
              "    </tr>\n",
              "    <tr>\n",
              "      <th>keyword</th>\n",
              "      <th></th>\n",
              "      <th></th>\n",
              "      <th></th>\n",
              "    </tr>\n",
              "  </thead>\n",
              "  <tbody>\n",
              "    <tr>\n",
              "      <th>derailment</th>\n",
              "      <td>0</td>\n",
              "      <td>39</td>\n",
              "      <td>1.000000</td>\n",
              "    </tr>\n",
              "    <tr>\n",
              "      <th>wreckage</th>\n",
              "      <td>0</td>\n",
              "      <td>39</td>\n",
              "      <td>1.000000</td>\n",
              "    </tr>\n",
              "    <tr>\n",
              "      <th>outbreak</th>\n",
              "      <td>1</td>\n",
              "      <td>39</td>\n",
              "      <td>0.975000</td>\n",
              "    </tr>\n",
              "    <tr>\n",
              "      <th>typhoon</th>\n",
              "      <td>1</td>\n",
              "      <td>37</td>\n",
              "      <td>0.973684</td>\n",
              "    </tr>\n",
              "    <tr>\n",
              "      <th>debris</th>\n",
              "      <td>0</td>\n",
              "      <td>37</td>\n",
              "      <td>1.000000</td>\n",
              "    </tr>\n",
              "    <tr>\n",
              "      <th>oil%20spill</th>\n",
              "      <td>1</td>\n",
              "      <td>37</td>\n",
              "      <td>0.973684</td>\n",
              "    </tr>\n",
              "    <tr>\n",
              "      <th>suicide%20bomb</th>\n",
              "      <td>3</td>\n",
              "      <td>32</td>\n",
              "      <td>0.914286</td>\n",
              "    </tr>\n",
              "    <tr>\n",
              "      <th>rescuers</th>\n",
              "      <td>3</td>\n",
              "      <td>32</td>\n",
              "      <td>0.914286</td>\n",
              "    </tr>\n",
              "    <tr>\n",
              "      <th>suicide%20bombing</th>\n",
              "      <td>1</td>\n",
              "      <td>32</td>\n",
              "      <td>0.969697</td>\n",
              "    </tr>\n",
              "    <tr>\n",
              "      <th>evacuated</th>\n",
              "      <td>4</td>\n",
              "      <td>32</td>\n",
              "      <td>0.888889</td>\n",
              "    </tr>\n",
              "    <tr>\n",
              "      <th>razed</th>\n",
              "      <td>4</td>\n",
              "      <td>31</td>\n",
              "      <td>0.885714</td>\n",
              "    </tr>\n",
              "    <tr>\n",
              "      <th>nuclear%20disaster</th>\n",
              "      <td>3</td>\n",
              "      <td>31</td>\n",
              "      <td>0.911765</td>\n",
              "    </tr>\n",
              "    <tr>\n",
              "      <th>suicide%20bomber</th>\n",
              "      <td>1</td>\n",
              "      <td>30</td>\n",
              "      <td>0.967742</td>\n",
              "    </tr>\n",
              "    <tr>\n",
              "      <th>airplane%20accident</th>\n",
              "      <td>5</td>\n",
              "      <td>30</td>\n",
              "      <td>0.857143</td>\n",
              "    </tr>\n",
              "    <tr>\n",
              "      <th>earthquake</th>\n",
              "      <td>9</td>\n",
              "      <td>30</td>\n",
              "      <td>0.769231</td>\n",
              "    </tr>\n",
              "    <tr>\n",
              "      <th>collision</th>\n",
              "      <td>10</td>\n",
              "      <td>29</td>\n",
              "      <td>0.743590</td>\n",
              "    </tr>\n",
              "    <tr>\n",
              "      <th>bridge%20collapse</th>\n",
              "      <td>6</td>\n",
              "      <td>29</td>\n",
              "      <td>0.828571</td>\n",
              "    </tr>\n",
              "    <tr>\n",
              "      <th>wildfire</th>\n",
              "      <td>4</td>\n",
              "      <td>29</td>\n",
              "      <td>0.878788</td>\n",
              "    </tr>\n",
              "    <tr>\n",
              "      <th>buildings%20on%20fire</th>\n",
              "      <td>5</td>\n",
              "      <td>28</td>\n",
              "      <td>0.848485</td>\n",
              "    </tr>\n",
              "    <tr>\n",
              "      <th>mass%20murder</th>\n",
              "      <td>5</td>\n",
              "      <td>28</td>\n",
              "      <td>0.848485</td>\n",
              "    </tr>\n",
              "    <tr>\n",
              "      <th>casualties</th>\n",
              "      <td>7</td>\n",
              "      <td>28</td>\n",
              "      <td>0.800000</td>\n",
              "    </tr>\n",
              "    <tr>\n",
              "      <th>drought</th>\n",
              "      <td>7</td>\n",
              "      <td>28</td>\n",
              "      <td>0.800000</td>\n",
              "    </tr>\n",
              "    <tr>\n",
              "      <th>sandstorm</th>\n",
              "      <td>9</td>\n",
              "      <td>28</td>\n",
              "      <td>0.756757</td>\n",
              "    </tr>\n",
              "    <tr>\n",
              "      <th>evacuation</th>\n",
              "      <td>8</td>\n",
              "      <td>28</td>\n",
              "      <td>0.777778</td>\n",
              "    </tr>\n",
              "    <tr>\n",
              "      <th>hostages</th>\n",
              "      <td>10</td>\n",
              "      <td>27</td>\n",
              "      <td>0.729730</td>\n",
              "    </tr>\n",
              "    <tr>\n",
              "      <th>sinkhole</th>\n",
              "      <td>12</td>\n",
              "      <td>27</td>\n",
              "      <td>0.692308</td>\n",
              "    </tr>\n",
              "    <tr>\n",
              "      <th>wild%20fires</th>\n",
              "      <td>4</td>\n",
              "      <td>27</td>\n",
              "      <td>0.870968</td>\n",
              "    </tr>\n",
              "    <tr>\n",
              "      <th>devastation</th>\n",
              "      <td>9</td>\n",
              "      <td>27</td>\n",
              "      <td>0.750000</td>\n",
              "    </tr>\n",
              "    <tr>\n",
              "      <th>bombing</th>\n",
              "      <td>2</td>\n",
              "      <td>27</td>\n",
              "      <td>0.931034</td>\n",
              "    </tr>\n",
              "    <tr>\n",
              "      <th>forest%20fires</th>\n",
              "      <td>5</td>\n",
              "      <td>27</td>\n",
              "      <td>0.843750</td>\n",
              "    </tr>\n",
              "  </tbody>\n",
              "</table>\n",
              "</div>"
            ],
            "text/plain": [
              "target                  0   1  fraction\n",
              "keyword                                \n",
              "derailment             0   39  1.000000\n",
              "wreckage               0   39  1.000000\n",
              "outbreak               1   39  0.975000\n",
              "typhoon                1   37  0.973684\n",
              "debris                 0   37  1.000000\n",
              "oil%20spill            1   37  0.973684\n",
              "suicide%20bomb         3   32  0.914286\n",
              "rescuers               3   32  0.914286\n",
              "suicide%20bombing      1   32  0.969697\n",
              "evacuated              4   32  0.888889\n",
              "razed                  4   31  0.885714\n",
              "nuclear%20disaster     3   31  0.911765\n",
              "suicide%20bomber       1   30  0.967742\n",
              "airplane%20accident    5   30  0.857143\n",
              "earthquake             9   30  0.769231\n",
              "collision              10  29  0.743590\n",
              "bridge%20collapse      6   29  0.828571\n",
              "wildfire               4   29  0.878788\n",
              "buildings%20on%20fire  5   28  0.848485\n",
              "mass%20murder          5   28  0.848485\n",
              "casualties             7   28  0.800000\n",
              "drought                7   28  0.800000\n",
              "sandstorm              9   28  0.756757\n",
              "evacuation             8   28  0.777778\n",
              "hostages               10  27  0.729730\n",
              "sinkhole               12  27  0.692308\n",
              "wild%20fires           4   27  0.870968\n",
              "devastation            9   27  0.750000\n",
              "bombing                2   27  0.931034\n",
              "forest%20fires         5   27  0.843750"
            ]
          },
          "metadata": {
            "tags": []
          },
          "execution_count": 12
        }
      ]
    },
    {
      "cell_type": "code",
      "metadata": {
        "id": "RvOo2wGFj6ce",
        "colab_type": "code",
        "outputId": "9a0eeeac-65b6-427d-94c1-f8f5330f7960",
        "colab": {
          "base_uri": "https://localhost:8080/",
          "height": 346
        }
      },
      "source": [
        "ax = a['fraction'][:20].plot(kind='bar', title =\"fraction of real keyword\", figsize=(15, 5), legend=True, fontsize=12)\n",
        "ax.set_xlabel(\"keyword\", fontsize=12)\n",
        "ax.set_ylabel(\"fraction of real keyword\", fontsize=12)\n",
        "plt.show()"
      ],
      "execution_count": 13,
      "outputs": [
        {
          "output_type": "display_data",
          "data": {
            "image/png": "[encoded data removed]",
            "text/plain": [
              "<Figure size 1080x360 with 1 Axes>"
            ]
          },
          "metadata": {
            "tags": [],
            "needs_background": "light"
          }
        }
      ]
    },
    {
      "cell_type": "markdown",
      "metadata": {
        "id": "M9lvyVBrWXIZ",
        "colab_type": "text"
      },
      "source": [
        "### Observation\n",
        "\n",
        "##### target = 1인 데이터 중 가장 많이 나타난 keyword 순으로 (target = 1에 나타난 횟수 / target = 0에 나타난 횟수) 를 살펴보았을 때, 모두 0.6 ~ 1.0 사이의 값을 보이는 것을 알 수 있었다. 따라서 keyword가 유의미한 데이터가 될 수 있음을 파악할 수 있었다."
      ]
    },
    {
      "cell_type": "code",
      "metadata": {
        "id": "1UHRN2MqDfBa",
        "colab_type": "code",
        "outputId": "136549f4-8831-436c-c2a5-0e6f2ed77e6d",
        "colab": {
          "base_uri": "https://localhost:8080/",
          "height": 308
        }
      },
      "source": [
        "# top 20 keyword frequency in real and not real disaster tweets\n",
        "train['keyword'] = train['keyword'].fillna('NA')\n",
        "real = train[train['target'] == 1]\n",
        "noreal = train[train['target'] == 0]\n",
        "fig, (ax1,ax2) = plt.subplots(1,2, figsize=(15,7))\n",
        "sns.countplot(y='keyword',hue = 'target', data = train, order = real['keyword'].value_counts()[:20].index, ax= ax1)\n",
        "ax1.set_xticklabels(ax1.get_xticklabels(), rotation=90)\n",
        "ax1.set_title('Top 20 keywords for real tweet')\n",
        "sns.countplot(y='keyword',hue = 'target', data = train, order = noreal['keyword'].value_counts()[:20].index, ax= ax2)\n",
        "ax2.set_xticklabels(ax2.get_xticklabels(), rotation=90)\n",
        "ax2.set_title('Top 20 keywords for not real tweet')\n",
        "print()"
      ],
      "execution_count": 14,
      "outputs": [
        {
          "output_type": "stream",
          "text": [
            "\n"
          ],
          "name": "stdout"
        },
        {
          "output_type": "display_data",
          "data": {
            "image/png": "[encoded data removed]",
            "text/plain": [
              "<Figure size 1080x504 with 2 Axes>"
            ]
          },
          "metadata": {
            "tags": [],
            "needs_background": "light"
          }
        }
      ]
    },
    {
      "cell_type": "markdown",
      "metadata": {
        "id": "3eFtN0odbjYh",
        "colab_type": "text"
      },
      "source": [
        "# **Fixing Data**"
      ]
    },
    {
      "cell_type": "markdown",
      "metadata": {
        "id": "VVCeY-lu-47y",
        "colab_type": "text"
      },
      "source": [
        "## Stop Word\n",
        "\n",
        "- Stop words are a set of commonly used words in any language. For example, in English, “the”, “is” and “and”, would easily qualify as stop words. In NLP and text mining applications, stop words are used to eliminate unimportant words, allowing applications to focus on the important words instead."
      ]
    },
    {
      "cell_type": "code",
      "metadata": {
        "id": "xMQ2fVCS_GAr",
        "colab_type": "code",
        "colab": {}
      },
      "source": [
        "def create_corpus(target):\n",
        "    corpus=[]\n",
        "    \n",
        "    for x in train[train['target']==target]['text'].str.split():\n",
        "        for i in x:\n",
        "            corpus.append(i)\n",
        "    return corpus"
      ],
      "execution_count": 0,
      "outputs": []
    },
    {
      "cell_type": "code",
      "metadata": {
        "id": "wtq05GJhAjOk",
        "colab_type": "code",
        "colab": {
          "base_uri": "https://localhost:8080/",
          "height": 69
        },
        "outputId": "7808fb34-d50c-453d-fd59-6814f0da99c2"
      },
      "source": [
        "import nltk\n",
        "nltk.download('stopwords')"
      ],
      "execution_count": 16,
      "outputs": [
        {
          "output_type": "stream",
          "text": [
            "[nltk_data] Downloading package stopwords to /root/nltk_data...\n",
            "[nltk_data]   Package stopwords is already up-to-date!\n"
          ],
          "name": "stdout"
        },
        {
          "output_type": "execute_result",
          "data": {
            "text/plain": [
              "True"
            ]
          },
          "metadata": {
            "tags": []
          },
          "execution_count": 16
        }
      ]
    },
    {
      "cell_type": "code",
      "metadata": {
        "id": "1ghRK8lp-aou",
        "colab_type": "code",
        "colab": {
          "base_uri": "https://localhost:8080/",
          "height": 336
        },
        "outputId": "34e5cae7-afb8-4b08-cc22-a2e79ed73945"
      },
      "source": [
        "from nltk.corpus import stopwords\n",
        "from nltk.util import ngrams\n",
        "from collections import defaultdict\n",
        "\n",
        "stop=set(stopwords.words('english'))\n",
        "\n",
        "fig,(ax1,ax2)=plt.subplots(1,2,figsize=(10,5))\n",
        "\n",
        "corpus=create_corpus(0)\n",
        "dic=defaultdict(int)\n",
        "for word in corpus:\n",
        "    if word in stop:\n",
        "        dic[word]+=1\n",
        "train_stopwords=sorted(dic.items(), key=lambda x:x[1],reverse=True)[:10]\n",
        "x,y=zip(*train_stopwords)\n",
        "ax1.bar(x, y,color='red')\n",
        "ax1.set_title('disaster tweets')\n",
        "\n",
        "corpus=create_corpus(1)\n",
        "dic=defaultdict(int)\n",
        "for word in corpus:\n",
        "    if word in stop:\n",
        "        dic[word]+=1\n",
        "train_stopwords=sorted(dic.items(), key=lambda x:x[1],reverse=True)[:10]\n",
        "x,y=zip(*train_stopwords)\n",
        "ax2.bar(x, y,color='green')\n",
        "ax2.set_title('Not disaster tweets')\n",
        "plt.show()"
      ],
      "execution_count": 17,
      "outputs": [
        {
          "output_type": "display_data",
          "data": {
            "image/png": "[encoded data removed]",
            "text/plain": [
              "<Figure size 720x360 with 2 Axes>"
            ]
          },
          "metadata": {
            "tags": [],
            "needs_background": "light"
          }
        }
      ]
    },
    {
      "cell_type": "markdown",
      "metadata": {
        "id": "k32piJUzD2MZ",
        "colab_type": "text"
      },
      "source": [
        "## Punctuation"
      ]
    },
    {
      "cell_type": "code",
      "metadata": {
        "id": "UAsI_3cdD6cz",
        "colab_type": "code",
        "colab": {
          "base_uri": "https://localhost:8080/",
          "height": 336
        },
        "outputId": "05d7b0e5-8984-496a-ff61-7022d6599b0e"
      },
      "source": [
        "import string\n",
        "punctuation = string.punctuation\n",
        "\n",
        "fig,(ax1,ax2)=plt.subplots(1,2,figsize=(10,5))\n",
        "\n",
        "corpus=create_corpus(0)\n",
        "dic=defaultdict(int)\n",
        "for word in corpus:\n",
        "    if word in punctuation:\n",
        "        dic[word]+=1\n",
        "\n",
        "x,y=zip(*dic.items())\n",
        "ax1.bar(x, y,color='red')\n",
        "ax1.set_title('disaster tweets')\n",
        "\n",
        "corpus=create_corpus(1)\n",
        "dic=defaultdict(int)\n",
        "for word in corpus:\n",
        "    if word in punctuation:\n",
        "        dic[word]+=1\n",
        "x,y=zip(*dic.items())\n",
        "ax2.bar(x, y,color='green')\n",
        "ax2.set_title('Not disaster tweets')\n",
        "plt.show()"
      ],
      "execution_count": 18,
      "outputs": [
        {
          "output_type": "display_data",
          "data": {
            "image/png": "[encoded data removed]",
            "text/plain": [
              "<Figure size 720x360 with 2 Axes>"
            ]
          },
          "metadata": {
            "tags": [],
            "needs_background": "light"
          }
        }
      ]
    },
    {
      "cell_type": "markdown",
      "metadata": {
        "id": "aUEGL_9nEcXE",
        "colab_type": "text"
      },
      "source": [
        "##### Observation:\n",
        "\n",
        "해석하는 데 필요하지 않은 구두점이 많이 존재하고 있음을 볼 수 있다."
      ]
    },
    {
      "cell_type": "markdown",
      "metadata": {
        "id": "7V8u7uQlFl12",
        "colab_type": "text"
      },
      "source": [
        "##### Observation\n",
        "\n",
        "stop words와 punctuation 결과를 보아 해석하는 데 필요하지 않을 단어를 지우는 작업이 필요할 것으로 보인다."
      ]
    },
    {
      "cell_type": "markdown",
      "metadata": {
        "id": "0iWCkf2_HL0z",
        "colab_type": "text"
      },
      "source": [
        "## Data Cleaning"
      ]
    },
    {
      "cell_type": "code",
      "metadata": {
        "id": "6FWqfcqGHeWS",
        "colab_type": "code",
        "colab": {
          "base_uri": "https://localhost:8080/",
          "height": 34
        },
        "outputId": "d37af6c1-9eea-4149-92d2-f4166484521f"
      },
      "source": [
        "df=pd.concat([train,test])\n",
        "df.shape"
      ],
      "execution_count": 19,
      "outputs": [
        {
          "output_type": "execute_result",
          "data": {
            "text/plain": [
              "(10876, 5)"
            ]
          },
          "metadata": {
            "tags": []
          },
          "execution_count": 19
        }
      ]
    },
    {
      "cell_type": "code",
      "metadata": {
        "id": "7Myq-zM-SoAD",
        "colab_type": "code",
        "colab": {}
      },
      "source": [
        "import re\n",
        "\n",
        "# remove http\n",
        "def remove_URL(text):\n",
        "    url = re.compile(r'https?://\\S+|www\\.\\S+')\n",
        "    return url.sub(r'',text)\n",
        "\n",
        "df['text']=df['text'].apply(lambda x : remove_URL(x))\n",
        "\n",
        "# remove HTML tags\n",
        "def remove_html(text):\n",
        "    html=re.compile(r'<.*?>')\n",
        "    return html.sub(r'',text)\n",
        "df['text']=df['text'].apply(lambda x : remove_html(x))\n",
        "\n",
        "# remove punctuations\n",
        "def remove_punct(text):\n",
        "    table=str.maketrans('','',string.punctuation)\n",
        "    return text.translate(table)\n",
        "df['text']=df['text'].apply(lambda x : remove_punct(x))"
      ],
      "execution_count": 0,
      "outputs": []
    },
    {
      "cell_type": "markdown",
      "metadata": {
        "id": "u8zVaHJMGMqU",
        "colab_type": "text"
      },
      "source": [
        "# **Additional Analysis**"
      ]
    },
    {
      "cell_type": "markdown",
      "metadata": {
        "id": "Kcs0WFwByhkZ",
        "colab_type": "text"
      },
      "source": [
        "## Train data: distribution of length"
      ]
    },
    {
      "cell_type": "code",
      "metadata": {
        "id": "VySvFBA8zbG4",
        "colab_type": "code",
        "colab": {
          "base_uri": "https://localhost:8080/",
          "height": 356
        },
        "outputId": "06d77db2-d9da-4e44-e369-7ed396614ac6"
      },
      "source": [
        "fig,(ax1,ax2)=plt.subplots(1,2,figsize=(10,5))\n",
        "train_len=train[train['target']==1]['text'].str.len()\n",
        "ax1.hist(train_len,color='red')\n",
        "ax1.set_title('disaster tweets')\n",
        "train_len=train[train['target']==0]['text'].str.len()\n",
        "ax2.hist(train_len,color='green')\n",
        "ax2.set_title('Not disaster tweets')\n",
        "fig.suptitle('Characters in tweets')\n",
        "plt.show()"
      ],
      "execution_count": 22,
      "outputs": [
        {
          "output_type": "display_data",
          "data": {
            "image/png": "[encoded data removed]",
            "text/plain": [
              "<Figure size 720x360 with 2 Axes>"
            ]
          },
          "metadata": {
            "tags": [],
            "needs_background": "light"
          }
        }
      ]
    },
    {
      "cell_type": "markdown",
      "metadata": {
        "id": "yzZd3Q2K2U2s",
        "colab_type": "text"
      },
      "source": [
        "##### Observation:\n",
        "\n",
        "재난 상황을 알리는 트위터와 그렇지 않은 트위터가 가진 길이 분포를 보았을 때, 재난 상황과 관련되지 않은 트위터가 길이가 주로 좀 더 길다는 판단을 할 수 있었다. \n",
        "이러한 특징을 모델이 파악할 수 있도록 해야되겠다."
      ]
    },
    {
      "cell_type": "markdown",
      "metadata": {
        "id": "4crqUJAD6cYk",
        "colab_type": "text"
      },
      "source": [
        "## Train data: distribution of number of words "
      ]
    },
    {
      "cell_type": "code",
      "metadata": {
        "id": "zVikWVJt9Gia",
        "colab_type": "code",
        "colab": {
          "base_uri": "https://localhost:8080/",
          "height": 387
        },
        "outputId": "9ad32857-fa9a-43a3-ba1f-ef7f3b1fb968"
      },
      "source": [
        "fig,(ax1,ax2)=plt.subplots(1,2,figsize=(10,5))\n",
        "word=train[train['target']==1]['text'].str.split().apply(lambda x : [len(i) for i in x])\n",
        "sns.distplot(word.map(lambda x: np.mean(x)),ax=ax1,color='red')\n",
        "ax1.set_title('disaster')\n",
        "word=train[train['target']==0]['text'].str.split().apply(lambda x : [len(i) for i in x])\n",
        "sns.distplot(word.map(lambda x: np.mean(x)),ax=ax2,color='green')\n",
        "ax2.set_title('Not disaster')\n",
        "fig.suptitle('Average word length in each tweet')"
      ],
      "execution_count": 23,
      "outputs": [
        {
          "output_type": "execute_result",
          "data": {
            "text/plain": [
              "Text(0.5, 0.98, 'Average word length in each tweet')"
            ]
          },
          "metadata": {
            "tags": []
          },
          "execution_count": 23
        },
        {
          "output_type": "display_data",
          "data": {
            "image/png": "[encoded data removed]",
            "text/plain": [
              "<Figure size 720x360 with 2 Axes>"
            ]
          },
          "metadata": {
            "tags": [],
            "needs_background": "light"
          }
        }
      ]
    },
    {
      "cell_type": "markdown",
      "metadata": {
        "id": "wmVV58109O_S",
        "colab_type": "text"
      },
      "source": [
        "##### Observation:\n",
        "\n",
        "실제 재난 상황을 알리는 트위터와 아닌 경우 모두 포함하고 있는 단어의 수 분포는 비슷한 것으로 보아 중요한 특징이 되지 않을 것 같다."
      ]
    }
  ]
}