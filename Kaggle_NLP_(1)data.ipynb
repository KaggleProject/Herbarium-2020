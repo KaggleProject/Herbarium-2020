{
  "nbformat": 4,
  "nbformat_minor": 0,
  "metadata": {
    "colab": {
      "name": "Kaggle_NLP_(1)data",
      "provenance": [],
      "collapsed_sections": []
    },
    "kernelspec": {
      "name": "python3",
      "display_name": "Python 3"
    }
  },
  "cells": [
    {
      "cell_type": "markdown",
      "metadata": {
        "id": "5QBGuPfG_xic",
        "colab_type": "text"
      },
      "source": [
        "# Setting"
      ]
    },
    {
      "cell_type": "code",
      "metadata": {
        "id": "YFIu6l2P9EaG",
        "colab_type": "code",
        "outputId": "0e461280-aa03-4cef-d35a-3c6cd6b8e6d5",
        "colab": {
          "resources": {
            "http://localhost:8080/nbextensions/google.colab/files.js": {
              "data": "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",
              "ok": true,
              "headers": [
                [
                  "content-type",
                  "application/javascript"
                ]
              ],
              "status": 200,
              "status_text": ""
            }
          },
          "base_uri": "https://localhost:8080/",
          "height": 287
        }
      },
      "source": [
        "!pip install kaggle\n",
        "from google.colab import files\n",
        "files.upload()"
      ],
      "execution_count": 0,
      "outputs": [
        {
          "output_type": "stream",
          "text": [
            "Requirement already satisfied: kaggle in /usr/local/lib/python3.6/dist-packages (1.5.6)\n",
            "Requirement already satisfied: python-dateutil in /usr/local/lib/python3.6/dist-packages (from kaggle) (2.8.1)\n",
            "Requirement already satisfied: six>=1.10 in /usr/local/lib/python3.6/dist-packages (from kaggle) (1.12.0)\n",
            "Requirement already satisfied: python-slugify in /usr/local/lib/python3.6/dist-packages (from kaggle) (4.0.0)\n",
            "Requirement already satisfied: certifi in /usr/local/lib/python3.6/dist-packages (from kaggle) (2020.4.5.1)\n",
            "Requirement already satisfied: requests in /usr/local/lib/python3.6/dist-packages (from kaggle) (2.21.0)\n",
            "Requirement already satisfied: urllib3<1.25,>=1.21.1 in /usr/local/lib/python3.6/dist-packages (from kaggle) (1.24.3)\n",
            "Requirement already satisfied: tqdm in /usr/local/lib/python3.6/dist-packages (from kaggle) (4.38.0)\n",
            "Requirement already satisfied: text-unidecode>=1.3 in /usr/local/lib/python3.6/dist-packages (from python-slugify->kaggle) (1.3)\n",
            "Requirement already satisfied: idna<2.9,>=2.5 in /usr/local/lib/python3.6/dist-packages (from requests->kaggle) (2.8)\n",
            "Requirement already satisfied: chardet<3.1.0,>=3.0.2 in /usr/local/lib/python3.6/dist-packages (from requests->kaggle) (3.0.4)\n"
          ],
          "name": "stdout"
        },
        {
          "output_type": "display_data",
          "data": {
            "text/html": [
              "\n",
              "     <input type=\"file\" id=\"files-dc875331-ad64-489c-9259-582331b510b1\" name=\"files[]\" multiple disabled />\n",
              "     <output id=\"result-dc875331-ad64-489c-9259-582331b510b1\">\n",
              "      Upload widget is only available when the cell has been executed in the\n",
              "      current browser session. Please rerun this cell to enable.\n",
              "      </output>\n",
              "      <script src=\"/nbextensions/google.colab/files.js\"></script> "
            ],
            "text/plain": [
              "<IPython.core.display.HTML object>"
            ]
          },
          "metadata": {
            "tags": []
          }
        },
        {
          "output_type": "stream",
          "text": [
            "Saving kaggle.json to kaggle.json\n"
          ],
          "name": "stdout"
        },
        {
          "output_type": "execute_result",
          "data": {
            "text/plain": [
              "{'kaggle.json': b'{\"username\":\"young917\",\"key\":\"38554d8ee11a16273014fb43b7fdc0a1\"}'}"
            ]
          },
          "metadata": {
            "tags": []
          },
          "execution_count": 7
        }
      ]
    },
    {
      "cell_type": "code",
      "metadata": {
        "id": "nrwHcSzt-JoR",
        "colab_type": "code",
        "outputId": "2e021190-1446-4ccd-cd00-ef3790f97722",
        "colab": {
          "base_uri": "https://localhost:8080/",
          "height": 34
        }
      },
      "source": [
        "%ls -1ha kaggle.json"
      ],
      "execution_count": 0,
      "outputs": [
        {
          "output_type": "stream",
          "text": [
            "kaggle.json\n"
          ],
          "name": "stdout"
        }
      ]
    },
    {
      "cell_type": "code",
      "metadata": {
        "id": "c7YFa6U8-QCz",
        "colab_type": "code",
        "outputId": "953f82ff-500f-4ad8-9645-260790a80675",
        "colab": {
          "base_uri": "https://localhost:8080/",
          "height": 419
        }
      },
      "source": [
        "!mkdir -p ~/.kaggle\n",
        "!cp kaggle.json ~/.kaggle/\n",
        "# Permission Warning 이 일어나지 않도록 \n",
        "!chmod 600 ~/.kaggle/kaggle.json\n",
        "# 본인이 참가한 모든 대회 보기 \n",
        "!kaggle competitions list"
      ],
      "execution_count": 0,
      "outputs": [
        {
          "output_type": "stream",
          "text": [
            "Warning: Looks like you're using an outdated API Version, please consider updating (server 1.5.6 / client 1.5.4)\n",
            "ref                                               deadline             category            reward  teamCount  userHasEntered  \n",
            "------------------------------------------------  -------------------  ---------------  ---------  ---------  --------------  \n",
            "digit-recognizer                                  2030-01-01 00:00:00  Getting Started  Knowledge       2393           False  \n",
            "titanic                                           2030-01-01 00:00:00  Getting Started  Knowledge      18350           False  \n",
            "house-prices-advanced-regression-techniques       2030-01-01 00:00:00  Getting Started  Knowledge       4543            True  \n",
            "connectx                                          2030-01-01 00:00:00  Getting Started  Knowledge        316           False  \n",
            "nlp-getting-started                               2030-01-01 00:00:00  Getting Started      Kudos       2743            True  \n",
            "competitive-data-science-predict-future-sales     2020-12-31 23:59:00  Playground           Kudos       6316           False  \n",
            "halite                                            2020-06-30 23:59:00  Featured             Kudos          0           False  \n",
            "m5-forecasting-accuracy                           2020-06-30 23:59:00  Featured           $50,000       2550            True  \n",
            "m5-forecasting-uncertainty                        2020-06-30 23:59:00  Featured           $50,000        249           False  \n",
            "jigsaw-multilingual-toxic-comment-classification  2020-06-22 23:59:00  Featured           $50,000        578           False  \n",
            "tweet-sentiment-extraction                        2020-06-16 23:59:00  Featured           $15,000        502           False  \n",
            "imet-2020-fgvc7                                   2020-05-28 23:59:00  Research         Knowledge         28           False  \n",
            "abstraction-and-reasoning-challenge               2020-05-27 23:59:00  Research           $20,000        644           False  \n",
            "imaterialist-fashion-2020-fgvc7                   2020-05-26 23:59:00  Research         Knowledge         14           False  \n",
            "liverpool-ion-switching                           2020-05-25 23:59:00  Research           $25,000       1835           False  \n",
            "flower-classification-with-tpus                   2020-05-11 23:59:00  Playground          Prizes        634           False  \n",
            "iwildcam-2020-fgvc7                               2020-05-11 23:59:00  Research         Knowledge         72           False  \n",
            "herbarium-2020-fgvc7                              2020-05-11 23:59:00  Research         Knowledge         59            True  \n",
            "plant-pathology-2020-fgvc7                        2020-05-11 23:59:00  Research         Knowledge        693           False  \n",
            "march-madness-analytics-2020                      2020-04-30 23:59:00  Analytics          $25,000          0           False  \n"
          ],
          "name": "stdout"
        }
      ]
    },
    {
      "cell_type": "code",
      "metadata": {
        "id": "br7qO0LD9IPV",
        "colab_type": "code",
        "outputId": "f16e1bd7-c516-48d5-cd12-510c86d08312",
        "colab": {
          "base_uri": "https://localhost:8080/",
          "height": 192
        }
      },
      "source": [
        "!kaggle competitions download -c nlp-getting-started"
      ],
      "execution_count": 0,
      "outputs": [
        {
          "output_type": "stream",
          "text": [
            "Warning: Looks like you're using an outdated API Version, please consider updating (server 1.5.6 / client 1.5.4)\n",
            "Downloading test.csv to /content\n",
            "  0% 0.00/411k [00:00<?, ?B/s]\n",
            "100% 411k/411k [00:00<00:00, 55.0MB/s]\n",
            "Downloading sample_submission.csv to /content\n",
            "  0% 0.00/22.2k [00:00<?, ?B/s]\n",
            "100% 22.2k/22.2k [00:00<00:00, 23.7MB/s]\n",
            "Downloading train.csv to /content\n",
            "  0% 0.00/965k [00:00<?, ?B/s]\n",
            "100% 965k/965k [00:00<00:00, 63.6MB/s]\n"
          ],
          "name": "stdout"
        }
      ]
    },
    {
      "cell_type": "markdown",
      "metadata": {
        "id": "yXNDtGV1_w3D",
        "colab_type": "text"
      },
      "source": [
        "# Data Analysis"
      ]
    },
    {
      "cell_type": "code",
      "metadata": {
        "id": "0n6xS_rk_A51",
        "colab_type": "code",
        "outputId": "d150e099-f40f-4132-b7ef-7248e89cbf79",
        "colab": {
          "base_uri": "https://localhost:8080/",
          "height": 107
        }
      },
      "source": [
        "import pandas as pd\n",
        "import numpy as np\n",
        "import matplotlib.pyplot as plt\n",
        "import seaborn as sns\n",
        "%matplotlib inline\n",
        "pd.set_option('display.max_colwidth', -1)\n",
        "pd.set_option('display.max_rows', 200)\n",
        "import spacy\n",
        "\n",
        "plt.rcParams[\"figure.figsize\"] = (15,5)"
      ],
      "execution_count": 0,
      "outputs": [
        {
          "output_type": "stream",
          "text": [
            "/usr/local/lib/python3.6/dist-packages/statsmodels/tools/_testing.py:19: FutureWarning: pandas.util.testing is deprecated. Use the functions in the public API at pandas.testing instead.\n",
            "  import pandas.util.testing as tm\n",
            "/usr/local/lib/python3.6/dist-packages/ipykernel_launcher.py:6: FutureWarning: Passing a negative integer is deprecated in version 1.0 and will not be supported in future version. Instead, use None to not limit the column width.\n",
            "  \n"
          ],
          "name": "stderr"
        }
      ]
    },
    {
      "cell_type": "code",
      "metadata": {
        "id": "6ztVF01h_SWH",
        "colab_type": "code",
        "outputId": "ba262c15-46d7-4d0e-b384-a80c1c98731e",
        "colab": {
          "base_uri": "https://localhost:8080/",
          "height": 69
        }
      },
      "source": [
        "train = pd.read_csv('./train.csv')\n",
        "test = pd.read_csv('./test.csv')\n",
        "\n",
        "train_without_label = train.drop('target', axis=1)\n",
        "traintest = pd.concat([train_without_label,test])\n",
        "\n",
        "print(\"[shape] train, test, train + test\\n\")\n",
        "print(train.shape, test.shape, traintest.shape)"
      ],
      "execution_count": 0,
      "outputs": [
        {
          "output_type": "stream",
          "text": [
            "[shape] train, test, train + test\n",
            "\n",
            "(7613, 5) (3263, 4) (10876, 4)\n"
          ],
          "name": "stdout"
        }
      ]
    },
    {
      "cell_type": "code",
      "metadata": {
        "id": "6UOFAY_oBjcx",
        "colab_type": "code",
        "outputId": "7bd6e4ba-7105-4339-d4e6-f06021245722",
        "colab": {
          "base_uri": "https://localhost:8080/",
          "height": 445
        }
      },
      "source": [
        "print(\"[sample data] train\\n\")\n",
        "train.sample(n=10)"
      ],
      "execution_count": 0,
      "outputs": [
        {
          "output_type": "stream",
          "text": [
            "[sample data] train\n",
            "\n"
          ],
          "name": "stdout"
        },
        {
          "output_type": "execute_result",
          "data": {
            "text/html": [
              "<div>\n",
              "<style scoped>\n",
              "    .dataframe tbody tr th:only-of-type {\n",
              "        vertical-align: middle;\n",
              "    }\n",
              "\n",
              "    .dataframe tbody tr th {\n",
              "        vertical-align: top;\n",
              "    }\n",
              "\n",
              "    .dataframe thead th {\n",
              "        text-align: right;\n",
              "    }\n",
              "</style>\n",
              "<table border=\"1\" class=\"dataframe\">\n",
              "  <thead>\n",
              "    <tr style=\"text-align: right;\">\n",
              "      <th></th>\n",
              "      <th>id</th>\n",
              "      <th>keyword</th>\n",
              "      <th>location</th>\n",
              "      <th>text</th>\n",
              "      <th>target</th>\n",
              "    </tr>\n",
              "  </thead>\n",
              "  <tbody>\n",
              "    <tr>\n",
              "      <th>358</th>\n",
              "      <td>516</td>\n",
              "      <td>army</td>\n",
              "      <td>NaN</td>\n",
              "      <td>One Direction Is my pick for http://t.co/q2eBlOKeVE Fan Army #Directioners http://t.co/eNCmhz6y34 x1392</td>\n",
              "      <td>1</td>\n",
              "    </tr>\n",
              "    <tr>\n",
              "      <th>4965</th>\n",
              "      <td>7076</td>\n",
              "      <td>meltdown</td>\n",
              "      <td>NaN</td>\n",
              "      <td>http://t.co/HFqlwo1kMy E-Mini SP 500: Earnings letdown equals market meltdown! http://t.co/LEi9dWVllq #Amazon</td>\n",
              "      <td>0</td>\n",
              "    </tr>\n",
              "    <tr>\n",
              "      <th>4533</th>\n",
              "      <td>6446</td>\n",
              "      <td>injured</td>\n",
              "      <td>Kolkata</td>\n",
              "      <td>Terrorists attack police post; 2 SPOs injured http://t.co/lXMdiseUCn #YUG</td>\n",
              "      <td>1</td>\n",
              "    </tr>\n",
              "    <tr>\n",
              "      <th>6296</th>\n",
              "      <td>8996</td>\n",
              "      <td>stretcher</td>\n",
              "      <td>Taylor Swift</td>\n",
              "      <td>@Stretcher @invalid @Grazed @Rexyy @Towel I see the programme (:</td>\n",
              "      <td>0</td>\n",
              "    </tr>\n",
              "    <tr>\n",
              "      <th>5325</th>\n",
              "      <td>7603</td>\n",
              "      <td>pandemonium</td>\n",
              "      <td>Scotland</td>\n",
              "      <td>@J3Lyon I'm going to put the FFVII ones out at the weekend so I think Pandemonium! (Don't forget the exclamation mark) would be midweek.</td>\n",
              "      <td>0</td>\n",
              "    </tr>\n",
              "    <tr>\n",
              "      <th>3477</th>\n",
              "      <td>4972</td>\n",
              "      <td>explosion</td>\n",
              "      <td>NaN</td>\n",
              "      <td>GAElite 0    Explosion Greg 2 [Top 3rd] [0 Out] [0 balls] [0 strikes] ... No one on [P: #16 Morgan Orchard] [B: ]</td>\n",
              "      <td>1</td>\n",
              "    </tr>\n",
              "    <tr>\n",
              "      <th>2141</th>\n",
              "      <td>3073</td>\n",
              "      <td>deaths</td>\n",
              "      <td>Does it really matter!</td>\n",
              "      <td>Deaths 7 http://t.co/xRJA0XpL40</td>\n",
              "      <td>1</td>\n",
              "    </tr>\n",
              "    <tr>\n",
              "      <th>5233</th>\n",
              "      <td>7479</td>\n",
              "      <td>obliteration</td>\n",
              "      <td>Federal Capital Territory</td>\n",
              "      <td>Alhaji Putin is far from being a good person sha. At least I had front row seat to his complete obliteration of Ibeto cement a competitor.</td>\n",
              "      <td>0</td>\n",
              "    </tr>\n",
              "    <tr>\n",
              "      <th>4740</th>\n",
              "      <td>6742</td>\n",
              "      <td>lava</td>\n",
              "      <td>USA</td>\n",
              "      <td>Check This Deal : http://t.co/uOoYgBb6aZ Sivan Health and Fitness Basalt Lava Hot Stone Massage Kit with 36 PieceÛ_ http://t.co/JJxcnwBp15</td>\n",
              "      <td>0</td>\n",
              "    </tr>\n",
              "    <tr>\n",
              "      <th>4262</th>\n",
              "      <td>6056</td>\n",
              "      <td>heat%20wave</td>\n",
              "      <td>NaN</td>\n",
              "      <td>It's a heat wave. #Squad #RevItUp #PizzaRev http://t.co/bp8bm8xSXw</td>\n",
              "      <td>1</td>\n",
              "    </tr>\n",
              "  </tbody>\n",
              "</table>\n",
              "</div>"
            ],
            "text/plain": [
              "        id  ... target\n",
              "358   516   ...  1    \n",
              "4965  7076  ...  0    \n",
              "4533  6446  ...  1    \n",
              "6296  8996  ...  0    \n",
              "5325  7603  ...  0    \n",
              "3477  4972  ...  1    \n",
              "2141  3073  ...  1    \n",
              "5233  7479  ...  0    \n",
              "4740  6742  ...  0    \n",
              "4262  6056  ...  1    \n",
              "\n",
              "[10 rows x 5 columns]"
            ]
          },
          "metadata": {
            "tags": []
          },
          "execution_count": 34
        }
      ]
    },
    {
      "cell_type": "code",
      "metadata": {
        "id": "LqWZyNELB_Mo",
        "colab_type": "code",
        "outputId": "bbbeb5e7-9e99-4d1b-f005-261961e13362",
        "colab": {
          "base_uri": "https://localhost:8080/",
          "height": 157
        }
      },
      "source": [
        "print(\"[Null Data] train\\n\")\n",
        "train.isnull().sum(),\n",
        "print(\"[Null Data] test\\n\")\n",
        "test.isnull().sum()"
      ],
      "execution_count": 0,
      "outputs": [
        {
          "output_type": "stream",
          "text": [
            "[null data] train\n",
            "\n"
          ],
          "name": "stdout"
        },
        {
          "output_type": "execute_result",
          "data": {
            "text/plain": [
              "id          0   \n",
              "keyword     61  \n",
              "location    2533\n",
              "text        0   \n",
              "target      0   \n",
              "dtype: int64"
            ]
          },
          "metadata": {
            "tags": []
          },
          "execution_count": 22
        }
      ]
    },
    {
      "cell_type": "code",
      "metadata": {
        "id": "VZ8i5PsnUWJ6",
        "colab_type": "code",
        "outputId": "1eaa83ec-8315-4e23-af80-e26cd6c8f8d5",
        "colab": {
          "base_uri": "https://localhost:8080/",
          "height": 564
        }
      },
      "source": [
        "dup_tweets = train[train.duplicated(['text'], keep = False)].sort_values('text')\n",
        "print('[Total duplicates]',dup_tweets.shape[0],'\\n[Total unique]',dup_tweets['text'].nunique(dropna = False))\n",
        "dup_tweets.head(10)"
      ],
      "execution_count": 0,
      "outputs": [
        {
          "output_type": "stream",
          "text": [
            "[Total duplicates] 179 \n",
            "[Total unique] 69\n"
          ],
          "name": "stdout"
        },
        {
          "output_type": "execute_result",
          "data": {
            "text/html": [
              "<div>\n",
              "<style scoped>\n",
              "    .dataframe tbody tr th:only-of-type {\n",
              "        vertical-align: middle;\n",
              "    }\n",
              "\n",
              "    .dataframe tbody tr th {\n",
              "        vertical-align: top;\n",
              "    }\n",
              "\n",
              "    .dataframe thead th {\n",
              "        text-align: right;\n",
              "    }\n",
              "</style>\n",
              "<table border=\"1\" class=\"dataframe\">\n",
              "  <thead>\n",
              "    <tr style=\"text-align: right;\">\n",
              "      <th></th>\n",
              "      <th>id</th>\n",
              "      <th>keyword</th>\n",
              "      <th>location</th>\n",
              "      <th>text</th>\n",
              "      <th>target</th>\n",
              "    </tr>\n",
              "  </thead>\n",
              "  <tbody>\n",
              "    <tr>\n",
              "      <th>4290</th>\n",
              "      <td>6094</td>\n",
              "      <td>hellfire</td>\n",
              "      <td>Jubail IC, Saudi Arabia.</td>\n",
              "      <td>#Allah describes piling up #wealth thinking it would last #forever as the description of the people of #Hellfire in Surah Humaza. #Reflect</td>\n",
              "      <td>0</td>\n",
              "    </tr>\n",
              "    <tr>\n",
              "      <th>4299</th>\n",
              "      <td>6105</td>\n",
              "      <td>hellfire</td>\n",
              "      <td>?????? ??? ?????? ????????</td>\n",
              "      <td>#Allah describes piling up #wealth thinking it would last #forever as the description of the people of #Hellfire in Surah Humaza. #Reflect</td>\n",
              "      <td>0</td>\n",
              "    </tr>\n",
              "    <tr>\n",
              "      <th>4312</th>\n",
              "      <td>6123</td>\n",
              "      <td>hellfire</td>\n",
              "      <td>?????? ???? ??????</td>\n",
              "      <td>#Allah describes piling up #wealth thinking it would last #forever as the description of the people of #Hellfire in Surah Humaza. #Reflect</td>\n",
              "      <td>1</td>\n",
              "    </tr>\n",
              "    <tr>\n",
              "      <th>6363</th>\n",
              "      <td>9095</td>\n",
              "      <td>suicide%20bomb</td>\n",
              "      <td>Nigeria</td>\n",
              "      <td>#Bestnaijamade: 16yr old PKK suicide bomber who detonated bomb in ... http://t.co/KSAwlYuX02 bestnaijamade bestnaijamade bestnaijamade beÛ_</td>\n",
              "      <td>1</td>\n",
              "    </tr>\n",
              "    <tr>\n",
              "      <th>6373</th>\n",
              "      <td>9107</td>\n",
              "      <td>suicide%20bomb</td>\n",
              "      <td>Nigeria</td>\n",
              "      <td>#Bestnaijamade: 16yr old PKK suicide bomber who detonated bomb in ... http://t.co/KSAwlYuX02 bestnaijamade bestnaijamade bestnaijamade beÛ_</td>\n",
              "      <td>1</td>\n",
              "    </tr>\n",
              "    <tr>\n",
              "      <th>6377</th>\n",
              "      <td>9113</td>\n",
              "      <td>suicide%20bomb</td>\n",
              "      <td>Nigeria</td>\n",
              "      <td>#Bestnaijamade: 16yr old PKK suicide bomber who detonated bomb in ... http://t.co/KSAwlYuX02 bestnaijamade bestnaijamade bestnaijamade beÛ_</td>\n",
              "      <td>1</td>\n",
              "    </tr>\n",
              "    <tr>\n",
              "      <th>6378</th>\n",
              "      <td>9114</td>\n",
              "      <td>suicide%20bomb</td>\n",
              "      <td>Nigeria</td>\n",
              "      <td>#Bestnaijamade: 16yr old PKK suicide bomber who detonated bomb in ... http://t.co/KSAwlYuX02 bestnaijamade bestnaijamade bestnaijamade beÛ_</td>\n",
              "      <td>1</td>\n",
              "    </tr>\n",
              "    <tr>\n",
              "      <th>6392</th>\n",
              "      <td>9135</td>\n",
              "      <td>suicide%20bomb</td>\n",
              "      <td>Nigeria</td>\n",
              "      <td>#Bestnaijamade: 16yr old PKK suicide bomber who detonated bomb in ... http://t.co/KSAwlYuX02 bestnaijamade bestnaijamade bestnaijamade beÛ_</td>\n",
              "      <td>1</td>\n",
              "    </tr>\n",
              "    <tr>\n",
              "      <th>6366</th>\n",
              "      <td>9098</td>\n",
              "      <td>suicide%20bomb</td>\n",
              "      <td>Nigeria</td>\n",
              "      <td>#Bestnaijamade: 16yr old PKK suicide bomber who detonated bomb in ... http://t.co/KSAwlYuX02 bestnaijamade bestnaijamade bestnaijamade beÛ_</td>\n",
              "      <td>1</td>\n",
              "    </tr>\n",
              "    <tr>\n",
              "      <th>2828</th>\n",
              "      <td>4064</td>\n",
              "      <td>displaced</td>\n",
              "      <td>NaN</td>\n",
              "      <td>#KCA #VoteJKT48ID 12News: UPDATE: A family of 3 has been displaced after fired damaged housed near 90th and Osborn. Fire extinguished no iÛ_</td>\n",
              "      <td>1</td>\n",
              "    </tr>\n",
              "  </tbody>\n",
              "</table>\n",
              "</div>"
            ],
            "text/plain": [
              "        id  ... target\n",
              "4290  6094  ...  0    \n",
              "4299  6105  ...  0    \n",
              "4312  6123  ...  1    \n",
              "6363  9095  ...  1    \n",
              "6373  9107  ...  1    \n",
              "6377  9113  ...  1    \n",
              "6378  9114  ...  1    \n",
              "6392  9135  ...  1    \n",
              "6366  9098  ...  1    \n",
              "2828  4064  ...  1    \n",
              "\n",
              "[10 rows x 5 columns]"
            ]
          },
          "metadata": {
            "tags": []
          },
          "execution_count": 40
        }
      ]
    },
    {
      "cell_type": "markdown",
      "metadata": {
        "id": "DX05ZTMVEy3y",
        "colab_type": "text"
      },
      "source": [
        "### Observation\n",
        "\n",
        "#### 1. shape는 (7613, 5) (3263, 4) (10876, 4)\n",
        "> target 제외하고 twitter 하나당 id, keyword, location, text를 가지고 있다.\n",
        "\n",
        "#### 2. text:\n",
        "> http나 @ 등도 포함하고 있기에 정제하는 작업이 필요할 것 같다.\n",
        "\n",
        "#### 3. keyword:\n",
        "> random하게 살펴본 데이터로는 알맞은 데이터가 들어가 있는 것으로 보인다. 또한 비어있는 경우도 61가지 밖에 없기 때문에 이를 training에 이용하면 좋겠다는 생각이 든다.\n",
        "\n",
        "#### 4. location:\n",
        "> Taylor Swift, Does it really matter! 등 알맞지 않은 데이터도 존재하기 때문에 사용하지 않거나 정제하는 작업이 필요할 것으로 보인다.\n",
        "\n",
        "####5. target:\n",
        "> 생각했던 것과 다르게, 같은 text이지만 다른 target을 갖은 데이터도 train에 포함되어있음을 확인할 수 있었다."
      ]
    },
    {
      "cell_type": "code",
      "metadata": {
        "id": "Jzio3SJjb3e9",
        "colab_type": "code",
        "outputId": "087f41c9-4128-4895-96fc-1306a0c4b7c4",
        "colab": {
          "base_uri": "https://localhost:8080/",
          "height": 1000
        }
      },
      "source": [
        "data = train\n",
        "a = data.groupby(['keyword', 'target']).size().unstack(fill_value=0)\n",
        "a['fraction'] = a[1] / (a[0] + a[1])\n",
        "a = a.sort_values(by=[1], axis=0, ascending=False)\n",
        "a[:30]"
      ],
      "execution_count": 0,
      "outputs": [
        {
          "output_type": "execute_result",
          "data": {
            "text/html": [
              "<div>\n",
              "<style scoped>\n",
              "    .dataframe tbody tr th:only-of-type {\n",
              "        vertical-align: middle;\n",
              "    }\n",
              "\n",
              "    .dataframe tbody tr th {\n",
              "        vertical-align: top;\n",
              "    }\n",
              "\n",
              "    .dataframe thead th {\n",
              "        text-align: right;\n",
              "    }\n",
              "</style>\n",
              "<table border=\"1\" class=\"dataframe\">\n",
              "  <thead>\n",
              "    <tr style=\"text-align: right;\">\n",
              "      <th>target</th>\n",
              "      <th>0</th>\n",
              "      <th>1</th>\n",
              "      <th>fraction</th>\n",
              "    </tr>\n",
              "    <tr>\n",
              "      <th>keyword</th>\n",
              "      <th></th>\n",
              "      <th></th>\n",
              "      <th></th>\n",
              "    </tr>\n",
              "  </thead>\n",
              "  <tbody>\n",
              "    <tr>\n",
              "      <th>NA</th>\n",
              "      <td>19</td>\n",
              "      <td>42</td>\n",
              "      <td>0.688525</td>\n",
              "    </tr>\n",
              "    <tr>\n",
              "      <th>wreckage</th>\n",
              "      <td>0</td>\n",
              "      <td>39</td>\n",
              "      <td>1.000000</td>\n",
              "    </tr>\n",
              "    <tr>\n",
              "      <th>derailment</th>\n",
              "      <td>0</td>\n",
              "      <td>39</td>\n",
              "      <td>1.000000</td>\n",
              "    </tr>\n",
              "    <tr>\n",
              "      <th>outbreak</th>\n",
              "      <td>1</td>\n",
              "      <td>39</td>\n",
              "      <td>0.975000</td>\n",
              "    </tr>\n",
              "    <tr>\n",
              "      <th>debris</th>\n",
              "      <td>0</td>\n",
              "      <td>37</td>\n",
              "      <td>1.000000</td>\n",
              "    </tr>\n",
              "    <tr>\n",
              "      <th>typhoon</th>\n",
              "      <td>1</td>\n",
              "      <td>37</td>\n",
              "      <td>0.973684</td>\n",
              "    </tr>\n",
              "    <tr>\n",
              "      <th>oil%20spill</th>\n",
              "      <td>1</td>\n",
              "      <td>37</td>\n",
              "      <td>0.973684</td>\n",
              "    </tr>\n",
              "    <tr>\n",
              "      <th>suicide%20bomb</th>\n",
              "      <td>3</td>\n",
              "      <td>32</td>\n",
              "      <td>0.914286</td>\n",
              "    </tr>\n",
              "    <tr>\n",
              "      <th>evacuated</th>\n",
              "      <td>4</td>\n",
              "      <td>32</td>\n",
              "      <td>0.888889</td>\n",
              "    </tr>\n",
              "    <tr>\n",
              "      <th>suicide%20bombing</th>\n",
              "      <td>1</td>\n",
              "      <td>32</td>\n",
              "      <td>0.969697</td>\n",
              "    </tr>\n",
              "    <tr>\n",
              "      <th>rescuers</th>\n",
              "      <td>3</td>\n",
              "      <td>32</td>\n",
              "      <td>0.914286</td>\n",
              "    </tr>\n",
              "    <tr>\n",
              "      <th>nuclear%20disaster</th>\n",
              "      <td>3</td>\n",
              "      <td>31</td>\n",
              "      <td>0.911765</td>\n",
              "    </tr>\n",
              "    <tr>\n",
              "      <th>razed</th>\n",
              "      <td>4</td>\n",
              "      <td>31</td>\n",
              "      <td>0.885714</td>\n",
              "    </tr>\n",
              "    <tr>\n",
              "      <th>suicide%20bomber</th>\n",
              "      <td>1</td>\n",
              "      <td>30</td>\n",
              "      <td>0.967742</td>\n",
              "    </tr>\n",
              "    <tr>\n",
              "      <th>airplane%20accident</th>\n",
              "      <td>5</td>\n",
              "      <td>30</td>\n",
              "      <td>0.857143</td>\n",
              "    </tr>\n",
              "    <tr>\n",
              "      <th>earthquake</th>\n",
              "      <td>9</td>\n",
              "      <td>30</td>\n",
              "      <td>0.769231</td>\n",
              "    </tr>\n",
              "    <tr>\n",
              "      <th>collision</th>\n",
              "      <td>10</td>\n",
              "      <td>29</td>\n",
              "      <td>0.743590</td>\n",
              "    </tr>\n",
              "    <tr>\n",
              "      <th>wildfire</th>\n",
              "      <td>4</td>\n",
              "      <td>29</td>\n",
              "      <td>0.878788</td>\n",
              "    </tr>\n",
              "    <tr>\n",
              "      <th>bridge%20collapse</th>\n",
              "      <td>6</td>\n",
              "      <td>29</td>\n",
              "      <td>0.828571</td>\n",
              "    </tr>\n",
              "    <tr>\n",
              "      <th>drought</th>\n",
              "      <td>7</td>\n",
              "      <td>28</td>\n",
              "      <td>0.800000</td>\n",
              "    </tr>\n",
              "    <tr>\n",
              "      <th>buildings%20on%20fire</th>\n",
              "      <td>5</td>\n",
              "      <td>28</td>\n",
              "      <td>0.848485</td>\n",
              "    </tr>\n",
              "    <tr>\n",
              "      <th>sandstorm</th>\n",
              "      <td>9</td>\n",
              "      <td>28</td>\n",
              "      <td>0.756757</td>\n",
              "    </tr>\n",
              "    <tr>\n",
              "      <th>evacuation</th>\n",
              "      <td>8</td>\n",
              "      <td>28</td>\n",
              "      <td>0.777778</td>\n",
              "    </tr>\n",
              "    <tr>\n",
              "      <th>mass%20murder</th>\n",
              "      <td>5</td>\n",
              "      <td>28</td>\n",
              "      <td>0.848485</td>\n",
              "    </tr>\n",
              "    <tr>\n",
              "      <th>casualties</th>\n",
              "      <td>7</td>\n",
              "      <td>28</td>\n",
              "      <td>0.800000</td>\n",
              "    </tr>\n",
              "    <tr>\n",
              "      <th>bombing</th>\n",
              "      <td>2</td>\n",
              "      <td>27</td>\n",
              "      <td>0.931034</td>\n",
              "    </tr>\n",
              "    <tr>\n",
              "      <th>devastation</th>\n",
              "      <td>9</td>\n",
              "      <td>27</td>\n",
              "      <td>0.750000</td>\n",
              "    </tr>\n",
              "    <tr>\n",
              "      <th>sinkhole</th>\n",
              "      <td>12</td>\n",
              "      <td>27</td>\n",
              "      <td>0.692308</td>\n",
              "    </tr>\n",
              "    <tr>\n",
              "      <th>forest%20fires</th>\n",
              "      <td>5</td>\n",
              "      <td>27</td>\n",
              "      <td>0.843750</td>\n",
              "    </tr>\n",
              "    <tr>\n",
              "      <th>hostages</th>\n",
              "      <td>10</td>\n",
              "      <td>27</td>\n",
              "      <td>0.729730</td>\n",
              "    </tr>\n",
              "  </tbody>\n",
              "</table>\n",
              "</div>"
            ],
            "text/plain": [
              "target                  0   1  fraction\n",
              "keyword                                \n",
              "NA                     19  42  0.688525\n",
              "wreckage               0   39  1.000000\n",
              "derailment             0   39  1.000000\n",
              "outbreak               1   39  0.975000\n",
              "debris                 0   37  1.000000\n",
              "typhoon                1   37  0.973684\n",
              "oil%20spill            1   37  0.973684\n",
              "suicide%20bomb         3   32  0.914286\n",
              "evacuated              4   32  0.888889\n",
              "suicide%20bombing      1   32  0.969697\n",
              "rescuers               3   32  0.914286\n",
              "nuclear%20disaster     3   31  0.911765\n",
              "razed                  4   31  0.885714\n",
              "suicide%20bomber       1   30  0.967742\n",
              "airplane%20accident    5   30  0.857143\n",
              "earthquake             9   30  0.769231\n",
              "collision              10  29  0.743590\n",
              "wildfire               4   29  0.878788\n",
              "bridge%20collapse      6   29  0.828571\n",
              "drought                7   28  0.800000\n",
              "buildings%20on%20fire  5   28  0.848485\n",
              "sandstorm              9   28  0.756757\n",
              "evacuation             8   28  0.777778\n",
              "mass%20murder          5   28  0.848485\n",
              "casualties             7   28  0.800000\n",
              "bombing                2   27  0.931034\n",
              "devastation            9   27  0.750000\n",
              "sinkhole               12  27  0.692308\n",
              "forest%20fires         5   27  0.843750\n",
              "hostages               10  27  0.729730"
            ]
          },
          "metadata": {
            "tags": []
          },
          "execution_count": 93
        }
      ]
    },
    {
      "cell_type": "code",
      "metadata": {
        "id": "RvOo2wGFj6ce",
        "colab_type": "code",
        "outputId": "6a099b5d-fdf0-4401-b9e7-15e5b9e5a7f6",
        "colab": {
          "base_uri": "https://localhost:8080/",
          "height": 470
        }
      },
      "source": [
        "ax = a['fraction'][:20].plot(kind='bar', title =\"fraction of real keyword\", figsize=(15, 5), legend=True, fontsize=12)\n",
        "ax.set_xlabel(\"keyword\", fontsize=12)\n",
        "ax.set_ylabel(\"fraction of real keyword\", fontsize=12)\n",
        "plt.show()"
      ],
      "execution_count": 0,
      "outputs": [
        {
          "output_type": "display_data",
          "data": {
            "image/png": "[encoded data removed]",
            "text/plain": [
              "<Figure size 1080x360 with 1 Axes>"
            ]
          },
          "metadata": {
            "tags": [],
            "needs_background": "light"
          }
        }
      ]
    },
    {
      "cell_type": "markdown",
      "metadata": {
        "id": "M9lvyVBrWXIZ",
        "colab_type": "text"
      },
      "source": [
        "### Observation\n",
        "\n",
        "##### target = 1인 데이터 중 가장 많이 나타난 keyword 순으로 (target = 1에 나타난 횟수 / target = 0에 나타난 횟수) 를 살펴보았을 때, 모두 0.6 ~ 1.0 사이의 값을 보이는 것을 알 수 있었다. 따라서 keyword가 유의미한 데이터가 될 수 있음을 파악할 수 있었다."
      ]
    },
    {
      "cell_type": "code",
      "metadata": {
        "id": "1UHRN2MqDfBa",
        "colab_type": "code",
        "outputId": "1e96fd66-fccd-4380-8d2c-76a82159c0ff",
        "colab": {
          "base_uri": "https://localhost:8080/",
          "height": 465
        }
      },
      "source": [
        "# top 20 keyword frequency in real and not real disaster tweets\n",
        "train['keyword'] = train['keyword'].fillna('NA')\n",
        "real = train[train['target'] == 1]\n",
        "noreal = train[train['target'] == 0]\n",
        "fig, (ax1,ax2) = plt.subplots(1,2, figsize=(15,7))\n",
        "sns.countplot(y='keyword',hue = 'target', data = train, order = real['keyword'].value_counts()[:20].index, ax= ax1)\n",
        "ax1.set_xticklabels(ax1.get_xticklabels(), rotation=90)\n",
        "ax1.set_title('Top 20 keywords for real tweet')\n",
        "sns.countplot(y='keyword',hue = 'target', data = train, order = noreal['keyword'].value_counts()[:20].index, ax= ax2)\n",
        "ax2.set_xticklabels(ax2.get_xticklabels(), rotation=90)\n",
        "ax2.set_title('Top 20 keywords for not real tweet')\n",
        "print()"
      ],
      "execution_count": 0,
      "outputs": [
        {
          "output_type": "stream",
          "text": [
            "\n"
          ],
          "name": "stdout"
        },
        {
          "output_type": "display_data",
          "data": {
            "image/png": "[encoded data removed]",
            "text/plain": [
              "<Figure size 1080x504 with 2 Axes>"
            ]
          },
          "metadata": {
            "tags": [],
            "needs_background": "light"
          }
        }
      ]
    },
    {
      "cell_type": "markdown",
      "metadata": {
        "id": "3eFtN0odbjYh",
        "colab_type": "text"
      },
      "source": [
        "## Fixing Data"
      ]
    },
    {
      "cell_type": "code",
      "metadata": {
        "id": "7Myq-zM-SoAD",
        "colab_type": "code",
        "colab": {}
      },
      "source": [
        "# remove http\n",
        "train['text'] = train['text'].str.replace(r'https?://\\S*','', regex=True)\n"
      ],
      "execution_count": 0,
      "outputs": []
    },
    {
      "cell_type": "code",
      "metadata": {
        "id": "Cso9uvaAuRzQ",
        "colab_type": "code",
        "colab": {}
      },
      "source": [
        "from sklearn.feature_extraction.text import TfidfVectorizer\n",
        "\n",
        "# It performs lemmatization, lowering case, stop word removal in text column and create bag of words data frame\n",
        "parser = spacy.load('en_core_web_lg')\n",
        "\n",
        "stop_words = spacy.lang.en.stop_words.STOP_WORDS\n",
        "\n",
        "def spacy_tokenizer(sentence):\n",
        "    tokens = parser(sentence)\n",
        "    \n",
        "    tokens = [tok.lemma_.lower().strip() if tok.lemma_ != \"-PRON-\" else tok.lower_ for tok in tokens]\n",
        "    \n",
        "    tokens = [ tok for tok in tokens if tok not in stop_words]\n",
        "    \n",
        "    return tokens\n",
        "\n",
        "\n",
        "tf_vector = TfidfVectorizer(tokenizer = spacy_tokenizer,analyzer = 'word', ngram_range = (1,1))\n",
        "\n",
        "X = tf_vector.fit_transform(train['text'])\n",
        "features = tf_vector.get_feature_names()\n",
        "\n",
        "bow_df = pd.DataFrame(columns = features, data = X.toarray())\n",
        "print(bow_df.shape)\n",
        "bow_df.head()"
      ],
      "execution_count": 0,
      "outputs": []
    },
    {
      "cell_type": "code",
      "metadata": {
        "id": "PCgHGTEkuRMZ",
        "colab_type": "code",
        "colab": {}
      },
      "source": [
        "# Creating Final Data Frame\n",
        "\n",
        "train.reset_index(inplace=True, drop = True)\n",
        "y = train['target'] \n",
        "train.drop(['target','text'],axis = 1, inplace = True)\n",
        "train = pd.concat([train,bow_df], axis =1)\n",
        "print(train.shape)\n",
        "train.head()"
      ],
      "execution_count": 0,
      "outputs": []
    },
    {
      "cell_type": "code",
      "metadata": {
        "id": "shbbZF12uigX",
        "colab_type": "code",
        "colab": {}
      },
      "source": [
        "# Label Encodeing and compressing sparse matrix for faster execution \n",
        "\n",
        "from scipy.sparse import csr_matrix\n",
        "from sklearn.preprocessing import LabelEncoder\n",
        "\n",
        "lekw = LabelEncoder()\n",
        "lekw.fit(train['keyword'])\n",
        "train['keyword'] = lekw.transform(train['keyword'])\n",
        "\n",
        "leemo = LabelEncoder()\n",
        "leemo.fit_transform(train['emoji'])\n",
        "train['emoji'] = leemo.transform(train['emoji'])\n",
        "\n",
        "print(train.columns)\n",
        "X = csr_matrix(train.values)\n",
        "\n",
        "print(X.shape, y.shape)"
      ],
      "execution_count": 0,
      "outputs": []
    }
  ]
}