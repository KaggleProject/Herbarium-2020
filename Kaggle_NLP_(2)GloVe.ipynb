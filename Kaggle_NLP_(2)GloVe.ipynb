{
  "nbformat": 4,
  "nbformat_minor": 0,
  "metadata": {
    "colab": {
      "name": "Kaggle_NLP_(2)GloVe",
      "provenance": [],
      "collapsed_sections": []
    },
    "kernelspec": {
      "name": "python3",
      "display_name": "Python 3"
    }
  },
  "cells": [
    {
      "cell_type": "markdown",
      "metadata": {
        "id": "5QBGuPfG_xic",
        "colab_type": "text"
      },
      "source": [
        "# Setting"
      ]
    },
    {
      "cell_type": "code",
      "metadata": {
        "id": "YFIu6l2P9EaG",
        "colab_type": "code",
        "outputId": "1f3c3a52-256b-4168-d9ef-6252d6d97d2e",
        "colab": {
          "resources": {
            "http://localhost:8080/nbextensions/google.colab/files.js": {
              "data": "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",
              "ok": true,
              "headers": [
                [
                  "content-type",
                  "application/javascript"
                ]
              ],
              "status": 200,
              "status_text": ""
            }
          },
          "base_uri": "https://localhost:8080/",
          "height": 287
        }
      },
      "source": [
        "!pip install kaggle\n",
        "from google.colab import files\n",
        "files.upload()"
      ],
      "execution_count": 1,
      "outputs": [
        {
          "output_type": "stream",
          "text": [
            "Requirement already satisfied: kaggle in /usr/local/lib/python3.6/dist-packages (1.5.6)\n",
            "Requirement already satisfied: python-slugify in /usr/local/lib/python3.6/dist-packages (from kaggle) (4.0.0)\n",
            "Requirement already satisfied: tqdm in /usr/local/lib/python3.6/dist-packages (from kaggle) (4.41.1)\n",
            "Requirement already satisfied: requests in /usr/local/lib/python3.6/dist-packages (from kaggle) (2.23.0)\n",
            "Requirement already satisfied: six>=1.10 in /usr/local/lib/python3.6/dist-packages (from kaggle) (1.12.0)\n",
            "Requirement already satisfied: certifi in /usr/local/lib/python3.6/dist-packages (from kaggle) (2020.4.5.1)\n",
            "Requirement already satisfied: python-dateutil in /usr/local/lib/python3.6/dist-packages (from kaggle) (2.8.1)\n",
            "Requirement already satisfied: urllib3<1.25,>=1.21.1 in /usr/local/lib/python3.6/dist-packages (from kaggle) (1.24.3)\n",
            "Requirement already satisfied: text-unidecode>=1.3 in /usr/local/lib/python3.6/dist-packages (from python-slugify->kaggle) (1.3)\n",
            "Requirement already satisfied: chardet<4,>=3.0.2 in /usr/local/lib/python3.6/dist-packages (from requests->kaggle) (3.0.4)\n",
            "Requirement already satisfied: idna<3,>=2.5 in /usr/local/lib/python3.6/dist-packages (from requests->kaggle) (2.9)\n"
          ],
          "name": "stdout"
        },
        {
          "output_type": "display_data",
          "data": {
            "text/html": [
              "\n",
              "     <input type=\"file\" id=\"files-4dffc8fe-d5f9-4813-8e65-f67825160ca5\" name=\"files[]\" multiple disabled />\n",
              "     <output id=\"result-4dffc8fe-d5f9-4813-8e65-f67825160ca5\">\n",
              "      Upload widget is only available when the cell has been executed in the\n",
              "      current browser session. Please rerun this cell to enable.\n",
              "      </output>\n",
              "      <script src=\"/nbextensions/google.colab/files.js\"></script> "
            ],
            "text/plain": [
              "<IPython.core.display.HTML object>"
            ]
          },
          "metadata": {
            "tags": []
          }
        },
        {
          "output_type": "stream",
          "text": [
            "Saving kaggle.json to kaggle.json\n"
          ],
          "name": "stdout"
        },
        {
          "output_type": "execute_result",
          "data": {
            "text/plain": [
              "{'kaggle.json': b'{\"username\":\"young917\",\"key\":\"38554d8ee11a16273014fb43b7fdc0a1\"}'}"
            ]
          },
          "metadata": {
            "tags": []
          },
          "execution_count": 1
        }
      ]
    },
    {
      "cell_type": "code",
      "metadata": {
        "id": "nrwHcSzt-JoR",
        "colab_type": "code",
        "outputId": "bb9fb6a9-271f-434b-b83c-297532980149",
        "colab": {
          "base_uri": "https://localhost:8080/",
          "height": 34
        }
      },
      "source": [
        "%ls -1ha kaggle.json"
      ],
      "execution_count": 2,
      "outputs": [
        {
          "output_type": "stream",
          "text": [
            "kaggle.json\n"
          ],
          "name": "stdout"
        }
      ]
    },
    {
      "cell_type": "code",
      "metadata": {
        "id": "c7YFa6U8-QCz",
        "colab_type": "code",
        "outputId": "a96bfd0e-9eae-41a5-e678-20fb4b93ffd0",
        "colab": {
          "base_uri": "https://localhost:8080/",
          "height": 419
        }
      },
      "source": [
        "!mkdir -p ~/.kaggle\n",
        "!cp kaggle.json ~/.kaggle/\n",
        "# Permission Warning 이 일어나지 않도록 \n",
        "!chmod 600 ~/.kaggle/kaggle.json\n",
        "# 본인이 참가한 모든 대회 보기 \n",
        "!kaggle competitions list"
      ],
      "execution_count": 3,
      "outputs": [
        {
          "output_type": "stream",
          "text": [
            "Warning: Looks like you're using an outdated API Version, please consider updating (server 1.5.6 / client 1.5.4)\n",
            "ref                                               deadline             category            reward  teamCount  userHasEntered  \n",
            "------------------------------------------------  -------------------  ---------------  ---------  ---------  --------------  \n",
            "digit-recognizer                                  2030-01-01 00:00:00  Getting Started  Knowledge       3001           False  \n",
            "titanic                                           2030-01-01 00:00:00  Getting Started  Knowledge      22146           False  \n",
            "house-prices-advanced-regression-techniques       2030-01-01 00:00:00  Getting Started  Knowledge       5120            True  \n",
            "connectx                                          2030-01-01 00:00:00  Getting Started  Knowledge        404           False  \n",
            "nlp-getting-started                               2030-01-01 00:00:00  Getting Started      Kudos       2082            True  \n",
            "competitive-data-science-predict-future-sales     2020-12-31 23:59:00  Playground           Kudos       6801           False  \n",
            "global-wheat-detection                            2020-08-04 23:59:00  Research           $15,000        343           False  \n",
            "hashcode-photo-slideshow                          2020-07-27 23:59:00  Playground       Knowledge         23           False  \n",
            "prostate-cancer-grade-assessment                  2020-07-22 23:59:00  Featured           $25,000        374           False  \n",
            "alaska2-image-steganalysis                        2020-07-20 23:59:00  Research           $25,000        319           False  \n",
            "halite                                            2020-06-30 23:59:00  Featured             Kudos          0           False  \n",
            "m5-forecasting-accuracy                           2020-06-30 23:59:00  Featured           $50,000       3940            True  \n",
            "m5-forecasting-uncertainty                        2020-06-30 23:59:00  Featured           $50,000        434           False  \n",
            "trends-assessment-prediction                      2020-06-29 23:59:00  Research           $25,000        338           False  \n",
            "jigsaw-multilingual-toxic-comment-classification  2020-06-22 23:59:00  Featured           $50,000        966           False  \n",
            "tweet-sentiment-extraction                        2020-06-16 23:59:00  Featured           $15,000       1216           False  \n",
            "imet-2020-fgvc7                                   2020-05-28 23:59:00  Research         Knowledge         78           False  \n",
            "abstraction-and-reasoning-challenge               2020-05-27 23:59:00  Research           $20,000        826           False  \n",
            "imaterialist-fashion-2020-fgvc7                   2020-05-26 23:59:00  Research         Knowledge         47           False  \n",
            "iwildcam-2020-fgvc7                               2020-05-26 23:59:00  Research         Knowledge        119           False  \n"
          ],
          "name": "stdout"
        }
      ]
    },
    {
      "cell_type": "code",
      "metadata": {
        "id": "br7qO0LD9IPV",
        "colab_type": "code",
        "outputId": "3c1fdb62-a3b8-40a3-8219-d2c529a2ae78",
        "colab": {
          "base_uri": "https://localhost:8080/",
          "height": 192
        }
      },
      "source": [
        "!kaggle competitions download -c nlp-getting-started"
      ],
      "execution_count": 4,
      "outputs": [
        {
          "output_type": "stream",
          "text": [
            "Warning: Looks like you're using an outdated API Version, please consider updating (server 1.5.6 / client 1.5.4)\n",
            "Downloading test.csv to /content\n",
            "  0% 0.00/411k [00:00<?, ?B/s]\n",
            "100% 411k/411k [00:00<00:00, 55.6MB/s]\n",
            "Downloading sample_submission.csv to /content\n",
            "  0% 0.00/22.2k [00:00<?, ?B/s]\n",
            "100% 22.2k/22.2k [00:00<00:00, 22.9MB/s]\n",
            "Downloading train.csv to /content\n",
            "  0% 0.00/965k [00:00<?, ?B/s]\n",
            "100% 965k/965k [00:00<00:00, 60.9MB/s]\n"
          ],
          "name": "stdout"
        }
      ]
    },
    {
      "cell_type": "code",
      "metadata": {
        "id": "c0DMEAb57omT",
        "colab_type": "code",
        "colab": {
          "base_uri": "https://localhost:8080/",
          "height": 124
        },
        "outputId": "320261a6-6a2c-42be-e6bc-616cf45bbf0a"
      },
      "source": [
        "from google.colab import drive\n",
        "drive.mount('/content/gdrive/')"
      ],
      "execution_count": 16,
      "outputs": [
        {
          "output_type": "stream",
          "text": [
            "Go to this URL in a browser: https://accounts.google.com/o/oauth2/auth?client_id=947318989803-6bn6qk8qdgf4n4g3pfee6491hc0brc4i.apps.googleusercontent.com&redirect_uri=urn%3aietf%3awg%3aoauth%3a2.0%3aoob&response_type=code&scope=email%20https%3a%2f%2fwww.googleapis.com%2fauth%2fdocs.test%20https%3a%2f%2fwww.googleapis.com%2fauth%2fdrive%20https%3a%2f%2fwww.googleapis.com%2fauth%2fdrive.photos.readonly%20https%3a%2f%2fwww.googleapis.com%2fauth%2fpeopleapi.readonly\n",
            "\n",
            "Enter your authorization code:\n",
            "··········\n",
            "Mounted at /content/gdrive/\n"
          ],
          "name": "stdout"
        }
      ]
    },
    {
      "cell_type": "markdown",
      "metadata": {
        "id": "yXNDtGV1_w3D",
        "colab_type": "text"
      },
      "source": [
        "# **Data Analysis**"
      ]
    },
    {
      "cell_type": "code",
      "metadata": {
        "id": "0n6xS_rk_A51",
        "colab_type": "code",
        "outputId": "081c2263-2270-4d9a-9896-36632722dd35",
        "colab": {
          "base_uri": "https://localhost:8080/",
          "height": 107
        }
      },
      "source": [
        "import pandas as pd\n",
        "import numpy as np\n",
        "import matplotlib.pyplot as plt\n",
        "import seaborn as sns\n",
        "%matplotlib inline\n",
        "pd.set_option('display.max_colwidth', -1)\n",
        "pd.set_option('display.max_rows', 200)\n",
        "import spacy\n",
        "\n",
        "plt.rcParams[\"figure.figsize\"] = (15,5)"
      ],
      "execution_count": 5,
      "outputs": [
        {
          "output_type": "stream",
          "text": [
            "/usr/local/lib/python3.6/dist-packages/statsmodels/tools/_testing.py:19: FutureWarning: pandas.util.testing is deprecated. Use the functions in the public API at pandas.testing instead.\n",
            "  import pandas.util.testing as tm\n",
            "/usr/local/lib/python3.6/dist-packages/ipykernel_launcher.py:6: FutureWarning: Passing a negative integer is deprecated in version 1.0 and will not be supported in future version. Instead, use None to not limit the column width.\n",
            "  \n"
          ],
          "name": "stderr"
        }
      ]
    },
    {
      "cell_type": "code",
      "metadata": {
        "id": "6ztVF01h_SWH",
        "colab_type": "code",
        "colab": {
          "base_uri": "https://localhost:8080/",
          "height": 282
        },
        "outputId": "570b8fcd-8ee0-41ac-f6d7-cbd402c89267"
      },
      "source": [
        "train = pd.read_csv('./train.csv')\n",
        "test = pd.read_csv('./test.csv')\n",
        "print(test)"
      ],
      "execution_count": 78,
      "outputs": [
        {
          "output_type": "stream",
          "text": [
            "         id  ...                                                                                                                                         text\n",
            "0     0      ...  Just happened a terrible car crash                                                                                                         \n",
            "1     2      ...  Heard about #earthquake is different cities, stay safe everyone.                                                                           \n",
            "2     3      ...  there is a forest fire at spot pond, geese are fleeing across the street, I cannot save them all                                           \n",
            "3     9      ...  Apocalypse lighting. #Spokane #wildfires                                                                                                   \n",
            "4     11     ...  Typhoon Soudelor kills 28 in China and Taiwan                                                                                              \n",
            "...   ..     ...                                            ...                                                                                              \n",
            "3258  10861  ...  EARTHQUAKE SAFETY LOS ANGELES ÛÒ SAFETY FASTENERS XrWn                                                                                    \n",
            "3259  10865  ...  Storm in RI worse than last hurricane. My city&amp;3others hardest hit. My yard looks like it was bombed. Around 20000K still without power\n",
            "3260  10868  ...  Green Line derailment in Chicago http://t.co/UtbXLcBIuY                                                                                    \n",
            "3261  10874  ...  MEG issues Hazardous Weather Outlook (HWO) http://t.co/3X6RBQJHn3                                                                          \n",
            "3262  10875  ...  #CityofCalgary has activated its Municipal Emergency Plan. #yycstorm                                                                       \n",
            "\n",
            "[3263 rows x 4 columns]\n"
          ],
          "name": "stdout"
        }
      ]
    },
    {
      "cell_type": "markdown",
      "metadata": {
        "id": "0iWCkf2_HL0z",
        "colab_type": "text"
      },
      "source": [
        "#### Data Cleaning"
      ]
    },
    {
      "cell_type": "code",
      "metadata": {
        "id": "pVwXIn1vL3tu",
        "colab_type": "code",
        "outputId": "75407849-e029-44bc-da13-b9c1989a2e68",
        "colab": {
          "base_uri": "https://localhost:8080/",
          "height": 34
        }
      },
      "source": [
        "import pandas as pd\n",
        "import matplotlib.pyplot as plt\n",
        "import seaborn as sns\n",
        "import numpy as np\n",
        "from nltk.corpus import stopwords\n",
        "from nltk.util import ngrams\n",
        "from sklearn.feature_extraction.text import CountVectorizer\n",
        "from collections import defaultdict\n",
        "from collections import  Counter\n",
        "import re\n",
        "from nltk.tokenize import word_tokenize\n",
        "import gensim\n",
        "import string\n",
        "from keras.preprocessing.text import Tokenizer\n",
        "from keras.preprocessing.sequence import pad_sequences\n",
        "from tqdm import tqdm\n",
        "from keras.models import Sequential\n",
        "from keras.layers import Embedding,LSTM,Dense,SpatialDropout1D\n",
        "from keras.initializers import Constant\n",
        "from sklearn.model_selection import train_test_split\n",
        "from keras.optimizers import Adam"
      ],
      "execution_count": 7,
      "outputs": [
        {
          "output_type": "stream",
          "text": [
            "Using TensorFlow backend.\n"
          ],
          "name": "stderr"
        }
      ]
    },
    {
      "cell_type": "code",
      "metadata": {
        "id": "wtq05GJhAjOk",
        "colab_type": "code",
        "outputId": "724b19cc-8f98-4bd4-88f7-b812894d0d84",
        "colab": {
          "base_uri": "https://localhost:8080/",
          "height": 52
        }
      },
      "source": [
        "import nltk\n",
        "\n",
        "nltk.download('stopwords')\n",
        "stop=set(stopwords.words('english'))\n",
        "\n",
        "punctuation = string.punctuation"
      ],
      "execution_count": 8,
      "outputs": [
        {
          "output_type": "stream",
          "text": [
            "[nltk_data] Downloading package stopwords to /root/nltk_data...\n",
            "[nltk_data]   Unzipping corpora/stopwords.zip.\n"
          ],
          "name": "stdout"
        }
      ]
    },
    {
      "cell_type": "markdown",
      "metadata": {
        "id": "eNtJhn_m0W3k",
        "colab_type": "text"
      },
      "source": [
        "##### train과 test set에서 URL, html, 구두점을 삭제한다."
      ]
    },
    {
      "cell_type": "code",
      "metadata": {
        "id": "6FWqfcqGHeWS",
        "colab_type": "code",
        "outputId": "7b0cbbd8-71b3-4079-fc74-2d61bc42ccb6",
        "colab": {
          "base_uri": "https://localhost:8080/",
          "height": 34
        }
      },
      "source": [
        "df=pd.concat([train,test])\n",
        "df.shape"
      ],
      "execution_count": 9,
      "outputs": [
        {
          "output_type": "execute_result",
          "data": {
            "text/plain": [
              "(10876, 5)"
            ]
          },
          "metadata": {
            "tags": []
          },
          "execution_count": 9
        }
      ]
    },
    {
      "cell_type": "code",
      "metadata": {
        "id": "7Myq-zM-SoAD",
        "colab_type": "code",
        "colab": {}
      },
      "source": [
        "import re\n",
        "\n",
        "# remove http\n",
        "def remove_URL(text):\n",
        "    url = re.compile(r'https?://\\S+|www\\.\\S+')\n",
        "    return url.sub(r'',text)\n",
        "\n",
        "df['text']=df['text'].apply(lambda x : remove_URL(x))\n",
        "\n",
        "# remove HTML tags\n",
        "def remove_html(text):\n",
        "    html=re.compile(r'<.*?>')\n",
        "    return html.sub(r'',text)\n",
        "df['text']=df['text'].apply(lambda x : remove_html(x))\n",
        "\n",
        "# remove punctuations\n",
        "def remove_punct(text):\n",
        "    table=str.maketrans('','',string.punctuation)\n",
        "    return text.translate(table)\n",
        "df['text']=df['text'].apply(lambda x : remove_punct(x))"
      ],
      "execution_count": 0,
      "outputs": []
    },
    {
      "cell_type": "markdown",
      "metadata": {
        "id": "XQXvu0dxKo_l",
        "colab_type": "text"
      },
      "source": [
        "## GloVe\n",
        "##### Word2Vec: 기준 단어의 앞/뒤 단어들의 평균 임베딩 벡터인 Context vector와 기준 단어의 임베딩 벡터가 가깝도록 만든다. 동시에 co-occurrene가 높은 단어들이 비슷한 임베딩 벡터를 지니도록 학습한다.\n",
        "\n",
        "GloVe: co-occurence가 있는 두 단어의 임베딩 벡터를 이용해서 co-occurrence값을 예측하는 regression 문제를 풀도록 한다.  따라서 co-occurrence가 높을수록 두 단어 벡터가 비슷해지도록 만든다. \n",
        "\n",
        "\n",
        "[참조한 블로그](https://lovit.github.io/nlp/representation/2018/09/05/glove/)"
      ]
    },
    {
      "cell_type": "code",
      "metadata": {
        "id": "3oOcFv9aKqVP",
        "colab_type": "code",
        "colab": {}
      },
      "source": [
        "def create_corpus(df):\n",
        "    corpus=[]\n",
        "    for tweet in tqdm(df['text']):\n",
        "        words=[word.lower() for word in word_tokenize(tweet) if((word.isalpha()==1) & (word not in stop))]\n",
        "        corpus.append(words)\n",
        "    return corpus"
      ],
      "execution_count": 0,
      "outputs": []
    },
    {
      "cell_type": "code",
      "metadata": {
        "id": "v4LJcSjAMj4d",
        "colab_type": "code",
        "outputId": "c5cd9b75-f36b-4a0b-b780-9f64458c13d4",
        "colab": {
          "base_uri": "https://localhost:8080/",
          "height": 69
        }
      },
      "source": [
        "nltk.download('punkt')"
      ],
      "execution_count": 13,
      "outputs": [
        {
          "output_type": "stream",
          "text": [
            "[nltk_data] Downloading package punkt to /root/nltk_data...\n",
            "[nltk_data]   Unzipping tokenizers/punkt.zip.\n"
          ],
          "name": "stdout"
        },
        {
          "output_type": "execute_result",
          "data": {
            "text/plain": [
              "True"
            ]
          },
          "metadata": {
            "tags": []
          },
          "execution_count": 13
        }
      ]
    },
    {
      "cell_type": "markdown",
      "metadata": {
        "id": "AyrP9tJGKC04",
        "colab_type": "text"
      },
      "source": [
        "##### corpus: 각 데이터를 단어로만 이루어진 list로 만든다."
      ]
    },
    {
      "cell_type": "code",
      "metadata": {
        "id": "2j3KvY8HKwaN",
        "colab_type": "code",
        "outputId": "e628546e-b66f-4eb7-ab51-b0c559e5f642",
        "colab": {
          "base_uri": "https://localhost:8080/",
          "height": 34
        }
      },
      "source": [
        "corpus=create_corpus(df)"
      ],
      "execution_count": 14,
      "outputs": [
        {
          "output_type": "stream",
          "text": [
            "100%|██████████| 10876/10876 [00:01<00:00, 7278.60it/s]\n"
          ],
          "name": "stderr"
        }
      ]
    },
    {
      "cell_type": "markdown",
      "metadata": {
        "id": "pA9sR85zBSsi",
        "colab_type": "text"
      },
      "source": [
        "##### Use GloVe pretrained corpus model\n",
        "##### 이미 만들어진 임베딩 벡터를 통해서 예측하자"
      ]
    },
    {
      "cell_type": "code",
      "metadata": {
        "id": "Mnu8OKEO743v",
        "colab_type": "code",
        "colab": {}
      },
      "source": [
        "fname = '/content/gdrive/My Drive/Data Mining Project/glove_twitter/glove.twitter.27B.100d.txt'\n",
        "# 200d / 25d / 50d"
      ],
      "execution_count": 0,
      "outputs": []
    },
    {
      "cell_type": "code",
      "metadata": {
        "id": "Nu6CwjcKKznh",
        "colab_type": "code",
        "colab": {}
      },
      "source": [
        "# 3 varieties: 50D, 100D, 200Dimentional\n",
        "\n",
        "embedding_dict={}\n",
        "with open(fname,'r') as f:\n",
        "    for line in f:\n",
        "        values=line.split()\n",
        "        word=values[0]\n",
        "        vectors=np.asarray(values[1:],'float32')\n",
        "        embedding_dict[word]=vectors\n",
        "f.close()"
      ],
      "execution_count": 0,
      "outputs": []
    },
    {
      "cell_type": "code",
      "metadata": {
        "id": "AFoTZIxpNHdu",
        "colab_type": "code",
        "colab": {
          "base_uri": "https://localhost:8080/",
          "height": 34
        },
        "outputId": "c6ee1809-d64b-4d3c-d3b2-3f38a9dd8651"
      },
      "source": [
        "print('Loaded %s word vectors.' % len(embedding_dict))"
      ],
      "execution_count": 27,
      "outputs": [
        {
          "output_type": "stream",
          "text": [
            "Loaded 1193514 word vectors.\n"
          ],
          "name": "stdout"
        }
      ]
    },
    {
      "cell_type": "markdown",
      "metadata": {
        "id": "kepX_7pdKwII",
        "colab_type": "text"
      },
      "source": [
        "##### fit_on_texts: text를 컴퓨터가 이해할 수 있는 숫자 데이터로 바꾼다. word index를 생성\n",
        "\n",
        "texts_to_sequences: index를 sequence로 변환\n",
        "\n",
        "pad_sequence: 길이가 다른 문장들을 모두 MAX_LEN에 맞춘다\n",
        "\n",
        "[참조](https://inspiringpeople.github.io/data%20analysis/Glove/)"
      ]
    },
    {
      "cell_type": "code",
      "metadata": {
        "id": "1UDYDiSEK8Jz",
        "colab_type": "code",
        "colab": {}
      },
      "source": [
        "MAX_LEN=50\n",
        "tokenizer_obj = Tokenizer()\n",
        "tokenizer_obj.fit_on_texts(corpus)\n",
        "sequences = tokenizer_obj.texts_to_sequences(corpus)\n",
        "\n",
        "tweet_pad = pad_sequences(sequences,maxlen=MAX_LEN,truncating='post',padding='post')"
      ],
      "execution_count": 0,
      "outputs": []
    },
    {
      "cell_type": "code",
      "metadata": {
        "id": "7Dn2_kbQK-T-",
        "colab_type": "code",
        "colab": {
          "base_uri": "https://localhost:8080/",
          "height": 34
        },
        "outputId": "66d14425-436c-4e64-abc9-9c2dcd48d6a9"
      },
      "source": [
        "word_index = tokenizer_obj.word_index\n",
        "print('Number of unique words:',len(word_index))"
      ],
      "execution_count": 26,
      "outputs": [
        {
          "output_type": "stream",
          "text": [
            "Number of unique words: 20342\n"
          ],
          "name": "stdout"
        }
      ]
    },
    {
      "cell_type": "markdown",
      "metadata": {
        "id": "g6wG4MpYNlbO",
        "colab_type": "text"
      },
      "source": [
        "##### 해당 embedding vector로 데이터를 대체"
      ]
    },
    {
      "cell_type": "code",
      "metadata": {
        "id": "193HxZ8zK-3J",
        "colab_type": "code",
        "colab": {
          "base_uri": "https://localhost:8080/",
          "height": 34
        },
        "outputId": "cf2efbd3-df69-45a5-8917-a736532b2a3c"
      },
      "source": [
        "num_words = len(word_index) + 1\n",
        "embedding_matrix = np.zeros((num_words,100))\n",
        "\n",
        "for word,i in tqdm(word_index.items()):\n",
        "    if i > num_words:\n",
        "        continue\n",
        "    \n",
        "    emb_vec = embedding_dict.get(word)\n",
        "    if emb_vec is not None:\n",
        "        embedding_matrix[i] = emb_vec\n",
        "\n",
        "embedding = Embedding(num_words, 100, embeddings_initializer = Constant(embedding_matrix),\n",
        "                      input_length = MAX_LEN, trainable = False)"
      ],
      "execution_count": 28,
      "outputs": [
        {
          "output_type": "stream",
          "text": [
            "100%|██████████| 20342/20342 [00:00<00:00, 213657.60it/s]\n"
          ],
          "name": "stderr"
        }
      ]
    },
    {
      "cell_type": "markdown",
      "metadata": {
        "id": "vBs3nuXsQ_Ny",
        "colab_type": "text"
      },
      "source": [
        "##### Embedding된 단어 예시"
      ]
    },
    {
      "cell_type": "code",
      "metadata": {
        "id": "F8JyCjGFRBZa",
        "colab_type": "code",
        "colab": {}
      },
      "source": [
        "def cos_sim(u,v):\n",
        "    \"\"\"\n",
        "    u: vector of 1st word\n",
        "    v: vector of 2nd Word\n",
        "    \"\"\"\n",
        "    numerator_ = u.dot(v)\n",
        "    denominator_= np.sqrt(np.sum(np.square(u))) * np.sqrt(np.sum(np.square(v)))\n",
        "    return numerator_/denominator_"
      ],
      "execution_count": 0,
      "outputs": []
    },
    {
      "cell_type": "code",
      "metadata": {
        "id": "zVepK45xRGIb",
        "colab_type": "code",
        "colab": {
          "base_uri": "https://localhost:8080/",
          "height": 87
        },
        "outputId": "64573864-2742-4f85-a1a0-952e9485e002"
      },
      "source": [
        "all_words = embedding_dict.keys()\n",
        "\n",
        "print(\"Similarity Score of Cat and Dog\",cos_sim(embedding_dict['cat'],embedding_dict['dog']))\n",
        "print(\"Similarity Score of Student and Cake\",cos_sim(embedding_dict['student'],embedding_dict['cake']))\n",
        "print(\"Similarity Score of Cat and Baby\",cos_sim(embedding_dict['cat'],embedding_dict['baby']))\n",
        "print(\"Similarity Score of Mother and daughter\",cos_sim(embedding_dict['mother'],embedding_dict['daughter']))"
      ],
      "execution_count": 32,
      "outputs": [
        {
          "output_type": "stream",
          "text": [
            "Similarity Score of Cat and Dog 0.87520885\n",
            "Similarity Score of Student and Cake 0.26368493\n",
            "Similarity Score of Cat and Baby 0.64463943\n",
            "Similarity Score of Mother and daughter 0.8259466\n"
          ],
          "name": "stdout"
        }
      ]
    },
    {
      "cell_type": "markdown",
      "metadata": {
        "id": "0HTFbo5NRXfy",
        "colab_type": "text"
      },
      "source": [
        "### Visualization of Word Embedding\n",
        "\n",
        "연관성 높은 단어가 가까이 존재하는 지를 볼 수 있다."
      ]
    },
    {
      "cell_type": "markdown",
      "metadata": {
        "id": "PKqYRJnDRqiR",
        "colab_type": "text"
      },
      "source": [
        "##### PCA\n",
        "\n",
        "고차원에서 저차원으로 mapping하는 데, 정보가 가장 잘 보존되도록 한다."
      ]
    },
    {
      "cell_type": "code",
      "metadata": {
        "id": "nz9tDgK6RaM7",
        "colab_type": "code",
        "colab": {}
      },
      "source": [
        "def return_matrix(random_words, dim =100):\n",
        "    word_matrix = np.random.randn(len(random_words), dim)\n",
        "    i = 0\n",
        "    for word in random_words:\n",
        "        word_matrix[i] = embedding_dict.get(word)\n",
        "        i +=1\n",
        "    return word_matrix"
      ],
      "execution_count": 0,
      "outputs": []
    },
    {
      "cell_type": "code",
      "metadata": {
        "id": "aWGAU1EFRa_c",
        "colab_type": "code",
        "colab": {
          "base_uri": "https://localhost:8080/",
          "height": 421
        },
        "outputId": "270cc10b-923e-4557-abd8-19f5766bf84c"
      },
      "source": [
        "from sklearn.decomposition import PCA\n",
        "import matplotlib.pyplot as plt\n",
        "from pylab import rcParams\n",
        "rcParams['figure.figsize'] = 12, 6\n",
        "\n",
        "random_words = ['man','woman','king','queen','microwave','baby','boy','girl','pizza','royal','mother','father','doctor','cook','throne']\n",
        "return_matrix_ = return_matrix(random_words)\n",
        "\n",
        "# 100차원 데이터를 적절하게 2차원에서 표현한다.\n",
        "pca_ = PCA(n_components=2)\n",
        "viz_data = pca_.fit_transform(return_matrix_) \n",
        "\n",
        "plt.scatter(viz_data[:,0],viz_data[:,1],cmap=plt.get_cmap('Spectral'))\n",
        "for label,x,y in zip(random_words,viz_data[:,0],viz_data[:,1]):\n",
        "    plt.annotate(\n",
        "        label,\n",
        "        xy=(x,y),\n",
        "        xytext=(-14, 14),\n",
        "        textcoords='offset points',\n",
        "        bbox=dict(boxstyle='round,pad=0.5', fc='yellow', alpha=0.5),\n",
        "        arrowprops=dict(arrowstyle = '->', connectionstyle='arc3,rad=0')\n",
        "    )\n",
        "plt.xlabel('PCA Component 1 ')\n",
        "plt.ylabel('PCA Component 2')\n",
        "plt.title('PCA representation for Word Embedding')\n",
        "plt.xlim(-10,10)\n",
        "plt.ylim(-5,6)"
      ],
      "execution_count": 44,
      "outputs": [
        {
          "output_type": "execute_result",
          "data": {
            "text/plain": [
              "(-5.0, 6.0)"
            ]
          },
          "metadata": {
            "tags": []
          },
          "execution_count": 44
        },
        {
          "output_type": "display_data",
          "data": {
            "image/png": "[encoded data removed]",
            "text/plain": [
              "<Figure size 864x432 with 1 Axes>"
            ]
          },
          "metadata": {
            "tags": [],
            "needs_background": "light"
          }
        }
      ]
    },
    {
      "cell_type": "markdown",
      "metadata": {
        "id": "vCrkH804RsFT",
        "colab_type": "text"
      },
      "source": [
        "##### T-SNE\n",
        "\n",
        "점들 간 유사도를 보존하면서 차원을 축소한다."
      ]
    },
    {
      "cell_type": "code",
      "metadata": {
        "id": "lBu-SznIRt6t",
        "colab_type": "code",
        "colab": {
          "base_uri": "https://localhost:8080/",
          "height": 509
        },
        "outputId": "4d96a31e-150f-455d-a378-516d26703164"
      },
      "source": [
        "from sklearn.manifold import TSNE\n",
        "tsne = TSNE(n_components=2, verbose=1, perplexity=3, method='exact')\n",
        "tsne_results = tsne.fit_transform(return_matrix_)\n",
        "\n",
        "plt.scatter(tsne_results[:,0],tsne_results[:,1],cmap=plt.get_cmap('Spectral'))\n",
        "for label,x,y in zip(random_words,tsne_results[:,0],tsne_results[:,1]):\n",
        "    plt.annotate(\n",
        "        label,\n",
        "        xy=(x,y),\n",
        "        xytext=(-14, 14),\n",
        "        textcoords='offset points',\n",
        "        bbox=dict(boxstyle='round,pad=0.5', fc='yellow', alpha=0.5),\n",
        "        arrowprops=dict(arrowstyle = '->', connectionstyle='arc3,rad=0')\n",
        "    )\n",
        "plt.xlabel('TSNE Component 1 ')\n",
        "plt.ylabel('TSNE Component 2')\n",
        "plt.title('TSNE representation for Word Embedding')\n"
      ],
      "execution_count": 45,
      "outputs": [
        {
          "output_type": "stream",
          "text": [
            "[t-SNE] Computing pairwise distances...\n",
            "[t-SNE] Computed conditional probabilities for sample 15 / 15\n",
            "[t-SNE] Mean sigma: 1.779327\n",
            "[t-SNE] KL divergence after 250 iterations with early exaggeration: 61.922796\n",
            "[t-SNE] KL divergence after 1000 iterations: 0.166903\n"
          ],
          "name": "stdout"
        },
        {
          "output_type": "execute_result",
          "data": {
            "text/plain": [
              "Text(0.5, 1.0, 'TSNE representation for Word Embedding')"
            ]
          },
          "metadata": {
            "tags": []
          },
          "execution_count": 45
        },
        {
          "output_type": "display_data",
          "data": {
            "image/png": "[encoded data removed]",
            "text/plain": [
              "<Figure size 864x432 with 1 Axes>"
            ]
          },
          "metadata": {
            "tags": [],
            "needs_background": "light"
          }
        }
      ]
    },
    {
      "cell_type": "markdown",
      "metadata": {
        "id": "nC4cXFdARz4n",
        "colab_type": "text"
      },
      "source": [
        "##### Analogy\n",
        "\n",
        "잘 안 됨..."
      ]
    },
    {
      "cell_type": "code",
      "metadata": {
        "id": "wUifvSFQR1pb",
        "colab_type": "code",
        "colab": {}
      },
      "source": [
        "def find_w4(word1,word2,word3, w2v):\n",
        "    \"\"\"\n",
        "    \"\"\"\n",
        "    word_list = w2v.keys()\n",
        "    max_sim = -1000\n",
        "    #Make Sure they are lower\n",
        "    word1,word2,word3 = word1.lower(), word2.lower(), word3.lower()\n",
        "    \n",
        "    word1v = w2v.get(word1)\n",
        "    word2v = w2v.get(word2)\n",
        "    word3v = w2v.get(word3)\n",
        "    \n",
        "    diff_vec = word3v - ( word1v - word2v ) #word3 - (word1 - word2)\n",
        "\n",
        "    for word in word_list:\n",
        "        vec = w2v.get(word)\n",
        "\n",
        "        if vec.shape[0] != 100:\n",
        "            continue\n",
        "\n",
        "        sim_ = cos_sim(u=diff_vec, v=vec)\n",
        "\n",
        "        if word == 'woman' or word == 'man':\n",
        "            print(word)\n",
        "            print(diff_vec)\n",
        "            print(sim_, vec)\n",
        "\n",
        "        if sim_ > max_sim:\n",
        "            max_sim = sim_\n",
        "            word_selected =  word\n",
        "\n",
        "    print(max_sim)        \n",
        "    return word_selected"
      ],
      "execution_count": 0,
      "outputs": []
    },
    {
      "cell_type": "code",
      "metadata": {
        "id": "_0nauwH4R6VC",
        "colab_type": "code",
        "colab": {}
      },
      "source": [
        "print(\"King is to Queen as Man is to \",find_w4('king','queen','man',embedding_dict))\n",
        "print(\"Cook is to Pizza as Doctor is to \",find_w4('cook','pizza','doctor',embedding_dict))\n",
        "print(\"India is to Delhi as Japan is to \",find_w4('india','delhi','japan',embedding_dict))\n",
        "print(\"kid is to toy as doctor is to \",find_w4('kid','toy','doctor',embedding_dict))"
      ],
      "execution_count": 0,
      "outputs": []
    },
    {
      "cell_type": "markdown",
      "metadata": {
        "id": "gkJVSdJrLIRY",
        "colab_type": "text"
      },
      "source": [
        "##### Model"
      ]
    },
    {
      "cell_type": "code",
      "metadata": {
        "id": "tzVLhMFcUJdk",
        "colab_type": "code",
        "colab": {}
      },
      "source": [
        "train_data=tweet_pad[:train.shape[0]]\n",
        "test_data=tweet_pad[train.shape[0]:]"
      ],
      "execution_count": 0,
      "outputs": []
    },
    {
      "cell_type": "code",
      "metadata": {
        "id": "17LderzqLBdA",
        "colab_type": "code",
        "colab": {}
      },
      "source": [
        "model=Sequential()\n",
        "model.add(embedding)\n",
        "model.add(SpatialDropout1D(0.2))\n",
        "model.add(LSTM(64, dropout=0.2, recurrent_dropout=0.2))\n",
        "model.add(Dense(1, activation='sigmoid'))\n",
        "\n",
        "\n",
        "optimzer=Adam(learning_rate=1e-5)\n",
        "\n",
        "model.compile(loss='binary_crossentropy',optimizer=optimzer,metrics=['accuracy'])"
      ],
      "execution_count": 0,
      "outputs": []
    },
    {
      "cell_type": "markdown",
      "metadata": {
        "id": "GL3PjqOccguK",
        "colab_type": "text"
      },
      "source": [
        "##### 문장을 word index sequence로 표현하여 데이터 구성 (50)\n",
        "\n",
        "-> GloVe로 만들어진 embedding을 통해서 sequence를 embedding\n",
        "\n",
        "-> dropout 후 LSTM\n",
        "\n",
        "-> LSTM의 마지막 output을 가지고 Fully Connected Layer"
      ]
    },
    {
      "cell_type": "code",
      "metadata": {
        "id": "oUIHiwjOLEcJ",
        "colab_type": "code",
        "colab": {
          "base_uri": "https://localhost:8080/",
          "height": 297
        },
        "outputId": "593c0629-dd0f-450f-a1a3-15df4ac1d72b"
      },
      "source": [
        "model.summary()"
      ],
      "execution_count": 63,
      "outputs": [
        {
          "output_type": "stream",
          "text": [
            "Model: \"sequential_1\"\n",
            "_________________________________________________________________\n",
            "Layer (type)                 Output Shape              Param #   \n",
            "=================================================================\n",
            "embedding_1 (Embedding)      (None, 50, 100)           2034300   \n",
            "_________________________________________________________________\n",
            "spatial_dropout1d_1 (Spatial (None, 50, 100)           0         \n",
            "_________________________________________________________________\n",
            "lstm_1 (LSTM)                (None, 64)                42240     \n",
            "_________________________________________________________________\n",
            "dense_1 (Dense)              (None, 1)                 65        \n",
            "=================================================================\n",
            "Total params: 2,076,605\n",
            "Trainable params: 42,305\n",
            "Non-trainable params: 2,034,300\n",
            "_________________________________________________________________\n"
          ],
          "name": "stdout"
        }
      ]
    },
    {
      "cell_type": "code",
      "metadata": {
        "id": "zTr6MaNULKmc",
        "colab_type": "code",
        "colab": {
          "base_uri": "https://localhost:8080/",
          "height": 52
        },
        "outputId": "26410aa3-3c2f-4552-b786-e48fb5e73869"
      },
      "source": [
        "X_train,X_test,y_train,y_test=train_test_split(train_data,train['target'].values,test_size=0.15)\n",
        "print('Shape of train',X_train.shape)\n",
        "print(\"Shape of Validation \",X_test.shape)"
      ],
      "execution_count": 64,
      "outputs": [
        {
          "output_type": "stream",
          "text": [
            "Shape of train (6471, 50)\n",
            "Shape of Validation  (1142, 50)\n"
          ],
          "name": "stdout"
        }
      ]
    },
    {
      "cell_type": "code",
      "metadata": {
        "id": "NW8iwbaCLMcT",
        "colab_type": "code",
        "colab": {
          "base_uri": "https://localhost:8080/",
          "height": 1000
        },
        "outputId": "ba0ec751-9677-4da4-ac14-4a60a492ffc4"
      },
      "source": [
        "history=model.fit(X_train,y_train,batch_size=4,epochs=50,validation_data=(X_test,y_test),verbose=2)"
      ],
      "execution_count": 66,
      "outputs": [
        {
          "output_type": "stream",
          "text": [
            "Train on 6471 samples, validate on 1142 samples\n",
            "Epoch 1/50\n",
            " - 39s - loss: 0.5243 - accuracy: 0.7687 - val_loss: 0.5013 - val_accuracy: 0.7846\n",
            "Epoch 2/50\n",
            " - 39s - loss: 0.5232 - accuracy: 0.7696 - val_loss: 0.4998 - val_accuracy: 0.7863\n",
            "Epoch 3/50\n",
            " - 39s - loss: 0.5207 - accuracy: 0.7671 - val_loss: 0.4996 - val_accuracy: 0.7837\n",
            "Epoch 4/50\n",
            " - 39s - loss: 0.5256 - accuracy: 0.7659 - val_loss: 0.4983 - val_accuracy: 0.7855\n",
            "Epoch 5/50\n",
            " - 39s - loss: 0.5193 - accuracy: 0.7719 - val_loss: 0.4988 - val_accuracy: 0.7837\n",
            "Epoch 6/50\n",
            " - 39s - loss: 0.5248 - accuracy: 0.7713 - val_loss: 0.4977 - val_accuracy: 0.7846\n",
            "Epoch 7/50\n",
            " - 39s - loss: 0.5190 - accuracy: 0.7690 - val_loss: 0.4989 - val_accuracy: 0.7820\n",
            "Epoch 8/50\n",
            " - 39s - loss: 0.5121 - accuracy: 0.7807 - val_loss: 0.4983 - val_accuracy: 0.7828\n",
            "Epoch 9/50\n",
            " - 39s - loss: 0.5194 - accuracy: 0.7719 - val_loss: 0.4967 - val_accuracy: 0.7872\n",
            "Epoch 10/50\n",
            " - 39s - loss: 0.5130 - accuracy: 0.7761 - val_loss: 0.4938 - val_accuracy: 0.7872\n",
            "Epoch 11/50\n",
            " - 39s - loss: 0.5106 - accuracy: 0.7796 - val_loss: 0.4943 - val_accuracy: 0.7863\n",
            "Epoch 12/50\n",
            " - 39s - loss: 0.5119 - accuracy: 0.7772 - val_loss: 0.4934 - val_accuracy: 0.7890\n",
            "Epoch 13/50\n",
            " - 38s - loss: 0.5058 - accuracy: 0.7830 - val_loss: 0.4935 - val_accuracy: 0.7855\n",
            "Epoch 14/50\n",
            " - 39s - loss: 0.5131 - accuracy: 0.7713 - val_loss: 0.4917 - val_accuracy: 0.7881\n",
            "Epoch 15/50\n",
            " - 39s - loss: 0.5111 - accuracy: 0.7762 - val_loss: 0.4907 - val_accuracy: 0.7863\n",
            "Epoch 16/50\n",
            " - 42s - loss: 0.5090 - accuracy: 0.7728 - val_loss: 0.4895 - val_accuracy: 0.7872\n",
            "Epoch 17/50\n",
            " - 39s - loss: 0.5043 - accuracy: 0.7773 - val_loss: 0.4893 - val_accuracy: 0.7890\n",
            "Epoch 18/50\n",
            " - 39s - loss: 0.5054 - accuracy: 0.7795 - val_loss: 0.4885 - val_accuracy: 0.7898\n",
            "Epoch 19/50\n",
            " - 39s - loss: 0.5045 - accuracy: 0.7782 - val_loss: 0.4868 - val_accuracy: 0.7898\n",
            "Epoch 20/50\n",
            " - 39s - loss: 0.5059 - accuracy: 0.7765 - val_loss: 0.4855 - val_accuracy: 0.7951\n",
            "Epoch 21/50\n",
            " - 39s - loss: 0.5094 - accuracy: 0.7747 - val_loss: 0.4854 - val_accuracy: 0.7916\n",
            "Epoch 22/50\n",
            " - 39s - loss: 0.5023 - accuracy: 0.7795 - val_loss: 0.4855 - val_accuracy: 0.7898\n",
            "Epoch 23/50\n",
            " - 39s - loss: 0.4932 - accuracy: 0.7903 - val_loss: 0.4841 - val_accuracy: 0.7925\n",
            "Epoch 24/50\n",
            " - 39s - loss: 0.5056 - accuracy: 0.7770 - val_loss: 0.4832 - val_accuracy: 0.7872\n",
            "Epoch 25/50\n",
            " - 39s - loss: 0.5004 - accuracy: 0.7849 - val_loss: 0.4844 - val_accuracy: 0.7855\n",
            "Epoch 26/50\n",
            " - 39s - loss: 0.4899 - accuracy: 0.7870 - val_loss: 0.4830 - val_accuracy: 0.7933\n",
            "Epoch 27/50\n",
            " - 39s - loss: 0.5006 - accuracy: 0.7820 - val_loss: 0.4826 - val_accuracy: 0.7960\n",
            "Epoch 28/50\n",
            " - 39s - loss: 0.4996 - accuracy: 0.7827 - val_loss: 0.4823 - val_accuracy: 0.7942\n",
            "Epoch 29/50\n",
            " - 39s - loss: 0.4971 - accuracy: 0.7824 - val_loss: 0.4816 - val_accuracy: 0.7960\n",
            "Epoch 30/50\n",
            " - 39s - loss: 0.5005 - accuracy: 0.7861 - val_loss: 0.4829 - val_accuracy: 0.7933\n",
            "Epoch 31/50\n",
            " - 41s - loss: 0.4939 - accuracy: 0.7875 - val_loss: 0.4817 - val_accuracy: 0.7916\n",
            "Epoch 32/50\n",
            " - 39s - loss: 0.4872 - accuracy: 0.7898 - val_loss: 0.4810 - val_accuracy: 0.7916\n",
            "Epoch 33/50\n",
            " - 39s - loss: 0.4920 - accuracy: 0.7855 - val_loss: 0.4800 - val_accuracy: 0.7925\n",
            "Epoch 34/50\n",
            " - 39s - loss: 0.4954 - accuracy: 0.7864 - val_loss: 0.4782 - val_accuracy: 0.7933\n",
            "Epoch 35/50\n",
            " - 39s - loss: 0.4934 - accuracy: 0.7867 - val_loss: 0.4778 - val_accuracy: 0.7933\n",
            "Epoch 36/50\n",
            " - 39s - loss: 0.4902 - accuracy: 0.7891 - val_loss: 0.4769 - val_accuracy: 0.7933\n",
            "Epoch 37/50\n",
            " - 39s - loss: 0.4960 - accuracy: 0.7837 - val_loss: 0.4769 - val_accuracy: 0.7942\n",
            "Epoch 38/50\n",
            " - 39s - loss: 0.4831 - accuracy: 0.7889 - val_loss: 0.4764 - val_accuracy: 0.7951\n",
            "Epoch 39/50\n",
            " - 40s - loss: 0.4973 - accuracy: 0.7870 - val_loss: 0.4755 - val_accuracy: 0.7942\n",
            "Epoch 40/50\n",
            " - 39s - loss: 0.4923 - accuracy: 0.7818 - val_loss: 0.4754 - val_accuracy: 0.7925\n",
            "Epoch 41/50\n",
            " - 39s - loss: 0.4833 - accuracy: 0.7965 - val_loss: 0.4753 - val_accuracy: 0.7951\n",
            "Epoch 42/50\n",
            " - 39s - loss: 0.4872 - accuracy: 0.7884 - val_loss: 0.4753 - val_accuracy: 0.7933\n",
            "Epoch 43/50\n",
            " - 39s - loss: 0.4832 - accuracy: 0.7943 - val_loss: 0.4734 - val_accuracy: 0.7933\n",
            "Epoch 44/50\n",
            " - 39s - loss: 0.4870 - accuracy: 0.7904 - val_loss: 0.4742 - val_accuracy: 0.7942\n",
            "Epoch 45/50\n",
            " - 39s - loss: 0.4885 - accuracy: 0.7855 - val_loss: 0.4724 - val_accuracy: 0.7933\n",
            "Epoch 46/50\n",
            " - 39s - loss: 0.4832 - accuracy: 0.7903 - val_loss: 0.4720 - val_accuracy: 0.7925\n",
            "Epoch 47/50\n",
            " - 41s - loss: 0.4915 - accuracy: 0.7883 - val_loss: 0.4728 - val_accuracy: 0.7933\n",
            "Epoch 48/50\n",
            " - 39s - loss: 0.4807 - accuracy: 0.7917 - val_loss: 0.4712 - val_accuracy: 0.7898\n",
            "Epoch 49/50\n",
            " - 40s - loss: 0.4841 - accuracy: 0.7959 - val_loss: 0.4727 - val_accuracy: 0.7942\n",
            "Epoch 50/50\n",
            " - 39s - loss: 0.4798 - accuracy: 0.7938 - val_loss: 0.4730 - val_accuracy: 0.7951\n"
          ],
          "name": "stdout"
        }
      ]
    },
    {
      "cell_type": "code",
      "metadata": {
        "id": "f6_IDspagIic",
        "colab_type": "code",
        "colab": {
          "base_uri": "https://localhost:8080/",
          "height": 404
        },
        "outputId": "1166b534-2726-4a6a-c3ac-64e000ba139e"
      },
      "source": [
        "plt.plot(history.history['accuracy'])\n",
        "plt.plot(history.history['val_accuracy'])\n",
        "plt.title('model accuracy')\n",
        "plt.ylabel('accuracy')\n",
        "plt.xlabel('epoch')\n",
        "plt.legend(['train', 'test'], loc='upper left')\n",
        "plt.show()"
      ],
      "execution_count": 70,
      "outputs": [
        {
          "output_type": "display_data",
          "data": {
            "image/png": "[encoded data removed]",
            "text/plain": [
              "<Figure size 864x432 with 1 Axes>"
            ]
          },
          "metadata": {
            "tags": [],
            "needs_background": "light"
          }
        }
      ]
    },
    {
      "cell_type": "markdown",
      "metadata": {
        "id": "5EYja9RSLOnx",
        "colab_type": "text"
      },
      "source": [
        "## Submission"
      ]
    },
    {
      "cell_type": "code",
      "metadata": {
        "id": "VlEnfZxTLM_q",
        "colab_type": "code",
        "colab": {}
      },
      "source": [
        "sample_sub=pd.read_csv('./sample_submission.csv')"
      ],
      "execution_count": 0,
      "outputs": []
    },
    {
      "cell_type": "code",
      "metadata": {
        "id": "9STbE_3qLQ-w",
        "colab_type": "code",
        "colab": {}
      },
      "source": [
        "y_pre = model.predict(test_data)\n",
        "y_pre = np.round(y_pre).astype(int).reshape(3263)\n",
        "sub = pd.DataFrame({'id':sample_sub['id'].values.tolist(),'target':y_pre})\n",
        "sub.to_csv('submission.csv',index=False)"
      ],
      "execution_count": 0,
      "outputs": []
    },
    {
      "cell_type": "code",
      "metadata": {
        "id": "j_jFWyOELScb",
        "colab_type": "code",
        "colab": {
          "base_uri": "https://localhost:8080/",
          "height": 204
        },
        "outputId": "958c1881-3973-4acf-e0d4-0098c39cfd61"
      },
      "source": [
        "sub.head()"
      ],
      "execution_count": 82,
      "outputs": [
        {
          "output_type": "execute_result",
          "data": {
            "text/html": [
              "<div>\n",
              "<style scoped>\n",
              "    .dataframe tbody tr th:only-of-type {\n",
              "        vertical-align: middle;\n",
              "    }\n",
              "\n",
              "    .dataframe tbody tr th {\n",
              "        vertical-align: top;\n",
              "    }\n",
              "\n",
              "    .dataframe thead th {\n",
              "        text-align: right;\n",
              "    }\n",
              "</style>\n",
              "<table border=\"1\" class=\"dataframe\">\n",
              "  <thead>\n",
              "    <tr style=\"text-align: right;\">\n",
              "      <th></th>\n",
              "      <th>id</th>\n",
              "      <th>target</th>\n",
              "    </tr>\n",
              "  </thead>\n",
              "  <tbody>\n",
              "    <tr>\n",
              "      <th>0</th>\n",
              "      <td>0</td>\n",
              "      <td>1</td>\n",
              "    </tr>\n",
              "    <tr>\n",
              "      <th>1</th>\n",
              "      <td>2</td>\n",
              "      <td>1</td>\n",
              "    </tr>\n",
              "    <tr>\n",
              "      <th>2</th>\n",
              "      <td>3</td>\n",
              "      <td>1</td>\n",
              "    </tr>\n",
              "    <tr>\n",
              "      <th>3</th>\n",
              "      <td>9</td>\n",
              "      <td>1</td>\n",
              "    </tr>\n",
              "    <tr>\n",
              "      <th>4</th>\n",
              "      <td>11</td>\n",
              "      <td>1</td>\n",
              "    </tr>\n",
              "  </tbody>\n",
              "</table>\n",
              "</div>"
            ],
            "text/plain": [
              "   id  target\n",
              "0  0   1     \n",
              "1  2   1     \n",
              "2  3   1     \n",
              "3  9   1     \n",
              "4  11  1     "
            ]
          },
          "metadata": {
            "tags": []
          },
          "execution_count": 82
        }
      ]
    },
    {
      "cell_type": "code",
      "metadata": {
        "id": "MAmCy97Hdamb",
        "colab_type": "code",
        "colab": {}
      },
      "source": [
        "!cp './submission.csv' '/content/gdrive/My Drive/Data Mining Project/GloVe_submission.csv'"
      ],
      "execution_count": 0,
      "outputs": []
    },
    {
      "cell_type": "code",
      "metadata": {
        "id": "9doisXKMoGS5",
        "colab_type": "code",
        "colab": {}
      },
      "source": [
        ""
      ],
      "execution_count": 0,
      "outputs": []
    }
  ]
}