{
  "nbformat": 4,
  "nbformat_minor": 0,
  "metadata": {
    "colab": {
      "name": "Kaggle_NLP_(2)BERT + Keyword",
      "provenance": [],
      "collapsed_sections": []
    },
    "kernelspec": {
      "name": "python3",
      "display_name": "Python 3"
    },
    "accelerator": "GPU"
  },
  "cells": [
    {
      "cell_type": "markdown",
      "metadata": {
        "id": "5QBGuPfG_xic",
        "colab_type": "text"
      },
      "source": [
        "# Setting"
      ]
    },
    {
      "cell_type": "code",
      "metadata": {
        "id": "YFIu6l2P9EaG",
        "colab_type": "code",
        "outputId": "b45762bf-2f15-472e-f084-1c09dfb18a1f",
        "colab": {
          "resources": {
            "http://localhost:8080/nbextensions/google.colab/files.js": {
              "data": "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",
              "ok": true,
              "headers": [
                [
                  "content-type",
                  "application/javascript"
                ]
              ],
              "status": 200,
              "status_text": ""
            }
          },
          "base_uri": "https://localhost:8080/",
          "height": 287
        }
      },
      "source": [
        "!pip install kaggle\n",
        "from google.colab import files\n",
        "files.upload()"
      ],
      "execution_count": 0,
      "outputs": [
        {
          "output_type": "stream",
          "text": [
            "Requirement already satisfied: kaggle in /usr/local/lib/python3.6/dist-packages (1.5.6)\n",
            "Requirement already satisfied: urllib3<1.25,>=1.21.1 in /usr/local/lib/python3.6/dist-packages (from kaggle) (1.24.3)\n",
            "Requirement already satisfied: requests in /usr/local/lib/python3.6/dist-packages (from kaggle) (2.23.0)\n",
            "Requirement already satisfied: six>=1.10 in /usr/local/lib/python3.6/dist-packages (from kaggle) (1.12.0)\n",
            "Requirement already satisfied: tqdm in /usr/local/lib/python3.6/dist-packages (from kaggle) (4.41.1)\n",
            "Requirement already satisfied: python-dateutil in /usr/local/lib/python3.6/dist-packages (from kaggle) (2.8.1)\n",
            "Requirement already satisfied: certifi in /usr/local/lib/python3.6/dist-packages (from kaggle) (2020.4.5.1)\n",
            "Requirement already satisfied: python-slugify in /usr/local/lib/python3.6/dist-packages (from kaggle) (4.0.0)\n",
            "Requirement already satisfied: chardet<4,>=3.0.2 in /usr/local/lib/python3.6/dist-packages (from requests->kaggle) (3.0.4)\n",
            "Requirement already satisfied: idna<3,>=2.5 in /usr/local/lib/python3.6/dist-packages (from requests->kaggle) (2.9)\n",
            "Requirement already satisfied: text-unidecode>=1.3 in /usr/local/lib/python3.6/dist-packages (from python-slugify->kaggle) (1.3)\n"
          ],
          "name": "stdout"
        },
        {
          "output_type": "display_data",
          "data": {
            "text/html": [
              "\n",
              "     <input type=\"file\" id=\"files-a5f5abb0-9ee5-4529-87bc-f5add473589c\" name=\"files[]\" multiple disabled />\n",
              "     <output id=\"result-a5f5abb0-9ee5-4529-87bc-f5add473589c\">\n",
              "      Upload widget is only available when the cell has been executed in the\n",
              "      current browser session. Please rerun this cell to enable.\n",
              "      </output>\n",
              "      <script src=\"/nbextensions/google.colab/files.js\"></script> "
            ],
            "text/plain": [
              "<IPython.core.display.HTML object>"
            ]
          },
          "metadata": {
            "tags": []
          }
        },
        {
          "output_type": "stream",
          "text": [
            "Saving kaggle.json to kaggle.json\n"
          ],
          "name": "stdout"
        },
        {
          "output_type": "execute_result",
          "data": {
            "text/plain": [
              "{'kaggle.json': b'{\"username\":\"young917\",\"key\":\"38554d8ee11a16273014fb43b7fdc0a1\"}'}"
            ]
          },
          "metadata": {
            "tags": []
          },
          "execution_count": 3
        }
      ]
    },
    {
      "cell_type": "code",
      "metadata": {
        "id": "nrwHcSzt-JoR",
        "colab_type": "code",
        "outputId": "f85bd18a-0466-4748-f39a-f5919100aebd",
        "colab": {
          "base_uri": "https://localhost:8080/",
          "height": 34
        }
      },
      "source": [
        "%ls -1ha kaggle.json"
      ],
      "execution_count": 0,
      "outputs": [
        {
          "output_type": "stream",
          "text": [
            "kaggle.json\n"
          ],
          "name": "stdout"
        }
      ]
    },
    {
      "cell_type": "code",
      "metadata": {
        "id": "c7YFa6U8-QCz",
        "colab_type": "code",
        "outputId": "7a503f71-9239-4a2d-8eeb-4ac5e382c51f",
        "colab": {
          "base_uri": "https://localhost:8080/",
          "height": 419
        }
      },
      "source": [
        "!mkdir -p ~/.kaggle\n",
        "!cp kaggle.json ~/.kaggle/\n",
        "# Permission Warning 이 일어나지 않도록 \n",
        "!chmod 600 ~/.kaggle/kaggle.json\n",
        "# 본인이 참가한 모든 대회 보기 \n",
        "!kaggle competitions list"
      ],
      "execution_count": 0,
      "outputs": [
        {
          "output_type": "stream",
          "text": [
            "Warning: Looks like you're using an outdated API Version, please consider updating (server 1.5.6 / client 1.5.4)\n",
            "ref                                               deadline             category            reward  teamCount  userHasEntered  \n",
            "------------------------------------------------  -------------------  ---------------  ---------  ---------  --------------  \n",
            "digit-recognizer                                  2030-01-01 00:00:00  Getting Started  Knowledge       3198           False  \n",
            "titanic                                           2030-01-01 00:00:00  Getting Started  Knowledge      23092           False  \n",
            "house-prices-advanced-regression-techniques       2030-01-01 00:00:00  Getting Started  Knowledge       5286            True  \n",
            "connectx                                          2030-01-01 00:00:00  Getting Started  Knowledge        394           False  \n",
            "nlp-getting-started                               2030-01-01 00:00:00  Getting Started      Kudos       1670            True  \n",
            "competitive-data-science-predict-future-sales     2020-12-31 23:59:00  Playground           Kudos       7112           False  \n",
            "siim-isic-melanoma-classification                 2020-08-17 23:59:00  Featured           $30,000        352           False  \n",
            "global-wheat-detection                            2020-08-04 23:59:00  Research           $15,000        625           False  \n",
            "open-images-object-detection-rvc-2020             2020-07-31 16:00:00  Playground       Knowledge         15           False  \n",
            "open-images-instance-segmentation-rvc-2020        2020-07-31 16:00:00  Playground       Knowledge          3           False  \n",
            "hashcode-photo-slideshow                          2020-07-27 23:59:00  Playground       Knowledge         33           False  \n",
            "prostate-cancer-grade-assessment                  2020-07-22 23:59:00  Featured           $25,000        493           False  \n",
            "alaska2-image-steganalysis                        2020-07-20 23:59:00  Research           $25,000        426           False  \n",
            "halite                                            2020-06-30 23:59:00  Featured             Kudos          0           False  \n",
            "m5-forecasting-accuracy                           2020-06-30 23:59:00  Featured           $50,000       4566            True  \n",
            "m5-forecasting-uncertainty                        2020-06-30 23:59:00  Featured           $50,000        538           False  \n",
            "trends-assessment-prediction                      2020-06-29 23:59:00  Research           $25,000        532           False  \n",
            "jigsaw-multilingual-toxic-comment-classification  2020-06-22 23:59:00  Featured           $50,000       1175           False  \n",
            "tweet-sentiment-extraction                        2020-06-16 23:59:00  Featured           $15,000       1662           False  \n",
            "trec-covid-information-retrieval                  2020-06-03 11:00:00  Research             Kudos         11           False  \n"
          ],
          "name": "stdout"
        }
      ]
    },
    {
      "cell_type": "code",
      "metadata": {
        "id": "br7qO0LD9IPV",
        "colab_type": "code",
        "outputId": "c1e104b5-2812-4038-f85f-9557a36fe809",
        "colab": {
          "base_uri": "https://localhost:8080/",
          "height": 192
        }
      },
      "source": [
        "!kaggle competitions download -c nlp-getting-started"
      ],
      "execution_count": 0,
      "outputs": [
        {
          "output_type": "stream",
          "text": [
            "Warning: Looks like you're using an outdated API Version, please consider updating (server 1.5.6 / client 1.5.4)\n",
            "Downloading train.csv to /content\n",
            "  0% 0.00/965k [00:00<?, ?B/s]\n",
            "100% 965k/965k [00:00<00:00, 60.5MB/s]\n",
            "Downloading sample_submission.csv to /content\n",
            "  0% 0.00/22.2k [00:00<?, ?B/s]\n",
            "100% 22.2k/22.2k [00:00<00:00, 19.5MB/s]\n",
            "Downloading test.csv to /content\n",
            "  0% 0.00/411k [00:00<?, ?B/s]\n",
            "100% 411k/411k [00:00<00:00, 98.7MB/s]\n"
          ],
          "name": "stdout"
        }
      ]
    },
    {
      "cell_type": "code",
      "metadata": {
        "id": "c0DMEAb57omT",
        "colab_type": "code",
        "outputId": "23872fab-3431-4048-fcfe-1232a9195d26",
        "colab": {
          "base_uri": "https://localhost:8080/",
          "height": 124
        }
      },
      "source": [
        "from google.colab import drive\n",
        "drive.mount('/content/gdrive/')"
      ],
      "execution_count": 0,
      "outputs": [
        {
          "output_type": "stream",
          "text": [
            "Go to this URL in a browser: https://accounts.google.com/o/oauth2/auth?client_id=947318989803-6bn6qk8qdgf4n4g3pfee6491hc0brc4i.apps.googleusercontent.com&redirect_uri=urn%3aietf%3awg%3aoauth%3a2.0%3aoob&response_type=code&scope=email%20https%3a%2f%2fwww.googleapis.com%2fauth%2fdocs.test%20https%3a%2f%2fwww.googleapis.com%2fauth%2fdrive%20https%3a%2f%2fwww.googleapis.com%2fauth%2fdrive.photos.readonly%20https%3a%2f%2fwww.googleapis.com%2fauth%2fpeopleapi.readonly\n",
            "\n",
            "Enter your authorization code:\n",
            "··········\n",
            "Mounted at /content/gdrive/\n"
          ],
          "name": "stdout"
        }
      ]
    },
    {
      "cell_type": "markdown",
      "metadata": {
        "id": "yXNDtGV1_w3D",
        "colab_type": "text"
      },
      "source": [
        "# **Data Load**"
      ]
    },
    {
      "cell_type": "code",
      "metadata": {
        "id": "0n6xS_rk_A51",
        "colab_type": "code",
        "outputId": "38bdae64-2045-414e-f323-424181354234",
        "colab": {
          "base_uri": "https://localhost:8080/",
          "height": 107
        }
      },
      "source": [
        "import pandas as pd\n",
        "import numpy as np\n",
        "import matplotlib.pyplot as plt\n",
        "import seaborn as sns\n",
        "%matplotlib inline\n",
        "pd.set_option('display.max_colwidth', -1)\n",
        "pd.set_option('display.max_rows', 200)\n",
        "import spacy\n",
        "\n",
        "plt.rcParams[\"figure.figsize\"] = (15,5)"
      ],
      "execution_count": 0,
      "outputs": [
        {
          "output_type": "stream",
          "text": [
            "/usr/local/lib/python3.6/dist-packages/statsmodels/tools/_testing.py:19: FutureWarning: pandas.util.testing is deprecated. Use the functions in the public API at pandas.testing instead.\n",
            "  import pandas.util.testing as tm\n",
            "/usr/local/lib/python3.6/dist-packages/ipykernel_launcher.py:6: FutureWarning: Passing a negative integer is deprecated in version 1.0 and will not be supported in future version. Instead, use None to not limit the column width.\n",
            "  \n"
          ],
          "name": "stderr"
        }
      ]
    },
    {
      "cell_type": "code",
      "metadata": {
        "id": "6ztVF01h_SWH",
        "colab_type": "code",
        "outputId": "8274cd97-a917-41b6-c884-399701585ff0",
        "colab": {
          "base_uri": "https://localhost:8080/",
          "height": 262
        }
      },
      "source": [
        "train = pd.read_csv('./train.csv')\n",
        "test = pd.read_csv('./test.csv')\n",
        "print(test)"
      ],
      "execution_count": 0,
      "outputs": [
        {
          "output_type": "stream",
          "text": [
            "         id  ...                                                                                                                                         text\n",
            "0     0      ...  Just happened a terrible car crash                                                                                                         \n",
            "1     2      ...  Heard about #earthquake is different cities, stay safe everyone.                                                                           \n",
            "2     3      ...  there is a forest fire at spot pond, geese are fleeing across the street, I cannot save them all                                           \n",
            "3     9      ...  Apocalypse lighting. #Spokane #wildfires                                                                                                   \n",
            "4     11     ...  Typhoon Soudelor kills 28 in China and Taiwan                                                                                              \n",
            "...   ..     ...                                            ...                                                                                              \n",
            "3258  10861  ...  EARTHQUAKE SAFETY LOS ANGELES ÛÒ SAFETY FASTENERS XrWn                                                                                    \n",
            "3259  10865  ...  Storm in RI worse than last hurricane. My city&amp;3others hardest hit. My yard looks like it was bombed. Around 20000K still without power\n",
            "3260  10868  ...  Green Line derailment in Chicago http://t.co/UtbXLcBIuY                                                                                    \n",
            "3261  10874  ...  MEG issues Hazardous Weather Outlook (HWO) http://t.co/3X6RBQJHn3                                                                          \n",
            "3262  10875  ...  #CityofCalgary has activated its Municipal Emergency Plan. #yycstorm                                                                       \n",
            "\n",
            "[3263 rows x 4 columns]\n"
          ],
          "name": "stdout"
        }
      ]
    },
    {
      "cell_type": "markdown",
      "metadata": {
        "id": "XvSzKafjONiT",
        "colab_type": "text"
      },
      "source": [
        "### final_text : keyword + text"
      ]
    },
    {
      "cell_type": "code",
      "metadata": {
        "id": "RNU3afkKN48g",
        "colab_type": "code",
        "colab": {}
      },
      "source": [
        "train['keyword'].fillna('', inplace=True)\n",
        "train['final_text'] = train['keyword'] + ' ' + train['text'] \n",
        "test['keyword'].fillna('', inplace=True)\n",
        "test['final_text'] = test['keyword'] + ' ' + test['text'] "
      ],
      "execution_count": 0,
      "outputs": []
    },
    {
      "cell_type": "code",
      "metadata": {
        "id": "x_IlrgSzN8KJ",
        "colab_type": "code",
        "outputId": "f7b2dd72-71fe-40cf-aaf9-55e64fa137bf",
        "colab": {
          "base_uri": "https://localhost:8080/",
          "height": 1000
        }
      },
      "source": [
        "train.head(100)"
      ],
      "execution_count": 0,
      "outputs": [
        {
          "output_type": "execute_result",
          "data": {
            "text/html": [
              "<div>\n",
              "<style scoped>\n",
              "    .dataframe tbody tr th:only-of-type {\n",
              "        vertical-align: middle;\n",
              "    }\n",
              "\n",
              "    .dataframe tbody tr th {\n",
              "        vertical-align: top;\n",
              "    }\n",
              "\n",
              "    .dataframe thead th {\n",
              "        text-align: right;\n",
              "    }\n",
              "</style>\n",
              "<table border=\"1\" class=\"dataframe\">\n",
              "  <thead>\n",
              "    <tr style=\"text-align: right;\">\n",
              "      <th></th>\n",
              "      <th>id</th>\n",
              "      <th>keyword</th>\n",
              "      <th>location</th>\n",
              "      <th>text</th>\n",
              "      <th>target</th>\n",
              "      <th>final_text</th>\n",
              "    </tr>\n",
              "  </thead>\n",
              "  <tbody>\n",
              "    <tr>\n",
              "      <th>0</th>\n",
              "      <td>1</td>\n",
              "      <td></td>\n",
              "      <td>NaN</td>\n",
              "      <td>Our Deeds are the Reason of this #earthquake May ALLAH Forgive us all</td>\n",
              "      <td>1</td>\n",
              "      <td>Our Deeds are the Reason of this #earthquake May ALLAH Forgive us all</td>\n",
              "    </tr>\n",
              "    <tr>\n",
              "      <th>1</th>\n",
              "      <td>4</td>\n",
              "      <td></td>\n",
              "      <td>NaN</td>\n",
              "      <td>Forest fire near La Ronge Sask. Canada</td>\n",
              "      <td>1</td>\n",
              "      <td>Forest fire near La Ronge Sask. Canada</td>\n",
              "    </tr>\n",
              "    <tr>\n",
              "      <th>2</th>\n",
              "      <td>5</td>\n",
              "      <td></td>\n",
              "      <td>NaN</td>\n",
              "      <td>All residents asked to 'shelter in place' are being notified by officers. No other evacuation or shelter in place orders are expected</td>\n",
              "      <td>1</td>\n",
              "      <td>All residents asked to 'shelter in place' are being notified by officers. No other evacuation or shelter in place orders are expected</td>\n",
              "    </tr>\n",
              "    <tr>\n",
              "      <th>3</th>\n",
              "      <td>6</td>\n",
              "      <td></td>\n",
              "      <td>NaN</td>\n",
              "      <td>13,000 people receive #wildfires evacuation orders in California</td>\n",
              "      <td>1</td>\n",
              "      <td>13,000 people receive #wildfires evacuation orders in California</td>\n",
              "    </tr>\n",
              "    <tr>\n",
              "      <th>4</th>\n",
              "      <td>7</td>\n",
              "      <td></td>\n",
              "      <td>NaN</td>\n",
              "      <td>Just got sent this photo from Ruby #Alaska as smoke from #wildfires pours into a school</td>\n",
              "      <td>1</td>\n",
              "      <td>Just got sent this photo from Ruby #Alaska as smoke from #wildfires pours into a school</td>\n",
              "    </tr>\n",
              "    <tr>\n",
              "      <th>5</th>\n",
              "      <td>8</td>\n",
              "      <td></td>\n",
              "      <td>NaN</td>\n",
              "      <td>#RockyFire Update =&gt; California Hwy. 20 closed in both directions due to Lake County fire - #CAfire #wildfires</td>\n",
              "      <td>1</td>\n",
              "      <td>#RockyFire Update =&gt; California Hwy. 20 closed in both directions due to Lake County fire - #CAfire #wildfires</td>\n",
              "    </tr>\n",
              "    <tr>\n",
              "      <th>6</th>\n",
              "      <td>10</td>\n",
              "      <td></td>\n",
              "      <td>NaN</td>\n",
              "      <td>#flood #disaster Heavy rain causes flash flooding of streets in Manitou, Colorado Springs areas</td>\n",
              "      <td>1</td>\n",
              "      <td>#flood #disaster Heavy rain causes flash flooding of streets in Manitou, Colorado Springs areas</td>\n",
              "    </tr>\n",
              "    <tr>\n",
              "      <th>7</th>\n",
              "      <td>13</td>\n",
              "      <td></td>\n",
              "      <td>NaN</td>\n",
              "      <td>I'm on top of the hill and I can see a fire in the woods...</td>\n",
              "      <td>1</td>\n",
              "      <td>I'm on top of the hill and I can see a fire in the woods...</td>\n",
              "    </tr>\n",
              "    <tr>\n",
              "      <th>8</th>\n",
              "      <td>14</td>\n",
              "      <td></td>\n",
              "      <td>NaN</td>\n",
              "      <td>There's an emergency evacuation happening now in the building across the street</td>\n",
              "      <td>1</td>\n",
              "      <td>There's an emergency evacuation happening now in the building across the street</td>\n",
              "    </tr>\n",
              "    <tr>\n",
              "      <th>9</th>\n",
              "      <td>15</td>\n",
              "      <td></td>\n",
              "      <td>NaN</td>\n",
              "      <td>I'm afraid that the tornado is coming to our area...</td>\n",
              "      <td>1</td>\n",
              "      <td>I'm afraid that the tornado is coming to our area...</td>\n",
              "    </tr>\n",
              "    <tr>\n",
              "      <th>10</th>\n",
              "      <td>16</td>\n",
              "      <td></td>\n",
              "      <td>NaN</td>\n",
              "      <td>Three people died from the heat wave so far</td>\n",
              "      <td>1</td>\n",
              "      <td>Three people died from the heat wave so far</td>\n",
              "    </tr>\n",
              "    <tr>\n",
              "      <th>11</th>\n",
              "      <td>17</td>\n",
              "      <td></td>\n",
              "      <td>NaN</td>\n",
              "      <td>Haha South Tampa is getting flooded hah- WAIT A SECOND I LIVE IN SOUTH TAMPA WHAT AM I GONNA DO WHAT AM I GONNA DO FVCK #flooding</td>\n",
              "      <td>1</td>\n",
              "      <td>Haha South Tampa is getting flooded hah- WAIT A SECOND I LIVE IN SOUTH TAMPA WHAT AM I GONNA DO WHAT AM I GONNA DO FVCK #flooding</td>\n",
              "    </tr>\n",
              "    <tr>\n",
              "      <th>12</th>\n",
              "      <td>18</td>\n",
              "      <td></td>\n",
              "      <td>NaN</td>\n",
              "      <td>#raining #flooding #Florida #TampaBay #Tampa 18 or 19 days. I've lost count</td>\n",
              "      <td>1</td>\n",
              "      <td>#raining #flooding #Florida #TampaBay #Tampa 18 or 19 days. I've lost count</td>\n",
              "    </tr>\n",
              "    <tr>\n",
              "      <th>13</th>\n",
              "      <td>19</td>\n",
              "      <td></td>\n",
              "      <td>NaN</td>\n",
              "      <td>#Flood in Bago Myanmar #We arrived Bago</td>\n",
              "      <td>1</td>\n",
              "      <td>#Flood in Bago Myanmar #We arrived Bago</td>\n",
              "    </tr>\n",
              "    <tr>\n",
              "      <th>14</th>\n",
              "      <td>20</td>\n",
              "      <td></td>\n",
              "      <td>NaN</td>\n",
              "      <td>Damage to school bus on 80 in multi car crash #BREAKING</td>\n",
              "      <td>1</td>\n",
              "      <td>Damage to school bus on 80 in multi car crash #BREAKING</td>\n",
              "    </tr>\n",
              "    <tr>\n",
              "      <th>15</th>\n",
              "      <td>23</td>\n",
              "      <td></td>\n",
              "      <td>NaN</td>\n",
              "      <td>What's up man?</td>\n",
              "      <td>0</td>\n",
              "      <td>What's up man?</td>\n",
              "    </tr>\n",
              "    <tr>\n",
              "      <th>16</th>\n",
              "      <td>24</td>\n",
              "      <td></td>\n",
              "      <td>NaN</td>\n",
              "      <td>I love fruits</td>\n",
              "      <td>0</td>\n",
              "      <td>I love fruits</td>\n",
              "    </tr>\n",
              "    <tr>\n",
              "      <th>17</th>\n",
              "      <td>25</td>\n",
              "      <td></td>\n",
              "      <td>NaN</td>\n",
              "      <td>Summer is lovely</td>\n",
              "      <td>0</td>\n",
              "      <td>Summer is lovely</td>\n",
              "    </tr>\n",
              "    <tr>\n",
              "      <th>18</th>\n",
              "      <td>26</td>\n",
              "      <td></td>\n",
              "      <td>NaN</td>\n",
              "      <td>My car is so fast</td>\n",
              "      <td>0</td>\n",
              "      <td>My car is so fast</td>\n",
              "    </tr>\n",
              "    <tr>\n",
              "      <th>19</th>\n",
              "      <td>28</td>\n",
              "      <td></td>\n",
              "      <td>NaN</td>\n",
              "      <td>What a goooooooaaaaaal!!!!!!</td>\n",
              "      <td>0</td>\n",
              "      <td>What a goooooooaaaaaal!!!!!!</td>\n",
              "    </tr>\n",
              "    <tr>\n",
              "      <th>20</th>\n",
              "      <td>31</td>\n",
              "      <td></td>\n",
              "      <td>NaN</td>\n",
              "      <td>this is ridiculous....</td>\n",
              "      <td>0</td>\n",
              "      <td>this is ridiculous....</td>\n",
              "    </tr>\n",
              "    <tr>\n",
              "      <th>21</th>\n",
              "      <td>32</td>\n",
              "      <td></td>\n",
              "      <td>NaN</td>\n",
              "      <td>London is cool ;)</td>\n",
              "      <td>0</td>\n",
              "      <td>London is cool ;)</td>\n",
              "    </tr>\n",
              "    <tr>\n",
              "      <th>22</th>\n",
              "      <td>33</td>\n",
              "      <td></td>\n",
              "      <td>NaN</td>\n",
              "      <td>Love skiing</td>\n",
              "      <td>0</td>\n",
              "      <td>Love skiing</td>\n",
              "    </tr>\n",
              "    <tr>\n",
              "      <th>23</th>\n",
              "      <td>34</td>\n",
              "      <td></td>\n",
              "      <td>NaN</td>\n",
              "      <td>What a wonderful day!</td>\n",
              "      <td>0</td>\n",
              "      <td>What a wonderful day!</td>\n",
              "    </tr>\n",
              "    <tr>\n",
              "      <th>24</th>\n",
              "      <td>36</td>\n",
              "      <td></td>\n",
              "      <td>NaN</td>\n",
              "      <td>LOOOOOOL</td>\n",
              "      <td>0</td>\n",
              "      <td>LOOOOOOL</td>\n",
              "    </tr>\n",
              "    <tr>\n",
              "      <th>25</th>\n",
              "      <td>37</td>\n",
              "      <td></td>\n",
              "      <td>NaN</td>\n",
              "      <td>No way...I can't eat that shit</td>\n",
              "      <td>0</td>\n",
              "      <td>No way...I can't eat that shit</td>\n",
              "    </tr>\n",
              "    <tr>\n",
              "      <th>26</th>\n",
              "      <td>38</td>\n",
              "      <td></td>\n",
              "      <td>NaN</td>\n",
              "      <td>Was in NYC last week!</td>\n",
              "      <td>0</td>\n",
              "      <td>Was in NYC last week!</td>\n",
              "    </tr>\n",
              "    <tr>\n",
              "      <th>27</th>\n",
              "      <td>39</td>\n",
              "      <td></td>\n",
              "      <td>NaN</td>\n",
              "      <td>Love my girlfriend</td>\n",
              "      <td>0</td>\n",
              "      <td>Love my girlfriend</td>\n",
              "    </tr>\n",
              "    <tr>\n",
              "      <th>28</th>\n",
              "      <td>40</td>\n",
              "      <td></td>\n",
              "      <td>NaN</td>\n",
              "      <td>Cooool :)</td>\n",
              "      <td>0</td>\n",
              "      <td>Cooool :)</td>\n",
              "    </tr>\n",
              "    <tr>\n",
              "      <th>29</th>\n",
              "      <td>41</td>\n",
              "      <td></td>\n",
              "      <td>NaN</td>\n",
              "      <td>Do you like pasta?</td>\n",
              "      <td>0</td>\n",
              "      <td>Do you like pasta?</td>\n",
              "    </tr>\n",
              "    <tr>\n",
              "      <th>30</th>\n",
              "      <td>44</td>\n",
              "      <td></td>\n",
              "      <td>NaN</td>\n",
              "      <td>The end!</td>\n",
              "      <td>0</td>\n",
              "      <td>The end!</td>\n",
              "    </tr>\n",
              "    <tr>\n",
              "      <th>31</th>\n",
              "      <td>48</td>\n",
              "      <td>ablaze</td>\n",
              "      <td>Birmingham</td>\n",
              "      <td>@bbcmtd Wholesale Markets ablaze http://t.co/lHYXEOHY6C</td>\n",
              "      <td>1</td>\n",
              "      <td>ablaze @bbcmtd Wholesale Markets ablaze http://t.co/lHYXEOHY6C</td>\n",
              "    </tr>\n",
              "    <tr>\n",
              "      <th>32</th>\n",
              "      <td>49</td>\n",
              "      <td>ablaze</td>\n",
              "      <td>Est. September 2012 - Bristol</td>\n",
              "      <td>We always try to bring the heavy. #metal #RT http://t.co/YAo1e0xngw</td>\n",
              "      <td>0</td>\n",
              "      <td>ablaze We always try to bring the heavy. #metal #RT http://t.co/YAo1e0xngw</td>\n",
              "    </tr>\n",
              "    <tr>\n",
              "      <th>33</th>\n",
              "      <td>50</td>\n",
              "      <td>ablaze</td>\n",
              "      <td>AFRICA</td>\n",
              "      <td>#AFRICANBAZE: Breaking news:Nigeria flag set ablaze in Aba. http://t.co/2nndBGwyEi</td>\n",
              "      <td>1</td>\n",
              "      <td>ablaze #AFRICANBAZE: Breaking news:Nigeria flag set ablaze in Aba. http://t.co/2nndBGwyEi</td>\n",
              "    </tr>\n",
              "    <tr>\n",
              "      <th>34</th>\n",
              "      <td>52</td>\n",
              "      <td>ablaze</td>\n",
              "      <td>Philadelphia, PA</td>\n",
              "      <td>Crying out for more! Set me ablaze</td>\n",
              "      <td>0</td>\n",
              "      <td>ablaze Crying out for more! Set me ablaze</td>\n",
              "    </tr>\n",
              "    <tr>\n",
              "      <th>35</th>\n",
              "      <td>53</td>\n",
              "      <td>ablaze</td>\n",
              "      <td>London, UK</td>\n",
              "      <td>On plus side LOOK AT THE SKY LAST NIGHT IT WAS ABLAZE http://t.co/qqsmshaJ3N</td>\n",
              "      <td>0</td>\n",
              "      <td>ablaze On plus side LOOK AT THE SKY LAST NIGHT IT WAS ABLAZE http://t.co/qqsmshaJ3N</td>\n",
              "    </tr>\n",
              "    <tr>\n",
              "      <th>36</th>\n",
              "      <td>54</td>\n",
              "      <td>ablaze</td>\n",
              "      <td>Pretoria</td>\n",
              "      <td>@PhDSquares #mufc they've built so much hype around new acquisitions but I doubt they will set the EPL ablaze this season.</td>\n",
              "      <td>0</td>\n",
              "      <td>ablaze @PhDSquares #mufc they've built so much hype around new acquisitions but I doubt they will set the EPL ablaze this season.</td>\n",
              "    </tr>\n",
              "    <tr>\n",
              "      <th>37</th>\n",
              "      <td>55</td>\n",
              "      <td>ablaze</td>\n",
              "      <td>World Wide!!</td>\n",
              "      <td>INEC Office in Abia Set Ablaze - http://t.co/3ImaomknnA</td>\n",
              "      <td>1</td>\n",
              "      <td>ablaze INEC Office in Abia Set Ablaze - http://t.co/3ImaomknnA</td>\n",
              "    </tr>\n",
              "    <tr>\n",
              "      <th>38</th>\n",
              "      <td>56</td>\n",
              "      <td>ablaze</td>\n",
              "      <td>NaN</td>\n",
              "      <td>Barbados #Bridgetown JAMAICA ÛÒ Two cars set ablaze: SANTA CRUZ ÛÓ Head of the St Elizabeth Police Superintende...  http://t.co/wDUEaj8Q4J</td>\n",
              "      <td>1</td>\n",
              "      <td>ablaze Barbados #Bridgetown JAMAICA ÛÒ Two cars set ablaze: SANTA CRUZ ÛÓ Head of the St Elizabeth Police Superintende...  http://t.co/wDUEaj8Q4J</td>\n",
              "    </tr>\n",
              "    <tr>\n",
              "      <th>39</th>\n",
              "      <td>57</td>\n",
              "      <td>ablaze</td>\n",
              "      <td>Paranaque City</td>\n",
              "      <td>Ablaze for you Lord :D</td>\n",
              "      <td>0</td>\n",
              "      <td>ablaze Ablaze for you Lord :D</td>\n",
              "    </tr>\n",
              "    <tr>\n",
              "      <th>40</th>\n",
              "      <td>59</td>\n",
              "      <td>ablaze</td>\n",
              "      <td>Live On Webcam</td>\n",
              "      <td>Check these out: http://t.co/rOI2NSmEJJ http://t.co/3Tj8ZjiN21 http://t.co/YDUiXEfIpE http://t.co/LxTjc87KLS #nsfw</td>\n",
              "      <td>0</td>\n",
              "      <td>ablaze Check these out: http://t.co/rOI2NSmEJJ http://t.co/3Tj8ZjiN21 http://t.co/YDUiXEfIpE http://t.co/LxTjc87KLS #nsfw</td>\n",
              "    </tr>\n",
              "    <tr>\n",
              "      <th>41</th>\n",
              "      <td>61</td>\n",
              "      <td>ablaze</td>\n",
              "      <td>NaN</td>\n",
              "      <td>on the outside you're ablaze and alive\\nbut you're dead inside</td>\n",
              "      <td>0</td>\n",
              "      <td>ablaze on the outside you're ablaze and alive\\nbut you're dead inside</td>\n",
              "    </tr>\n",
              "    <tr>\n",
              "      <th>42</th>\n",
              "      <td>62</td>\n",
              "      <td>ablaze</td>\n",
              "      <td>milky way</td>\n",
              "      <td>Had an awesome time visiting the CFC head office the ancop site and ablaze. Thanks to Tita Vida for taking care of us ??</td>\n",
              "      <td>0</td>\n",
              "      <td>ablaze Had an awesome time visiting the CFC head office the ancop site and ablaze. Thanks to Tita Vida for taking care of us ??</td>\n",
              "    </tr>\n",
              "    <tr>\n",
              "      <th>43</th>\n",
              "      <td>63</td>\n",
              "      <td>ablaze</td>\n",
              "      <td>NaN</td>\n",
              "      <td>SOOOO PUMPED FOR ABLAZE ???? @southridgelife</td>\n",
              "      <td>0</td>\n",
              "      <td>ablaze SOOOO PUMPED FOR ABLAZE ???? @southridgelife</td>\n",
              "    </tr>\n",
              "    <tr>\n",
              "      <th>44</th>\n",
              "      <td>64</td>\n",
              "      <td>ablaze</td>\n",
              "      <td>NaN</td>\n",
              "      <td>I wanted to set Chicago ablaze with my preaching... But not my hotel! http://t.co/o9qknbfOFX</td>\n",
              "      <td>0</td>\n",
              "      <td>ablaze I wanted to set Chicago ablaze with my preaching... But not my hotel! http://t.co/o9qknbfOFX</td>\n",
              "    </tr>\n",
              "    <tr>\n",
              "      <th>45</th>\n",
              "      <td>65</td>\n",
              "      <td>ablaze</td>\n",
              "      <td>NaN</td>\n",
              "      <td>I gained 3 followers in the last week. You? Know your stats and grow with http://t.co/TIyUliF5c6</td>\n",
              "      <td>0</td>\n",
              "      <td>ablaze I gained 3 followers in the last week. You? Know your stats and grow with http://t.co/TIyUliF5c6</td>\n",
              "    </tr>\n",
              "    <tr>\n",
              "      <th>46</th>\n",
              "      <td>66</td>\n",
              "      <td>ablaze</td>\n",
              "      <td>GREENSBORO,NORTH CAROLINA</td>\n",
              "      <td>How the West was burned: Thousands of wildfires ablaze in California alone http://t.co/vl5TBR3wbr</td>\n",
              "      <td>1</td>\n",
              "      <td>ablaze How the West was burned: Thousands of wildfires ablaze in California alone http://t.co/vl5TBR3wbr</td>\n",
              "    </tr>\n",
              "    <tr>\n",
              "      <th>47</th>\n",
              "      <td>67</td>\n",
              "      <td>ablaze</td>\n",
              "      <td>NaN</td>\n",
              "      <td>Building the perfect tracklist to life leave the streets ablaze</td>\n",
              "      <td>0</td>\n",
              "      <td>ablaze Building the perfect tracklist to life leave the streets ablaze</td>\n",
              "    </tr>\n",
              "    <tr>\n",
              "      <th>48</th>\n",
              "      <td>68</td>\n",
              "      <td>ablaze</td>\n",
              "      <td>Live On Webcam</td>\n",
              "      <td>Check these out: http://t.co/rOI2NSmEJJ http://t.co/3Tj8ZjiN21 http://t.co/YDUiXEfIpE http://t.co/LxTjc87KLS #nsfw</td>\n",
              "      <td>0</td>\n",
              "      <td>ablaze Check these out: http://t.co/rOI2NSmEJJ http://t.co/3Tj8ZjiN21 http://t.co/YDUiXEfIpE http://t.co/LxTjc87KLS #nsfw</td>\n",
              "    </tr>\n",
              "    <tr>\n",
              "      <th>49</th>\n",
              "      <td>71</td>\n",
              "      <td>ablaze</td>\n",
              "      <td>England.</td>\n",
              "      <td>First night with retainers in. It's quite weird. Better get used to it; I have to wear them every single night for the next year at least.</td>\n",
              "      <td>0</td>\n",
              "      <td>ablaze First night with retainers in. It's quite weird. Better get used to it; I have to wear them every single night for the next year at least.</td>\n",
              "    </tr>\n",
              "    <tr>\n",
              "      <th>50</th>\n",
              "      <td>73</td>\n",
              "      <td>ablaze</td>\n",
              "      <td>Sheffield Township, Ohio</td>\n",
              "      <td>Deputies: Man shot before Brighton home set ablaze http://t.co/gWNRhMSO8k</td>\n",
              "      <td>1</td>\n",
              "      <td>ablaze Deputies: Man shot before Brighton home set ablaze http://t.co/gWNRhMSO8k</td>\n",
              "    </tr>\n",
              "    <tr>\n",
              "      <th>51</th>\n",
              "      <td>74</td>\n",
              "      <td>ablaze</td>\n",
              "      <td>India</td>\n",
              "      <td>Man wife get six years jail for setting ablaze niece\\nhttp://t.co/eV1ahOUCZA</td>\n",
              "      <td>1</td>\n",
              "      <td>ablaze Man wife get six years jail for setting ablaze niece\\nhttp://t.co/eV1ahOUCZA</td>\n",
              "    </tr>\n",
              "    <tr>\n",
              "      <th>52</th>\n",
              "      <td>76</td>\n",
              "      <td>ablaze</td>\n",
              "      <td>Barbados</td>\n",
              "      <td>SANTA CRUZ ÛÓ Head of the St Elizabeth Police Superintendent Lanford Salmon has r ... - http://t.co/vplR5Hka2u http://t.co/SxHW2TNNLf</td>\n",
              "      <td>0</td>\n",
              "      <td>ablaze SANTA CRUZ ÛÓ Head of the St Elizabeth Police Superintendent Lanford Salmon has r ... - http://t.co/vplR5Hka2u http://t.co/SxHW2TNNLf</td>\n",
              "    </tr>\n",
              "    <tr>\n",
              "      <th>53</th>\n",
              "      <td>77</td>\n",
              "      <td>ablaze</td>\n",
              "      <td>Anaheim</td>\n",
              "      <td>Police: Arsonist Deliberately Set Black Church In North CarolinaåÊAblaze http://t.co/pcXarbH9An</td>\n",
              "      <td>1</td>\n",
              "      <td>ablaze Police: Arsonist Deliberately Set Black Church In North CarolinaåÊAblaze http://t.co/pcXarbH9An</td>\n",
              "    </tr>\n",
              "    <tr>\n",
              "      <th>54</th>\n",
              "      <td>78</td>\n",
              "      <td>ablaze</td>\n",
              "      <td>Abuja</td>\n",
              "      <td>Noches El-Bestia '@Alexis_Sanchez: happy to see my teammates and training hard ?? goodnight gunners.?????? http://t.co/uc4j4jHvGR'</td>\n",
              "      <td>0</td>\n",
              "      <td>ablaze Noches El-Bestia '@Alexis_Sanchez: happy to see my teammates and training hard ?? goodnight gunners.?????? http://t.co/uc4j4jHvGR'</td>\n",
              "    </tr>\n",
              "    <tr>\n",
              "      <th>55</th>\n",
              "      <td>79</td>\n",
              "      <td>ablaze</td>\n",
              "      <td>USA</td>\n",
              "      <td>#Kurds trampling on Turkmen flag later set it ablaze while others vandalized offices of Turkmen Front in #Diyala http://t.co/4IzFdYC3cg</td>\n",
              "      <td>1</td>\n",
              "      <td>ablaze #Kurds trampling on Turkmen flag later set it ablaze while others vandalized offices of Turkmen Front in #Diyala http://t.co/4IzFdYC3cg</td>\n",
              "    </tr>\n",
              "    <tr>\n",
              "      <th>56</th>\n",
              "      <td>80</td>\n",
              "      <td>ablaze</td>\n",
              "      <td>South Africa</td>\n",
              "      <td>TRUCK ABLAZE : R21. VOORTREKKER AVE. OUTSIDE OR TAMBO INTL. CARGO SECTION. http://t.co/8kscqKfKkF</td>\n",
              "      <td>1</td>\n",
              "      <td>ablaze TRUCK ABLAZE : R21. VOORTREKKER AVE. OUTSIDE OR TAMBO INTL. CARGO SECTION. http://t.co/8kscqKfKkF</td>\n",
              "    </tr>\n",
              "    <tr>\n",
              "      <th>57</th>\n",
              "      <td>81</td>\n",
              "      <td>ablaze</td>\n",
              "      <td>Sao Paulo, Brazil</td>\n",
              "      <td>Set our hearts ablaze and every city was a gift And every skyline was like a kiss upon the lips @Û_ https://t.co/cYoMPZ1A0Z</td>\n",
              "      <td>0</td>\n",
              "      <td>ablaze Set our hearts ablaze and every city was a gift And every skyline was like a kiss upon the lips @Û_ https://t.co/cYoMPZ1A0Z</td>\n",
              "    </tr>\n",
              "    <tr>\n",
              "      <th>58</th>\n",
              "      <td>82</td>\n",
              "      <td>ablaze</td>\n",
              "      <td>hollywoodland</td>\n",
              "      <td>They sky was ablaze tonight in Los Angeles. I'm expecting IG and FB to be filled with sunset shots if I know my peeps!!</td>\n",
              "      <td>0</td>\n",
              "      <td>ablaze They sky was ablaze tonight in Los Angeles. I'm expecting IG and FB to be filled with sunset shots if I know my peeps!!</td>\n",
              "    </tr>\n",
              "    <tr>\n",
              "      <th>59</th>\n",
              "      <td>83</td>\n",
              "      <td>ablaze</td>\n",
              "      <td>Edmonton, Alberta - Treaty 6</td>\n",
              "      <td>How the West was burned: Thousands of wildfires ablaze in #California alone http://t.co/iCSjGZ9tE1 #climate #energy http://t.co/9FxmN0l0Bd</td>\n",
              "      <td>1</td>\n",
              "      <td>ablaze How the West was burned: Thousands of wildfires ablaze in #California alone http://t.co/iCSjGZ9tE1 #climate #energy http://t.co/9FxmN0l0Bd</td>\n",
              "    </tr>\n",
              "    <tr>\n",
              "      <th>60</th>\n",
              "      <td>85</td>\n",
              "      <td>ablaze</td>\n",
              "      <td>NaN</td>\n",
              "      <td>Revel in yours wmv videos by means of mac farewell ablaze wmv en route to dvd: GtxRWm</td>\n",
              "      <td>0</td>\n",
              "      <td>ablaze Revel in yours wmv videos by means of mac farewell ablaze wmv en route to dvd: GtxRWm</td>\n",
              "    </tr>\n",
              "    <tr>\n",
              "      <th>61</th>\n",
              "      <td>86</td>\n",
              "      <td>ablaze</td>\n",
              "      <td>Inang Pamantasan</td>\n",
              "      <td>Progressive greetings!\\n\\nIn about a month students would have set their pens ablaze in The Torch Publications'... http://t.co/9FxPiXQuJt</td>\n",
              "      <td>0</td>\n",
              "      <td>ablaze Progressive greetings!\\n\\nIn about a month students would have set their pens ablaze in The Torch Publications'... http://t.co/9FxPiXQuJt</td>\n",
              "    </tr>\n",
              "    <tr>\n",
              "      <th>62</th>\n",
              "      <td>89</td>\n",
              "      <td>ablaze</td>\n",
              "      <td>Twitter Lockout in progress</td>\n",
              "      <td>Rene Ablaze &amp;amp; Jacinta - Secret 2k13 (Fallen Skies Edit) - Mar 30 2013  https://t.co/7MLMsUzV1Z</td>\n",
              "      <td>0</td>\n",
              "      <td>ablaze Rene Ablaze &amp;amp; Jacinta - Secret 2k13 (Fallen Skies Edit) - Mar 30 2013  https://t.co/7MLMsUzV1Z</td>\n",
              "    </tr>\n",
              "    <tr>\n",
              "      <th>63</th>\n",
              "      <td>91</td>\n",
              "      <td>ablaze</td>\n",
              "      <td>Concord, CA</td>\n",
              "      <td>@Navista7 Steve these fires out here are something else! California is a tinderbox - and this clown was setting my 'hood ablaze @News24680</td>\n",
              "      <td>1</td>\n",
              "      <td>ablaze @Navista7 Steve these fires out here are something else! California is a tinderbox - and this clown was setting my 'hood ablaze @News24680</td>\n",
              "    </tr>\n",
              "    <tr>\n",
              "      <th>64</th>\n",
              "      <td>92</td>\n",
              "      <td>ablaze</td>\n",
              "      <td>Calgary, AB</td>\n",
              "      <td>#NowPlaying: Rene Ablaze &amp;amp; Ian Buff - Magnitude http://t.co/Av2JSjfFtc  #EDM</td>\n",
              "      <td>0</td>\n",
              "      <td>ablaze #NowPlaying: Rene Ablaze &amp;amp; Ian Buff - Magnitude http://t.co/Av2JSjfFtc  #EDM</td>\n",
              "    </tr>\n",
              "    <tr>\n",
              "      <th>65</th>\n",
              "      <td>93</td>\n",
              "      <td>ablaze</td>\n",
              "      <td>Birmingham</td>\n",
              "      <td>@nxwestmidlands huge fire at Wholesale markets ablaze http://t.co/rwzbFVNXER</td>\n",
              "      <td>1</td>\n",
              "      <td>ablaze @nxwestmidlands huge fire at Wholesale markets ablaze http://t.co/rwzbFVNXER</td>\n",
              "    </tr>\n",
              "    <tr>\n",
              "      <th>66</th>\n",
              "      <td>95</td>\n",
              "      <td>ablaze</td>\n",
              "      <td>San Francisco</td>\n",
              "      <td>@ablaze what time does your talk go until? I don't know if I can make it due to work.</td>\n",
              "      <td>0</td>\n",
              "      <td>ablaze @ablaze what time does your talk go until? I don't know if I can make it due to work.</td>\n",
              "    </tr>\n",
              "    <tr>\n",
              "      <th>67</th>\n",
              "      <td>96</td>\n",
              "      <td>accident</td>\n",
              "      <td>CLVLND</td>\n",
              "      <td>'I can't have kids cuz I got in a bicycle accident &amp;amp; split my testicles. it's impossible for me to have kids' MICHAEL YOU ARE THE FATHER</td>\n",
              "      <td>0</td>\n",
              "      <td>accident 'I can't have kids cuz I got in a bicycle accident &amp;amp; split my testicles. it's impossible for me to have kids' MICHAEL YOU ARE THE FATHER</td>\n",
              "    </tr>\n",
              "    <tr>\n",
              "      <th>68</th>\n",
              "      <td>97</td>\n",
              "      <td>accident</td>\n",
              "      <td>Nashville, TN</td>\n",
              "      <td>Accident on I-24 W #NashvilleTraffic. Traffic moving 8m slower than usual. https://t.co/0GHk693EgJ</td>\n",
              "      <td>1</td>\n",
              "      <td>accident Accident on I-24 W #NashvilleTraffic. Traffic moving 8m slower than usual. https://t.co/0GHk693EgJ</td>\n",
              "    </tr>\n",
              "    <tr>\n",
              "      <th>69</th>\n",
              "      <td>98</td>\n",
              "      <td>accident</td>\n",
              "      <td>Santa Clara, CA</td>\n",
              "      <td>Accident center lane blocked in #SantaClara on US-101 NB before Great America Pkwy #BayArea #Traffic http://t.co/pmlOhZuRWR</td>\n",
              "      <td>1</td>\n",
              "      <td>accident Accident center lane blocked in #SantaClara on US-101 NB before Great America Pkwy #BayArea #Traffic http://t.co/pmlOhZuRWR</td>\n",
              "    </tr>\n",
              "    <tr>\n",
              "      <th>70</th>\n",
              "      <td>100</td>\n",
              "      <td>accident</td>\n",
              "      <td>UK</td>\n",
              "      <td>http://t.co/GKYe6gjTk5 Had a #personalinjury accident this summer? Read our advice &amp;amp; see how a #solicitor can help #OtleyHour</td>\n",
              "      <td>0</td>\n",
              "      <td>accident http://t.co/GKYe6gjTk5 Had a #personalinjury accident this summer? Read our advice &amp;amp; see how a #solicitor can help #OtleyHour</td>\n",
              "    </tr>\n",
              "    <tr>\n",
              "      <th>71</th>\n",
              "      <td>102</td>\n",
              "      <td>accident</td>\n",
              "      <td>St. Louis, MO</td>\n",
              "      <td>#stlouis #caraccidentlawyer Speeding Among Top Causes of Teen Accidents https://t.co/k4zoMOF319 https://t.co/S2kXVM0cBA Car Accident teeÛ_</td>\n",
              "      <td>0</td>\n",
              "      <td>accident #stlouis #caraccidentlawyer Speeding Among Top Causes of Teen Accidents https://t.co/k4zoMOF319 https://t.co/S2kXVM0cBA Car Accident teeÛ_</td>\n",
              "    </tr>\n",
              "    <tr>\n",
              "      <th>72</th>\n",
              "      <td>104</td>\n",
              "      <td>accident</td>\n",
              "      <td>Walker County, Alabama</td>\n",
              "      <td>Reported motor vehicle accident in Curry on Herman Rd near Stephenson involving an overturned vehicle. Please use... http://t.co/YbJezKuRW1</td>\n",
              "      <td>1</td>\n",
              "      <td>accident Reported motor vehicle accident in Curry on Herman Rd near Stephenson involving an overturned vehicle. Please use... http://t.co/YbJezKuRW1</td>\n",
              "    </tr>\n",
              "    <tr>\n",
              "      <th>73</th>\n",
              "      <td>105</td>\n",
              "      <td>accident</td>\n",
              "      <td>Australia</td>\n",
              "      <td>BigRigRadio Live Accident Awareness</td>\n",
              "      <td>1</td>\n",
              "      <td>accident BigRigRadio Live Accident Awareness</td>\n",
              "    </tr>\n",
              "    <tr>\n",
              "      <th>74</th>\n",
              "      <td>107</td>\n",
              "      <td>accident</td>\n",
              "      <td>North Carolina</td>\n",
              "      <td>I-77 Mile Marker 31 South Mooresville  Iredell Vehicle Accident Ramp Closed at 8/6 1:18 PM</td>\n",
              "      <td>1</td>\n",
              "      <td>accident I-77 Mile Marker 31 South Mooresville  Iredell Vehicle Accident Ramp Closed at 8/6 1:18 PM</td>\n",
              "    </tr>\n",
              "    <tr>\n",
              "      <th>75</th>\n",
              "      <td>109</td>\n",
              "      <td>accident</td>\n",
              "      <td>NaN</td>\n",
              "      <td>RT @SleepJunkies: Sleeping pills double your risk of a car accident http://t.co/7s9Nm1fiCT</td>\n",
              "      <td>0</td>\n",
              "      <td>accident RT @SleepJunkies: Sleeping pills double your risk of a car accident http://t.co/7s9Nm1fiCT</td>\n",
              "    </tr>\n",
              "    <tr>\n",
              "      <th>76</th>\n",
              "      <td>110</td>\n",
              "      <td>accident</td>\n",
              "      <td>Norf Carolina</td>\n",
              "      <td>'By accident' they knew what was gon happen https://t.co/Ysxun5vCeh</td>\n",
              "      <td>0</td>\n",
              "      <td>accident 'By accident' they knew what was gon happen https://t.co/Ysxun5vCeh</td>\n",
              "    </tr>\n",
              "    <tr>\n",
              "      <th>77</th>\n",
              "      <td>112</td>\n",
              "      <td>accident</td>\n",
              "      <td>San Mateo County, CA</td>\n",
              "      <td>Traffic accident N CABRILLO HWY/MAGELLAN AV MIR (08/06/15 11:03:58)</td>\n",
              "      <td>1</td>\n",
              "      <td>accident Traffic accident N CABRILLO HWY/MAGELLAN AV MIR (08/06/15 11:03:58)</td>\n",
              "    </tr>\n",
              "    <tr>\n",
              "      <th>78</th>\n",
              "      <td>113</td>\n",
              "      <td>accident</td>\n",
              "      <td>North Carolina</td>\n",
              "      <td>I-77 Mile Marker 31 to 40 South Mooresville  Iredell Vehicle Accident Congestion at 8/6 1:18 PM</td>\n",
              "      <td>1</td>\n",
              "      <td>accident I-77 Mile Marker 31 to 40 South Mooresville  Iredell Vehicle Accident Congestion at 8/6 1:18 PM</td>\n",
              "    </tr>\n",
              "    <tr>\n",
              "      <th>79</th>\n",
              "      <td>114</td>\n",
              "      <td>accident</td>\n",
              "      <td>Njoro, Kenya</td>\n",
              "      <td>the pastor was not in the scene of the accident......who was the owner of the range rover ?</td>\n",
              "      <td>1</td>\n",
              "      <td>accident the pastor was not in the scene of the accident......who was the owner of the range rover ?</td>\n",
              "    </tr>\n",
              "    <tr>\n",
              "      <th>80</th>\n",
              "      <td>117</td>\n",
              "      <td>accident</td>\n",
              "      <td>NaN</td>\n",
              "      <td>mom: 'we didn't get home as fast as we wished' \\nme: 'why is that?'\\nmom: 'there was an accident and some truck spilt mayonnaise all over ??????</td>\n",
              "      <td>0</td>\n",
              "      <td>accident mom: 'we didn't get home as fast as we wished' \\nme: 'why is that?'\\nmom: 'there was an accident and some truck spilt mayonnaise all over ??????</td>\n",
              "    </tr>\n",
              "    <tr>\n",
              "      <th>81</th>\n",
              "      <td>118</td>\n",
              "      <td>accident</td>\n",
              "      <td>Your Sister's Bedroom</td>\n",
              "      <td>I was in a horrible car accident this past Sunday. I'm finally able to get around. Thank you GOD??</td>\n",
              "      <td>1</td>\n",
              "      <td>accident I was in a horrible car accident this past Sunday. I'm finally able to get around. Thank you GOD??</td>\n",
              "    </tr>\n",
              "    <tr>\n",
              "      <th>82</th>\n",
              "      <td>119</td>\n",
              "      <td>accident</td>\n",
              "      <td>NaN</td>\n",
              "      <td>Can wait to see how pissed Donnie is when I tell him I was in ANOTHER accident??</td>\n",
              "      <td>0</td>\n",
              "      <td>accident Can wait to see how pissed Donnie is when I tell him I was in ANOTHER accident??</td>\n",
              "    </tr>\n",
              "    <tr>\n",
              "      <th>83</th>\n",
              "      <td>120</td>\n",
              "      <td>accident</td>\n",
              "      <td>Arlington, TX</td>\n",
              "      <td>#TruckCrash Overturns On #FortWorth Interstate http://t.co/Rs22LJ4qFp Click here if you've been in a crash&amp;gt;http://t.co/Ld0unIYw4k</td>\n",
              "      <td>1</td>\n",
              "      <td>accident #TruckCrash Overturns On #FortWorth Interstate http://t.co/Rs22LJ4qFp Click here if you've been in a crash&amp;gt;http://t.co/Ld0unIYw4k</td>\n",
              "    </tr>\n",
              "    <tr>\n",
              "      <th>84</th>\n",
              "      <td>121</td>\n",
              "      <td>accident</td>\n",
              "      <td>South Bloomfield, OH</td>\n",
              "      <td>Accident in #Ashville on US 23 SB before SR 752 #traffic http://t.co/hylMo0WgFI</td>\n",
              "      <td>1</td>\n",
              "      <td>accident Accident in #Ashville on US 23 SB before SR 752 #traffic http://t.co/hylMo0WgFI</td>\n",
              "    </tr>\n",
              "    <tr>\n",
              "      <th>85</th>\n",
              "      <td>126</td>\n",
              "      <td>accident</td>\n",
              "      <td>NaN</td>\n",
              "      <td>Carolina accident: Motorcyclist Dies in I-540 Crash With Car That Crossed Median: A motorcycle rider traveling... http://t.co/p18lzRlmy6</td>\n",
              "      <td>1</td>\n",
              "      <td>accident Carolina accident: Motorcyclist Dies in I-540 Crash With Car That Crossed Median: A motorcycle rider traveling... http://t.co/p18lzRlmy6</td>\n",
              "    </tr>\n",
              "    <tr>\n",
              "      <th>86</th>\n",
              "      <td>128</td>\n",
              "      <td>accident</td>\n",
              "      <td>New Hanover County, NC</td>\n",
              "      <td>FYI CAD:FYI: ;ACCIDENT PROPERTY DAMAGE;NHS;999 PINER RD/HORNDALE DR</td>\n",
              "      <td>1</td>\n",
              "      <td>accident FYI CAD:FYI: ;ACCIDENT PROPERTY DAMAGE;NHS;999 PINER RD/HORNDALE DR</td>\n",
              "    </tr>\n",
              "    <tr>\n",
              "      <th>87</th>\n",
              "      <td>129</td>\n",
              "      <td>accident</td>\n",
              "      <td>Maldives</td>\n",
              "      <td>RT nAAYf: First accident in years. Turning onto Chandanee Magu from near MMA. Taxi rammed into me while I was halfway turned. Everyone confÛ_</td>\n",
              "      <td>1</td>\n",
              "      <td>accident RT nAAYf: First accident in years. Turning onto Chandanee Magu from near MMA. Taxi rammed into me while I was halfway turned. Everyone confÛ_</td>\n",
              "    </tr>\n",
              "    <tr>\n",
              "      <th>88</th>\n",
              "      <td>130</td>\n",
              "      <td>accident</td>\n",
              "      <td>Manchester, NH</td>\n",
              "      <td>Accident left lane blocked in #Manchester on Rt 293 NB before Eddy Rd stop and go traffic back to NH-3A delay of 4 mins #traffic</td>\n",
              "      <td>1</td>\n",
              "      <td>accident Accident left lane blocked in #Manchester on Rt 293 NB before Eddy Rd stop and go traffic back to NH-3A delay of 4 mins #traffic</td>\n",
              "    </tr>\n",
              "    <tr>\n",
              "      <th>89</th>\n",
              "      <td>131</td>\n",
              "      <td>accident</td>\n",
              "      <td>Wilmington, NC</td>\n",
              "      <td>;ACCIDENT PROPERTY DAMAGE; PINER RD/HORNDALE DR</td>\n",
              "      <td>1</td>\n",
              "      <td>accident ;ACCIDENT PROPERTY DAMAGE; PINER RD/HORNDALE DR</td>\n",
              "    </tr>\n",
              "    <tr>\n",
              "      <th>90</th>\n",
              "      <td>132</td>\n",
              "      <td>accident</td>\n",
              "      <td>NaN</td>\n",
              "      <td>???? it was an accident http://t.co/Oia5fxi4gM</td>\n",
              "      <td>0</td>\n",
              "      <td>accident ???? it was an accident http://t.co/Oia5fxi4gM</td>\n",
              "    </tr>\n",
              "    <tr>\n",
              "      <th>91</th>\n",
              "      <td>133</td>\n",
              "      <td>accident</td>\n",
              "      <td>New Hanover County, NC</td>\n",
              "      <td>FYI CAD:FYI: ;ACCIDENT PROPERTY DAMAGE;WPD;1600 S 17TH ST</td>\n",
              "      <td>1</td>\n",
              "      <td>accident FYI CAD:FYI: ;ACCIDENT PROPERTY DAMAGE;WPD;1600 S 17TH ST</td>\n",
              "    </tr>\n",
              "    <tr>\n",
              "      <th>92</th>\n",
              "      <td>134</td>\n",
              "      <td>accident</td>\n",
              "      <td>NaN</td>\n",
              "      <td>8/6/2015@2:09 PM: TRAFFIC ACCIDENT NO INJURY at 2781 WILLIS FOREMAN RD http://t.co/VCkIT6EDEv</td>\n",
              "      <td>1</td>\n",
              "      <td>accident 8/6/2015@2:09 PM: TRAFFIC ACCIDENT NO INJURY at 2781 WILLIS FOREMAN RD http://t.co/VCkIT6EDEv</td>\n",
              "    </tr>\n",
              "    <tr>\n",
              "      <th>93</th>\n",
              "      <td>135</td>\n",
              "      <td>accident</td>\n",
              "      <td>global</td>\n",
              "      <td>Aashiqui Actress Anu Aggarwal On Her Near-Fatal Accident http://t.co/6Otfp31LqW</td>\n",
              "      <td>1</td>\n",
              "      <td>accident Aashiqui Actress Anu Aggarwal On Her Near-Fatal Accident http://t.co/6Otfp31LqW</td>\n",
              "    </tr>\n",
              "    <tr>\n",
              "      <th>94</th>\n",
              "      <td>136</td>\n",
              "      <td>accident</td>\n",
              "      <td>Alberta | Sask. | Montana</td>\n",
              "      <td>Suffield Alberta Accident https://t.co/bPTmlF4P10</td>\n",
              "      <td>1</td>\n",
              "      <td>accident Suffield Alberta Accident https://t.co/bPTmlF4P10</td>\n",
              "    </tr>\n",
              "    <tr>\n",
              "      <th>95</th>\n",
              "      <td>137</td>\n",
              "      <td>accident</td>\n",
              "      <td>Charlotte</td>\n",
              "      <td>9 Mile backup on I-77 South...accident blocking the Right 2 Lanes at Exit 31 Langtree Rd...consider NC 115 or NC 150 to NC 16 as alternate</td>\n",
              "      <td>1</td>\n",
              "      <td>accident 9 Mile backup on I-77 South...accident blocking the Right 2 Lanes at Exit 31 Langtree Rd...consider NC 115 or NC 150 to NC 16 as alternate</td>\n",
              "    </tr>\n",
              "    <tr>\n",
              "      <th>96</th>\n",
              "      <td>138</td>\n",
              "      <td>accident</td>\n",
              "      <td>Baton Rouge, LA</td>\n",
              "      <td>Has an accident changed your life? We will help you determine options that can financially support life care plans and on-going treatment.</td>\n",
              "      <td>0</td>\n",
              "      <td>accident Has an accident changed your life? We will help you determine options that can financially support life care plans and on-going treatment.</td>\n",
              "    </tr>\n",
              "    <tr>\n",
              "      <th>97</th>\n",
              "      <td>139</td>\n",
              "      <td>accident</td>\n",
              "      <td>Hagerstown, MD</td>\n",
              "      <td>#BREAKING: there was a deadly motorcycle car accident that happened to #Hagerstown today. I'll have more details at 5 @Your4State. #WHAG</td>\n",
              "      <td>1</td>\n",
              "      <td>accident #BREAKING: there was a deadly motorcycle car accident that happened to #Hagerstown today. I'll have more details at 5 @Your4State. #WHAG</td>\n",
              "    </tr>\n",
              "    <tr>\n",
              "      <th>98</th>\n",
              "      <td>141</td>\n",
              "      <td>accident</td>\n",
              "      <td>Gloucestershire , UK</td>\n",
              "      <td>@flowri were you marinading it or was it an accident?</td>\n",
              "      <td>0</td>\n",
              "      <td>accident @flowri were you marinading it or was it an accident?</td>\n",
              "    </tr>\n",
              "    <tr>\n",
              "      <th>99</th>\n",
              "      <td>143</td>\n",
              "      <td>accident</td>\n",
              "      <td>NaN</td>\n",
              "      <td>only had a car for not even a week and got in a fucking car accident .. Mfs can't fucking drive .</td>\n",
              "      <td>1</td>\n",
              "      <td>accident only had a car for not even a week and got in a fucking car accident .. Mfs can't fucking drive .</td>\n",
              "    </tr>\n",
              "  </tbody>\n",
              "</table>\n",
              "</div>"
            ],
            "text/plain": [
              "     id  ...                                                                                                                                                 final_text\n",
              "0   1    ...   Our Deeds are the Reason of this #earthquake May ALLAH Forgive us all                                                                                   \n",
              "1   4    ...   Forest fire near La Ronge Sask. Canada                                                                                                                  \n",
              "2   5    ...   All residents asked to 'shelter in place' are being notified by officers. No other evacuation or shelter in place orders are expected                   \n",
              "3   6    ...   13,000 people receive #wildfires evacuation orders in California                                                                                        \n",
              "4   7    ...   Just got sent this photo from Ruby #Alaska as smoke from #wildfires pours into a school                                                                 \n",
              "5   8    ...   #RockyFire Update => California Hwy. 20 closed in both directions due to Lake County fire - #CAfire #wildfires                                          \n",
              "6   10   ...   #flood #disaster Heavy rain causes flash flooding of streets in Manitou, Colorado Springs areas                                                         \n",
              "7   13   ...   I'm on top of the hill and I can see a fire in the woods...                                                                                             \n",
              "8   14   ...   There's an emergency evacuation happening now in the building across the street                                                                         \n",
              "9   15   ...   I'm afraid that the tornado is coming to our area...                                                                                                    \n",
              "10  16   ...   Three people died from the heat wave so far                                                                                                             \n",
              "11  17   ...   Haha South Tampa is getting flooded hah- WAIT A SECOND I LIVE IN SOUTH TAMPA WHAT AM I GONNA DO WHAT AM I GONNA DO FVCK #flooding                       \n",
              "12  18   ...   #raining #flooding #Florida #TampaBay #Tampa 18 or 19 days. I've lost count                                                                             \n",
              "13  19   ...   #Flood in Bago Myanmar #We arrived Bago                                                                                                                 \n",
              "14  20   ...   Damage to school bus on 80 in multi car crash #BREAKING                                                                                                 \n",
              "15  23   ...   What's up man?                                                                                                                                          \n",
              "16  24   ...   I love fruits                                                                                                                                           \n",
              "17  25   ...   Summer is lovely                                                                                                                                        \n",
              "18  26   ...   My car is so fast                                                                                                                                       \n",
              "19  28   ...   What a goooooooaaaaaal!!!!!!                                                                                                                            \n",
              "20  31   ...   this is ridiculous....                                                                                                                                  \n",
              "21  32   ...   London is cool ;)                                                                                                                                       \n",
              "22  33   ...   Love skiing                                                                                                                                             \n",
              "23  34   ...   What a wonderful day!                                                                                                                                   \n",
              "24  36   ...   LOOOOOOL                                                                                                                                                \n",
              "25  37   ...   No way...I can't eat that shit                                                                                                                          \n",
              "26  38   ...   Was in NYC last week!                                                                                                                                   \n",
              "27  39   ...   Love my girlfriend                                                                                                                                      \n",
              "28  40   ...   Cooool :)                                                                                                                                               \n",
              "29  41   ...   Do you like pasta?                                                                                                                                      \n",
              "30  44   ...   The end!                                                                                                                                                \n",
              "31  48   ...  ablaze @bbcmtd Wholesale Markets ablaze http://t.co/lHYXEOHY6C                                                                                           \n",
              "32  49   ...  ablaze We always try to bring the heavy. #metal #RT http://t.co/YAo1e0xngw                                                                               \n",
              "33  50   ...  ablaze #AFRICANBAZE: Breaking news:Nigeria flag set ablaze in Aba. http://t.co/2nndBGwyEi                                                                \n",
              "34  52   ...  ablaze Crying out for more! Set me ablaze                                                                                                                \n",
              "35  53   ...  ablaze On plus side LOOK AT THE SKY LAST NIGHT IT WAS ABLAZE http://t.co/qqsmshaJ3N                                                                      \n",
              "36  54   ...  ablaze @PhDSquares #mufc they've built so much hype around new acquisitions but I doubt they will set the EPL ablaze this season.                        \n",
              "37  55   ...  ablaze INEC Office in Abia Set Ablaze - http://t.co/3ImaomknnA                                                                                           \n",
              "38  56   ...  ablaze Barbados #Bridgetown JAMAICA ÛÒ Two cars set ablaze: SANTA CRUZ ÛÓ Head of the St Elizabeth Police Superintende...  http://t.co/wDUEaj8Q4J      \n",
              "39  57   ...  ablaze Ablaze for you Lord :D                                                                                                                            \n",
              "40  59   ...  ablaze Check these out: http://t.co/rOI2NSmEJJ http://t.co/3Tj8ZjiN21 http://t.co/YDUiXEfIpE http://t.co/LxTjc87KLS #nsfw                                \n",
              "41  61   ...  ablaze on the outside you're ablaze and alive\\nbut you're dead inside                                                                                    \n",
              "42  62   ...  ablaze Had an awesome time visiting the CFC head office the ancop site and ablaze. Thanks to Tita Vida for taking care of us ??                          \n",
              "43  63   ...  ablaze SOOOO PUMPED FOR ABLAZE ???? @southridgelife                                                                                                      \n",
              "44  64   ...  ablaze I wanted to set Chicago ablaze with my preaching... But not my hotel! http://t.co/o9qknbfOFX                                                      \n",
              "45  65   ...  ablaze I gained 3 followers in the last week. You? Know your stats and grow with http://t.co/TIyUliF5c6                                                  \n",
              "46  66   ...  ablaze How the West was burned: Thousands of wildfires ablaze in California alone http://t.co/vl5TBR3wbr                                                 \n",
              "47  67   ...  ablaze Building the perfect tracklist to life leave the streets ablaze                                                                                   \n",
              "48  68   ...  ablaze Check these out: http://t.co/rOI2NSmEJJ http://t.co/3Tj8ZjiN21 http://t.co/YDUiXEfIpE http://t.co/LxTjc87KLS #nsfw                                \n",
              "49  71   ...  ablaze First night with retainers in. It's quite weird. Better get used to it; I have to wear them every single night for the next year at least.        \n",
              "50  73   ...  ablaze Deputies: Man shot before Brighton home set ablaze http://t.co/gWNRhMSO8k                                                                         \n",
              "51  74   ...  ablaze Man wife get six years jail for setting ablaze niece\\nhttp://t.co/eV1ahOUCZA                                                                      \n",
              "52  76   ...  ablaze SANTA CRUZ ÛÓ Head of the St Elizabeth Police Superintendent Lanford Salmon has r ... - http://t.co/vplR5Hka2u http://t.co/SxHW2TNNLf            \n",
              "53  77   ...  ablaze Police: Arsonist Deliberately Set Black Church In North CarolinaåÊAblaze http://t.co/pcXarbH9An                                                   \n",
              "54  78   ...  ablaze Noches El-Bestia '@Alexis_Sanchez: happy to see my teammates and training hard ?? goodnight gunners.?????? http://t.co/uc4j4jHvGR'                \n",
              "55  79   ...  ablaze #Kurds trampling on Turkmen flag later set it ablaze while others vandalized offices of Turkmen Front in #Diyala http://t.co/4IzFdYC3cg           \n",
              "56  80   ...  ablaze TRUCK ABLAZE : R21. VOORTREKKER AVE. OUTSIDE OR TAMBO INTL. CARGO SECTION. http://t.co/8kscqKfKkF                                                 \n",
              "57  81   ...  ablaze Set our hearts ablaze and every city was a gift And every skyline was like a kiss upon the lips @Û_ https://t.co/cYoMPZ1A0Z                      \n",
              "58  82   ...  ablaze They sky was ablaze tonight in Los Angeles. I'm expecting IG and FB to be filled with sunset shots if I know my peeps!!                           \n",
              "59  83   ...  ablaze How the West was burned: Thousands of wildfires ablaze in #California alone http://t.co/iCSjGZ9tE1 #climate #energy http://t.co/9FxmN0l0Bd        \n",
              "60  85   ...  ablaze Revel in yours wmv videos by means of mac farewell ablaze wmv en route to dvd: GtxRWm                                                             \n",
              "61  86   ...  ablaze Progressive greetings!\\n\\nIn about a month students would have set their pens ablaze in The Torch Publications'... http://t.co/9FxPiXQuJt         \n",
              "62  89   ...  ablaze Rene Ablaze &amp; Jacinta - Secret 2k13 (Fallen Skies Edit) - Mar 30 2013  https://t.co/7MLMsUzV1Z                                                \n",
              "63  91   ...  ablaze @Navista7 Steve these fires out here are something else! California is a tinderbox - and this clown was setting my 'hood ablaze @News24680        \n",
              "64  92   ...  ablaze #NowPlaying: Rene Ablaze &amp; Ian Buff - Magnitude http://t.co/Av2JSjfFtc  #EDM                                                                  \n",
              "65  93   ...  ablaze @nxwestmidlands huge fire at Wholesale markets ablaze http://t.co/rwzbFVNXER                                                                      \n",
              "66  95   ...  ablaze @ablaze what time does your talk go until? I don't know if I can make it due to work.                                                             \n",
              "67  96   ...  accident 'I can't have kids cuz I got in a bicycle accident &amp; split my testicles. it's impossible for me to have kids' MICHAEL YOU ARE THE FATHER    \n",
              "68  97   ...  accident Accident on I-24 W #NashvilleTraffic. Traffic moving 8m slower than usual. https://t.co/0GHk693EgJ                                              \n",
              "69  98   ...  accident Accident center lane blocked in #SantaClara on US-101 NB before Great America Pkwy #BayArea #Traffic http://t.co/pmlOhZuRWR                     \n",
              "70  100  ...  accident http://t.co/GKYe6gjTk5 Had a #personalinjury accident this summer? Read our advice &amp; see how a #solicitor can help #OtleyHour               \n",
              "71  102  ...  accident #stlouis #caraccidentlawyer Speeding Among Top Causes of Teen Accidents https://t.co/k4zoMOF319 https://t.co/S2kXVM0cBA Car Accident teeÛ_     \n",
              "72  104  ...  accident Reported motor vehicle accident in Curry on Herman Rd near Stephenson involving an overturned vehicle. Please use... http://t.co/YbJezKuRW1     \n",
              "73  105  ...  accident BigRigRadio Live Accident Awareness                                                                                                             \n",
              "74  107  ...  accident I-77 Mile Marker 31 South Mooresville  Iredell Vehicle Accident Ramp Closed at 8/6 1:18 PM                                                      \n",
              "75  109  ...  accident RT @SleepJunkies: Sleeping pills double your risk of a car accident http://t.co/7s9Nm1fiCT                                                      \n",
              "76  110  ...  accident 'By accident' they knew what was gon happen https://t.co/Ysxun5vCeh                                                                             \n",
              "77  112  ...  accident Traffic accident N CABRILLO HWY/MAGELLAN AV MIR (08/06/15 11:03:58)                                                                             \n",
              "78  113  ...  accident I-77 Mile Marker 31 to 40 South Mooresville  Iredell Vehicle Accident Congestion at 8/6 1:18 PM                                                 \n",
              "79  114  ...  accident the pastor was not in the scene of the accident......who was the owner of the range rover ?                                                     \n",
              "80  117  ...  accident mom: 'we didn't get home as fast as we wished' \\nme: 'why is that?'\\nmom: 'there was an accident and some truck spilt mayonnaise all over ??????\n",
              "81  118  ...  accident I was in a horrible car accident this past Sunday. I'm finally able to get around. Thank you GOD??                                              \n",
              "82  119  ...  accident Can wait to see how pissed Donnie is when I tell him I was in ANOTHER accident??                                                                \n",
              "83  120  ...  accident #TruckCrash Overturns On #FortWorth Interstate http://t.co/Rs22LJ4qFp Click here if you've been in a crash&gt;http://t.co/Ld0unIYw4k            \n",
              "84  121  ...  accident Accident in #Ashville on US 23 SB before SR 752 #traffic http://t.co/hylMo0WgFI                                                                 \n",
              "85  126  ...  accident Carolina accident: Motorcyclist Dies in I-540 Crash With Car That Crossed Median: A motorcycle rider traveling... http://t.co/p18lzRlmy6        \n",
              "86  128  ...  accident FYI CAD:FYI: ;ACCIDENT PROPERTY DAMAGE;NHS;999 PINER RD/HORNDALE DR                                                                             \n",
              "87  129  ...  accident RT nAAYf: First accident in years. Turning onto Chandanee Magu from near MMA. Taxi rammed into me while I was halfway turned. Everyone confÛ_  \n",
              "88  130  ...  accident Accident left lane blocked in #Manchester on Rt 293 NB before Eddy Rd stop and go traffic back to NH-3A delay of 4 mins #traffic                \n",
              "89  131  ...  accident ;ACCIDENT PROPERTY DAMAGE; PINER RD/HORNDALE DR                                                                                                 \n",
              "90  132  ...  accident ???? it was an accident http://t.co/Oia5fxi4gM                                                                                                  \n",
              "91  133  ...  accident FYI CAD:FYI: ;ACCIDENT PROPERTY DAMAGE;WPD;1600 S 17TH ST                                                                                       \n",
              "92  134  ...  accident 8/6/2015@2:09 PM: TRAFFIC ACCIDENT NO INJURY at 2781 WILLIS FOREMAN RD http://t.co/VCkIT6EDEv                                                   \n",
              "93  135  ...  accident Aashiqui Actress Anu Aggarwal On Her Near-Fatal Accident http://t.co/6Otfp31LqW                                                                 \n",
              "94  136  ...  accident Suffield Alberta Accident https://t.co/bPTmlF4P10                                                                                               \n",
              "95  137  ...  accident 9 Mile backup on I-77 South...accident blocking the Right 2 Lanes at Exit 31 Langtree Rd...consider NC 115 or NC 150 to NC 16 as alternate      \n",
              "96  138  ...  accident Has an accident changed your life? We will help you determine options that can financially support life care plans and on-going treatment.      \n",
              "97  139  ...  accident #BREAKING: there was a deadly motorcycle car accident that happened to #Hagerstown today. I'll have more details at 5 @Your4State. #WHAG        \n",
              "98  141  ...  accident @flowri were you marinading it or was it an accident?                                                                                           \n",
              "99  143  ...  accident only had a car for not even a week and got in a fucking car accident .. Mfs can't fucking drive .                                               \n",
              "\n",
              "[100 rows x 6 columns]"
            ]
          },
          "metadata": {
            "tags": []
          },
          "execution_count": 11
        }
      ]
    },
    {
      "cell_type": "markdown",
      "metadata": {
        "id": "0iWCkf2_HL0z",
        "colab_type": "text"
      },
      "source": [
        "#### Data Cleaning"
      ]
    },
    {
      "cell_type": "code",
      "metadata": {
        "id": "pVwXIn1vL3tu",
        "colab_type": "code",
        "colab": {}
      },
      "source": [
        "from nltk.corpus import stopwords\n",
        "from nltk.util import ngrams\n",
        "import re\n",
        "from nltk.tokenize import word_tokenize\n",
        "import gensim\n",
        "import string\n",
        "from tqdm import tqdm\n",
        "\n",
        "import tensorflow as tf\n",
        "from tensorflow.keras.layers import Dense, Input\n",
        "from tensorflow.keras.optimizers import Adam\n",
        "from tensorflow.keras.models import Model\n",
        "from tensorflow.keras.callbacks import ModelCheckpoint\n",
        "import tensorflow_hub as hub"
      ],
      "execution_count": 0,
      "outputs": []
    },
    {
      "cell_type": "code",
      "metadata": {
        "id": "wtq05GJhAjOk",
        "colab_type": "code",
        "outputId": "b0b367f8-2146-46d8-db7f-22d824a3aba6",
        "colab": {
          "base_uri": "https://localhost:8080/",
          "height": 52
        }
      },
      "source": [
        "import nltk\n",
        "\n",
        "nltk.download('stopwords')\n",
        "stop=set(stopwords.words('english'))\n",
        "\n",
        "punctuation = string.punctuation"
      ],
      "execution_count": 0,
      "outputs": [
        {
          "output_type": "stream",
          "text": [
            "[nltk_data] Downloading package stopwords to /root/nltk_data...\n",
            "[nltk_data]   Unzipping corpora/stopwords.zip.\n"
          ],
          "name": "stdout"
        }
      ]
    },
    {
      "cell_type": "markdown",
      "metadata": {
        "id": "eNtJhn_m0W3k",
        "colab_type": "text"
      },
      "source": [
        "##### train과 test set에서 URL, html, 구두점을 삭제한다."
      ]
    },
    {
      "cell_type": "code",
      "metadata": {
        "id": "6FWqfcqGHeWS",
        "colab_type": "code",
        "outputId": "5ebe4de6-0596-4eb7-81f5-49fec3b3867d",
        "colab": {
          "base_uri": "https://localhost:8080/",
          "height": 34
        }
      },
      "source": [
        "df=pd.concat([train,test])\n",
        "df.shape"
      ],
      "execution_count": 0,
      "outputs": [
        {
          "output_type": "execute_result",
          "data": {
            "text/plain": [
              "(10876, 6)"
            ]
          },
          "metadata": {
            "tags": []
          },
          "execution_count": 14
        }
      ]
    },
    {
      "cell_type": "code",
      "metadata": {
        "id": "7Myq-zM-SoAD",
        "colab_type": "code",
        "colab": {}
      },
      "source": [
        "import re\n",
        "\n",
        "# remove http\n",
        "def remove_URL(text):\n",
        "    url = re.compile(r'https?://\\S+|www\\.\\S+')\n",
        "    return url.sub(r'',text)\n",
        "\n",
        "df['final_text']=df['final_text'].apply(lambda x : remove_URL(x))\n",
        "\n",
        "# remove HTML tags\n",
        "def remove_html(text):\n",
        "    html=re.compile(r'<.*?>')\n",
        "    return html.sub(r'',text)\n",
        "df['final_text']=df['final_text'].apply(lambda x : remove_html(x))\n",
        "\n",
        "# remove punctuations\n",
        "def remove_punct(text):\n",
        "    table=str.maketrans('','',string.punctuation)\n",
        "    return text.translate(table)\n",
        "df['final_text']=df['final_text'].apply(lambda x : remove_punct(x))"
      ],
      "execution_count": 0,
      "outputs": []
    },
    {
      "cell_type": "markdown",
      "metadata": {
        "id": "-5Zj6gkPNWh1",
        "colab_type": "text"
      },
      "source": [
        "### Remove Mislabeled\n",
        "https://www.kaggle.com/rai555/real-or-not-nlp-huggingface-bert-pytorch"
      ]
    },
    {
      "cell_type": "markdown",
      "metadata": {
        "id": "gkJVSdJrLIRY",
        "colab_type": "text"
      },
      "source": [
        "## **Model**"
      ]
    },
    {
      "cell_type": "code",
      "metadata": {
        "id": "okPrebtqSkO7",
        "colab_type": "code",
        "colab": {}
      },
      "source": [
        "!wget --quiet https://raw.githubusercontent.com/tensorflow/models/master/official/nlp/bert/tokenization.py"
      ],
      "execution_count": 0,
      "outputs": []
    },
    {
      "cell_type": "code",
      "metadata": {
        "id": "MnXJdO5nUbFZ",
        "colab_type": "code",
        "outputId": "f75e33a7-7704-4728-b67b-ef23d6e61eb6",
        "colab": {
          "base_uri": "https://localhost:8080/",
          "height": 124
        }
      },
      "source": [
        "!pip install sentencepiece"
      ],
      "execution_count": 0,
      "outputs": [
        {
          "output_type": "stream",
          "text": [
            "Collecting sentencepiece\n",
            "\u001b[?25l  Downloading https://files.pythonhosted.org/packages/d4/a4/d0a884c4300004a78cca907a6ff9a5e9fe4f090f5d95ab341c53d28cbc58/sentencepiece-0.1.91-cp36-cp36m-manylinux1_x86_64.whl (1.1MB)\n",
            "\r\u001b[K     |▎                               | 10kB 21.0MB/s eta 0:00:01\r\u001b[K     |▋                               | 20kB 6.3MB/s eta 0:00:01\r\u001b[K     |█                               | 30kB 7.6MB/s eta 0:00:01\r\u001b[K     |█▏                              | 40kB 8.3MB/s eta 0:00:01\r\u001b[K     |█▌                              | 51kB 7.1MB/s eta 0:00:01\r\u001b[K     |█▉                              | 61kB 8.0MB/s eta 0:00:01\r\u001b[K     |██▏                             | 71kB 8.2MB/s eta 0:00:01\r\u001b[K     |██▍                             | 81kB 8.6MB/s eta 0:00:01\r\u001b[K     |██▊                             | 92kB 9.0MB/s eta 0:00:01\r\u001b[K     |███                             | 102kB 9.3MB/s eta 0:00:01\r\u001b[K     |███▍                            | 112kB 9.3MB/s eta 0:00:01\r\u001b[K     |███▋                            | 122kB 9.3MB/s eta 0:00:01\r\u001b[K     |████                            | 133kB 9.3MB/s eta 0:00:01\r\u001b[K     |████▎                           | 143kB 9.3MB/s eta 0:00:01\r\u001b[K     |████▋                           | 153kB 9.3MB/s eta 0:00:01\r\u001b[K     |████▉                           | 163kB 9.3MB/s eta 0:00:01\r\u001b[K     |█████▏                          | 174kB 9.3MB/s eta 0:00:01\r\u001b[K     |█████▌                          | 184kB 9.3MB/s eta 0:00:01\r\u001b[K     |█████▉                          | 194kB 9.3MB/s eta 0:00:01\r\u001b[K     |██████                          | 204kB 9.3MB/s eta 0:00:01\r\u001b[K     |██████▍                         | 215kB 9.3MB/s eta 0:00:01\r\u001b[K     |██████▊                         | 225kB 9.3MB/s eta 0:00:01\r\u001b[K     |███████                         | 235kB 9.3MB/s eta 0:00:01\r\u001b[K     |███████▎                        | 245kB 9.3MB/s eta 0:00:01\r\u001b[K     |███████▋                        | 256kB 9.3MB/s eta 0:00:01\r\u001b[K     |████████                        | 266kB 9.3MB/s eta 0:00:01\r\u001b[K     |████████▎                       | 276kB 9.3MB/s eta 0:00:01\r\u001b[K     |████████▌                       | 286kB 9.3MB/s eta 0:00:01\r\u001b[K     |████████▉                       | 296kB 9.3MB/s eta 0:00:01\r\u001b[K     |█████████▏                      | 307kB 9.3MB/s eta 0:00:01\r\u001b[K     |█████████▌                      | 317kB 9.3MB/s eta 0:00:01\r\u001b[K     |█████████▊                      | 327kB 9.3MB/s eta 0:00:01\r\u001b[K     |██████████                      | 337kB 9.3MB/s eta 0:00:01\r\u001b[K     |██████████▍                     | 348kB 9.3MB/s eta 0:00:01\r\u001b[K     |██████████▊                     | 358kB 9.3MB/s eta 0:00:01\r\u001b[K     |███████████                     | 368kB 9.3MB/s eta 0:00:01\r\u001b[K     |███████████▎                    | 378kB 9.3MB/s eta 0:00:01\r\u001b[K     |███████████▋                    | 389kB 9.3MB/s eta 0:00:01\r\u001b[K     |████████████                    | 399kB 9.3MB/s eta 0:00:01\r\u001b[K     |████████████▏                   | 409kB 9.3MB/s eta 0:00:01\r\u001b[K     |████████████▌                   | 419kB 9.3MB/s eta 0:00:01\r\u001b[K     |████████████▉                   | 430kB 9.3MB/s eta 0:00:01\r\u001b[K     |█████████████▏                  | 440kB 9.3MB/s eta 0:00:01\r\u001b[K     |█████████████▍                  | 450kB 9.3MB/s eta 0:00:01\r\u001b[K     |█████████████▊                  | 460kB 9.3MB/s eta 0:00:01\r\u001b[K     |██████████████                  | 471kB 9.3MB/s eta 0:00:01\r\u001b[K     |██████████████▍                 | 481kB 9.3MB/s eta 0:00:01\r\u001b[K     |██████████████▋                 | 491kB 9.3MB/s eta 0:00:01\r\u001b[K     |███████████████                 | 501kB 9.3MB/s eta 0:00:01\r\u001b[K     |███████████████▎                | 512kB 9.3MB/s eta 0:00:01\r\u001b[K     |███████████████▋                | 522kB 9.3MB/s eta 0:00:01\r\u001b[K     |███████████████▉                | 532kB 9.3MB/s eta 0:00:01\r\u001b[K     |████████████████▏               | 542kB 9.3MB/s eta 0:00:01\r\u001b[K     |████████████████▌               | 552kB 9.3MB/s eta 0:00:01\r\u001b[K     |████████████████▉               | 563kB 9.3MB/s eta 0:00:01\r\u001b[K     |█████████████████               | 573kB 9.3MB/s eta 0:00:01\r\u001b[K     |█████████████████▍              | 583kB 9.3MB/s eta 0:00:01\r\u001b[K     |█████████████████▊              | 593kB 9.3MB/s eta 0:00:01\r\u001b[K     |██████████████████              | 604kB 9.3MB/s eta 0:00:01\r\u001b[K     |██████████████████▎             | 614kB 9.3MB/s eta 0:00:01\r\u001b[K     |██████████████████▋             | 624kB 9.3MB/s eta 0:00:01\r\u001b[K     |███████████████████             | 634kB 9.3MB/s eta 0:00:01\r\u001b[K     |███████████████████▎            | 645kB 9.3MB/s eta 0:00:01\r\u001b[K     |███████████████████▌            | 655kB 9.3MB/s eta 0:00:01\r\u001b[K     |███████████████████▉            | 665kB 9.3MB/s eta 0:00:01\r\u001b[K     |████████████████████▏           | 675kB 9.3MB/s eta 0:00:01\r\u001b[K     |████████████████████▌           | 686kB 9.3MB/s eta 0:00:01\r\u001b[K     |████████████████████▊           | 696kB 9.3MB/s eta 0:00:01\r\u001b[K     |█████████████████████           | 706kB 9.3MB/s eta 0:00:01\r\u001b[K     |█████████████████████▍          | 716kB 9.3MB/s eta 0:00:01\r\u001b[K     |█████████████████████▋          | 727kB 9.3MB/s eta 0:00:01\r\u001b[K     |██████████████████████          | 737kB 9.3MB/s eta 0:00:01\r\u001b[K     |██████████████████████▎         | 747kB 9.3MB/s eta 0:00:01\r\u001b[K     |██████████████████████▋         | 757kB 9.3MB/s eta 0:00:01\r\u001b[K     |██████████████████████▉         | 768kB 9.3MB/s eta 0:00:01\r\u001b[K     |███████████████████████▏        | 778kB 9.3MB/s eta 0:00:01\r\u001b[K     |███████████████████████▌        | 788kB 9.3MB/s eta 0:00:01\r\u001b[K     |███████████████████████▉        | 798kB 9.3MB/s eta 0:00:01\r\u001b[K     |████████████████████████        | 808kB 9.3MB/s eta 0:00:01\r\u001b[K     |████████████████████████▍       | 819kB 9.3MB/s eta 0:00:01\r\u001b[K     |████████████████████████▊       | 829kB 9.3MB/s eta 0:00:01\r\u001b[K     |█████████████████████████       | 839kB 9.3MB/s eta 0:00:01\r\u001b[K     |█████████████████████████▎      | 849kB 9.3MB/s eta 0:00:01\r\u001b[K     |█████████████████████████▋      | 860kB 9.3MB/s eta 0:00:01\r\u001b[K     |██████████████████████████      | 870kB 9.3MB/s eta 0:00:01\r\u001b[K     |██████████████████████████▎     | 880kB 9.3MB/s eta 0:00:01\r\u001b[K     |██████████████████████████▌     | 890kB 9.3MB/s eta 0:00:01\r\u001b[K     |██████████████████████████▉     | 901kB 9.3MB/s eta 0:00:01\r\u001b[K     |███████████████████████████▏    | 911kB 9.3MB/s eta 0:00:01\r\u001b[K     |███████████████████████████▌    | 921kB 9.3MB/s eta 0:00:01\r\u001b[K     |███████████████████████████▊    | 931kB 9.3MB/s eta 0:00:01\r\u001b[K     |████████████████████████████    | 942kB 9.3MB/s eta 0:00:01\r\u001b[K     |████████████████████████████▍   | 952kB 9.3MB/s eta 0:00:01\r\u001b[K     |████████████████████████████▊   | 962kB 9.3MB/s eta 0:00:01\r\u001b[K     |█████████████████████████████   | 972kB 9.3MB/s eta 0:00:01\r\u001b[K     |█████████████████████████████▎  | 983kB 9.3MB/s eta 0:00:01\r\u001b[K     |█████████████████████████████▋  | 993kB 9.3MB/s eta 0:00:01\r\u001b[K     |██████████████████████████████  | 1.0MB 9.3MB/s eta 0:00:01\r\u001b[K     |██████████████████████████████▏ | 1.0MB 9.3MB/s eta 0:00:01\r\u001b[K     |██████████████████████████████▌ | 1.0MB 9.3MB/s eta 0:00:01\r\u001b[K     |██████████████████████████████▉ | 1.0MB 9.3MB/s eta 0:00:01\r\u001b[K     |███████████████████████████████▏| 1.0MB 9.3MB/s eta 0:00:01\r\u001b[K     |███████████████████████████████▍| 1.1MB 9.3MB/s eta 0:00:01\r\u001b[K     |███████████████████████████████▊| 1.1MB 9.3MB/s eta 0:00:01\r\u001b[K     |████████████████████████████████| 1.1MB 9.3MB/s \n",
            "\u001b[?25hInstalling collected packages: sentencepiece\n",
            "Successfully installed sentencepiece-0.1.91\n"
          ],
          "name": "stdout"
        }
      ]
    },
    {
      "cell_type": "markdown",
      "metadata": {
        "id": "46smE-w-Vn_H",
        "colab_type": "text"
      },
      "source": [
        "#### Encoding"
      ]
    },
    {
      "cell_type": "code",
      "metadata": {
        "id": "Q6ddYXBGSoE6",
        "colab_type": "code",
        "colab": {}
      },
      "source": [
        "# text -> tokens with padding\n",
        "def bert_encode(texts, tokenizer, max_len=512):\n",
        "    all_tokens = []\n",
        "    all_masks = []\n",
        "    all_segments = []\n",
        "    \n",
        "    for text in texts:\n",
        "        text = tokenizer.tokenize(text)\n",
        "            \n",
        "        text = text[:max_len-2]\n",
        "        input_sequence = [\"[CLS]\"] + text + [\"[SEP]\"]\n",
        "        pad_len = max_len - len(input_sequence)\n",
        "        \n",
        "        tokens = tokenizer.convert_tokens_to_ids(input_sequence)\n",
        "        tokens += [0] * pad_len\n",
        "        pad_masks = [1] * len(input_sequence) + [0] * pad_len\n",
        "        segment_ids = [0] * max_len\n",
        "        \n",
        "        all_tokens.append(tokens)\n",
        "        all_masks.append(pad_masks)\n",
        "        all_segments.append(segment_ids)\n",
        "    \n",
        "    return np.array(all_tokens), np.array(all_masks), np.array(all_segments)"
      ],
      "execution_count": 0,
      "outputs": []
    },
    {
      "cell_type": "code",
      "metadata": {
        "id": "Dme1R0g5TIhi",
        "colab_type": "code",
        "colab": {}
      },
      "source": [
        "def build_model(bert_layer, max_len=512):\n",
        "    input_word_ids = Input(shape=(max_len,), dtype=tf.int32, name=\"input_word_ids\")\n",
        "    input_mask = Input(shape=(max_len,), dtype=tf.int32, name=\"input_mask\")\n",
        "    segment_ids = Input(shape=(max_len,), dtype=tf.int32, name=\"segment_ids\")\n",
        "\n",
        "    _, sequence_output = bert_layer([input_word_ids, input_mask, segment_ids])\n",
        "    clf_output = sequence_output[:, 0, :]\n",
        "    out = Dense(1, activation='sigmoid')(clf_output)\n",
        "    \n",
        "    model = Model(inputs=[input_word_ids, input_mask, segment_ids], outputs=out)\n",
        "    model.compile(Adam(lr=2e-6), loss='binary_crossentropy', metrics=['accuracy'])\n",
        "    \n",
        "    return model"
      ],
      "execution_count": 0,
      "outputs": []
    },
    {
      "cell_type": "code",
      "metadata": {
        "id": "3dAZ20U5Ts5y",
        "colab_type": "code",
        "outputId": "a40f3f96-8e2c-4d68-9bd3-587e849b8575",
        "colab": {
          "base_uri": "https://localhost:8080/",
          "height": 52
        }
      },
      "source": [
        "%%time\n",
        "module_url = \"https://tfhub.dev/tensorflow/bert_en_uncased_L-24_H-1024_A-16/1\"\n",
        "bert_layer = hub.KerasLayer(module_url, trainable=True)"
      ],
      "execution_count": 0,
      "outputs": [
        {
          "output_type": "stream",
          "text": [
            "CPU times: user 24.1 s, sys: 4.31 s, total: 28.4 s\n",
            "Wall time: 39.3 s\n"
          ],
          "name": "stdout"
        }
      ]
    },
    {
      "cell_type": "code",
      "metadata": {
        "id": "Zn7WA3ufTzfT",
        "colab_type": "code",
        "colab": {}
      },
      "source": [
        "import tokenization\n",
        "\n",
        "vocab_file = bert_layer.resolved_object.vocab_file.asset_path.numpy()\n",
        "do_lower_case = bert_layer.resolved_object.do_lower_case.numpy()\n",
        "tokenizer = tokenization.FullTokenizer(vocab_file, do_lower_case)"
      ],
      "execution_count": 0,
      "outputs": []
    },
    {
      "cell_type": "code",
      "metadata": {
        "id": "T4TQt1y4VBuo",
        "colab_type": "code",
        "colab": {}
      },
      "source": [
        "train = df[:-3263]\n",
        "test = df[-3263:]"
      ],
      "execution_count": 0,
      "outputs": []
    },
    {
      "cell_type": "code",
      "metadata": {
        "id": "OxdWo2cXUxY7",
        "colab_type": "code",
        "colab": {}
      },
      "source": [
        "train_input = bert_encode(train.final_text.values, tokenizer, max_len=160)\n",
        "test_input = bert_encode(test.final_text.values, tokenizer, max_len=160)\n",
        "train_labels = train.target.values"
      ],
      "execution_count": 0,
      "outputs": []
    },
    {
      "cell_type": "markdown",
      "metadata": {
        "id": "0NXqVbSQVp6D",
        "colab_type": "text"
      },
      "source": [
        "#### Build Model"
      ]
    },
    {
      "cell_type": "code",
      "metadata": {
        "id": "x1ZdxB6yViWb",
        "colab_type": "code",
        "outputId": "cc3f156d-9976-4cd5-9cd9-2d893d6bbe0a",
        "colab": {
          "base_uri": "https://localhost:8080/",
          "height": 402
        }
      },
      "source": [
        "model = build_model(bert_layer, max_len=160)\n",
        "model.summary()"
      ],
      "execution_count": 0,
      "outputs": [
        {
          "output_type": "stream",
          "text": [
            "Model: \"model\"\n",
            "__________________________________________________________________________________________________\n",
            "Layer (type)                    Output Shape         Param #     Connected to                     \n",
            "==================================================================================================\n",
            "input_word_ids (InputLayer)     [(None, 160)]        0                                            \n",
            "__________________________________________________________________________________________________\n",
            "input_mask (InputLayer)         [(None, 160)]        0                                            \n",
            "__________________________________________________________________________________________________\n",
            "segment_ids (InputLayer)        [(None, 160)]        0                                            \n",
            "__________________________________________________________________________________________________\n",
            "keras_layer (KerasLayer)        [(None, 1024), (None 335141889   input_word_ids[0][0]             \n",
            "                                                                 input_mask[0][0]                 \n",
            "                                                                 segment_ids[0][0]                \n",
            "__________________________________________________________________________________________________\n",
            "tf_op_layer_strided_slice (Tens [(None, 1024)]       0           keras_layer[0][1]                \n",
            "__________________________________________________________________________________________________\n",
            "dense (Dense)                   (None, 1)            1025        tf_op_layer_strided_slice[0][0]  \n",
            "==================================================================================================\n",
            "Total params: 335,142,914\n",
            "Trainable params: 335,142,913\n",
            "Non-trainable params: 1\n",
            "__________________________________________________________________________________________________\n"
          ],
          "name": "stdout"
        }
      ]
    },
    {
      "cell_type": "markdown",
      "metadata": {
        "id": "HYnOWP58PYVw",
        "colab_type": "text"
      },
      "source": [
        "### With adding keyword"
      ]
    },
    {
      "cell_type": "code",
      "metadata": {
        "id": "zNQ2Q8C9PcUX",
        "colab_type": "code",
        "outputId": "cb8c36c1-5967-4776-e232-d952c6fa0cfe",
        "colab": {
          "base_uri": "https://localhost:8080/",
          "height": 157
        }
      },
      "source": [
        "%%time\n",
        "train_history = model.fit(\n",
        "    train_input, train_labels,\n",
        "    validation_split=0.2,\n",
        "    epochs=3,\n",
        "    batch_size=2\n",
        ")"
      ],
      "execution_count": 0,
      "outputs": [
        {
          "output_type": "stream",
          "text": [
            "Epoch 1/3\n",
            "3045/3045 [==============================] - 522s 171ms/step - loss: 0.4332 - accuracy: 0.8143 - val_loss: 0.4044 - val_accuracy: 0.8365\n",
            "Epoch 2/3\n",
            "3045/3045 [==============================] - 521s 171ms/step - loss: 0.2808 - accuracy: 0.8878 - val_loss: 0.4215 - val_accuracy: 0.8194\n",
            "Epoch 3/3\n",
            "3045/3045 [==============================] - 520s 171ms/step - loss: 0.1392 - accuracy: 0.9527 - val_loss: 0.4660 - val_accuracy: 0.8175\n",
            "CPU times: user 17min 2s, sys: 8min 18s, total: 25min 21s\n",
            "Wall time: 26min 33s\n"
          ],
          "name": "stdout"
        }
      ]
    },
    {
      "cell_type": "markdown",
      "metadata": {
        "id": "WLUiyINDPUtL",
        "colab_type": "text"
      },
      "source": [
        "### Without adding keyword"
      ]
    },
    {
      "cell_type": "code",
      "metadata": {
        "id": "V2KjzIc_WhAd",
        "colab_type": "code",
        "outputId": "ad87e38d-0f1b-4f97-f7fa-2354fb0a393d",
        "colab": {
          "base_uri": "https://localhost:8080/",
          "height": 157
        }
      },
      "source": [
        "%%time\n",
        "train_history = model.fit(\n",
        "    train_input, train_labels,\n",
        "    validation_split=0.2,\n",
        "    epochs=3,\n",
        "    batch_size=2\n",
        ")"
      ],
      "execution_count": 0,
      "outputs": [
        {
          "output_type": "stream",
          "text": [
            "Epoch 1/3\n",
            "3045/3045 [==============================] - 1747s 574ms/step - loss: 0.4356 - accuracy: 0.8077 - val_loss: 0.3797 - val_accuracy: 0.8424\n",
            "Epoch 2/3\n",
            "3045/3045 [==============================] - 1737s 571ms/step - loss: 0.2723 - accuracy: 0.8943 - val_loss: 0.3924 - val_accuracy: 0.8313\n",
            "Epoch 3/3\n",
            "3045/3045 [==============================] - 1738s 571ms/step - loss: 0.1293 - accuracy: 0.9535 - val_loss: 0.4605 - val_accuracy: 0.8299\n",
            "CPU times: user 50min 35s, sys: 32min 15s, total: 1h 22min 50s\n",
            "Wall time: 1h 27min 24s\n"
          ],
          "name": "stdout"
        }
      ]
    },
    {
      "cell_type": "code",
      "metadata": {
        "id": "-EC0KHUJWopN",
        "colab_type": "code",
        "colab": {}
      },
      "source": [
        "model.save('Bertmodel.h5')"
      ],
      "execution_count": 0,
      "outputs": []
    },
    {
      "cell_type": "code",
      "metadata": {
        "id": "ZKwvcD3fojNL",
        "colab_type": "code",
        "colab": {}
      },
      "source": [
        "cp './Bertmodel.h5' '/content/gdrive/My Drive/Data Mining Project/Bertmodel.h5'"
      ],
      "execution_count": 0,
      "outputs": []
    },
    {
      "cell_type": "markdown",
      "metadata": {
        "id": "5EYja9RSLOnx",
        "colab_type": "text"
      },
      "source": [
        "## Submission"
      ]
    },
    {
      "cell_type": "code",
      "metadata": {
        "id": "VlEnfZxTLM_q",
        "colab_type": "code",
        "colab": {}
      },
      "source": [
        "submission=pd.read_csv('./sample_submission.csv')"
      ],
      "execution_count": 0,
      "outputs": []
    },
    {
      "cell_type": "code",
      "metadata": {
        "id": "9STbE_3qLQ-w",
        "colab_type": "code",
        "colab": {}
      },
      "source": [
        "test_pred = model.predict(test_input)\n",
        "submission['target'] = test_pred.round().astype(int)\n",
        "submission.to_csv('Bert+keyword_submission.csv', index=False)"
      ],
      "execution_count": 0,
      "outputs": []
    },
    {
      "cell_type": "code",
      "metadata": {
        "id": "j_jFWyOELScb",
        "colab_type": "code",
        "outputId": "fadb9789-b70e-4a77-b4a0-56f40b339737",
        "colab": {
          "base_uri": "https://localhost:8080/",
          "height": 204
        }
      },
      "source": [
        "submission.head()"
      ],
      "execution_count": 0,
      "outputs": [
        {
          "output_type": "execute_result",
          "data": {
            "text/html": [
              "<div>\n",
              "<style scoped>\n",
              "    .dataframe tbody tr th:only-of-type {\n",
              "        vertical-align: middle;\n",
              "    }\n",
              "\n",
              "    .dataframe tbody tr th {\n",
              "        vertical-align: top;\n",
              "    }\n",
              "\n",
              "    .dataframe thead th {\n",
              "        text-align: right;\n",
              "    }\n",
              "</style>\n",
              "<table border=\"1\" class=\"dataframe\">\n",
              "  <thead>\n",
              "    <tr style=\"text-align: right;\">\n",
              "      <th></th>\n",
              "      <th>id</th>\n",
              "      <th>target</th>\n",
              "    </tr>\n",
              "  </thead>\n",
              "  <tbody>\n",
              "    <tr>\n",
              "      <th>0</th>\n",
              "      <td>0</td>\n",
              "      <td>1</td>\n",
              "    </tr>\n",
              "    <tr>\n",
              "      <th>1</th>\n",
              "      <td>2</td>\n",
              "      <td>1</td>\n",
              "    </tr>\n",
              "    <tr>\n",
              "      <th>2</th>\n",
              "      <td>3</td>\n",
              "      <td>1</td>\n",
              "    </tr>\n",
              "    <tr>\n",
              "      <th>3</th>\n",
              "      <td>9</td>\n",
              "      <td>1</td>\n",
              "    </tr>\n",
              "    <tr>\n",
              "      <th>4</th>\n",
              "      <td>11</td>\n",
              "      <td>1</td>\n",
              "    </tr>\n",
              "  </tbody>\n",
              "</table>\n",
              "</div>"
            ],
            "text/plain": [
              "   id  target\n",
              "0  0   1     \n",
              "1  2   1     \n",
              "2  3   1     \n",
              "3  9   1     \n",
              "4  11  1     "
            ]
          },
          "metadata": {
            "tags": []
          },
          "execution_count": 30
        }
      ]
    },
    {
      "cell_type": "code",
      "metadata": {
        "id": "MAmCy97Hdamb",
        "colab_type": "code",
        "colab": {}
      },
      "source": [
        "!cp './Bert+keyword_submission.csv' '/content/gdrive/My Drive/Data Mining Project/Bert+keyword_submission.csv'"
      ],
      "execution_count": 0,
      "outputs": []
    },
    {
      "cell_type": "code",
      "metadata": {
        "id": "9doisXKMoGS5",
        "colab_type": "code",
        "outputId": "294efd91-98c3-43af-d9f0-c1af658724eb",
        "colab": {
          "base_uri": "https://localhost:8080/",
          "height": 419
        }
      },
      "source": [
        "submission"
      ],
      "execution_count": 0,
      "outputs": [
        {
          "output_type": "execute_result",
          "data": {
            "text/html": [
              "<div>\n",
              "<style scoped>\n",
              "    .dataframe tbody tr th:only-of-type {\n",
              "        vertical-align: middle;\n",
              "    }\n",
              "\n",
              "    .dataframe tbody tr th {\n",
              "        vertical-align: top;\n",
              "    }\n",
              "\n",
              "    .dataframe thead th {\n",
              "        text-align: right;\n",
              "    }\n",
              "</style>\n",
              "<table border=\"1\" class=\"dataframe\">\n",
              "  <thead>\n",
              "    <tr style=\"text-align: right;\">\n",
              "      <th></th>\n",
              "      <th>id</th>\n",
              "      <th>target</th>\n",
              "    </tr>\n",
              "  </thead>\n",
              "  <tbody>\n",
              "    <tr>\n",
              "      <th>0</th>\n",
              "      <td>0</td>\n",
              "      <td>1</td>\n",
              "    </tr>\n",
              "    <tr>\n",
              "      <th>1</th>\n",
              "      <td>2</td>\n",
              "      <td>1</td>\n",
              "    </tr>\n",
              "    <tr>\n",
              "      <th>2</th>\n",
              "      <td>3</td>\n",
              "      <td>1</td>\n",
              "    </tr>\n",
              "    <tr>\n",
              "      <th>3</th>\n",
              "      <td>9</td>\n",
              "      <td>1</td>\n",
              "    </tr>\n",
              "    <tr>\n",
              "      <th>4</th>\n",
              "      <td>11</td>\n",
              "      <td>1</td>\n",
              "    </tr>\n",
              "    <tr>\n",
              "      <th>...</th>\n",
              "      <td>...</td>\n",
              "      <td>...</td>\n",
              "    </tr>\n",
              "    <tr>\n",
              "      <th>3258</th>\n",
              "      <td>10861</td>\n",
              "      <td>0</td>\n",
              "    </tr>\n",
              "    <tr>\n",
              "      <th>3259</th>\n",
              "      <td>10865</td>\n",
              "      <td>1</td>\n",
              "    </tr>\n",
              "    <tr>\n",
              "      <th>3260</th>\n",
              "      <td>10868</td>\n",
              "      <td>1</td>\n",
              "    </tr>\n",
              "    <tr>\n",
              "      <th>3261</th>\n",
              "      <td>10874</td>\n",
              "      <td>1</td>\n",
              "    </tr>\n",
              "    <tr>\n",
              "      <th>3262</th>\n",
              "      <td>10875</td>\n",
              "      <td>1</td>\n",
              "    </tr>\n",
              "  </tbody>\n",
              "</table>\n",
              "<p>3263 rows × 2 columns</p>\n",
              "</div>"
            ],
            "text/plain": [
              "         id  target\n",
              "0     0      1     \n",
              "1     2      1     \n",
              "2     3      1     \n",
              "3     9      1     \n",
              "4     11     1     \n",
              "...   ..    ..     \n",
              "3258  10861  0     \n",
              "3259  10865  1     \n",
              "3260  10868  1     \n",
              "3261  10874  1     \n",
              "3262  10875  1     \n",
              "\n",
              "[3263 rows x 2 columns]"
            ]
          },
          "metadata": {
            "tags": []
          },
          "execution_count": 32
        }
      ]
    },
    {
      "cell_type": "code",
      "metadata": {
        "id": "Cc7kTg4ZP8uW",
        "colab_type": "code",
        "colab": {}
      },
      "source": [
        ""
      ],
      "execution_count": 0,
      "outputs": []
    }
  ]
}